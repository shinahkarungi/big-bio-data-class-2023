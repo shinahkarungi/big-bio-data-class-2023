{
  "cells": [
    {
      "attachments": {},
      "cell_type": "markdown",
      "metadata": {
        "id": "aTz0cvx7Iex3"
      },
      "source": [
        "Numpy Assignment\n",
        "Student Name: Kevin Cissy Nabukeera\n",
        "\n",
        "Reg No: 2022/HD07/2047U\n",
        "Instructions:\n",
        "- Please complete the questions below.\n",
        "- Please comment your code indicating how you approached the problem"
      ]
    },
    {
      "attachments": {},
      "cell_type": "markdown",
      "metadata": {},
      "source": [
        "What is NumPy, and what are some of its key features?\n",
        "\n",
        "NumPy is a Numerical Python that provides an efficient interface to store and operate on dense data buffers.\n",
        "Key Features of NumPy include; \n",
        "Linear algebra\n",
        "Fourier transforms\n",
        "Pseudorandom number generators\n",
        "Mutlidimensional arrays"
      ]
    },
    {
      "attachments": {},
      "cell_type": "markdown",
      "metadata": {},
      "source": [
        "How do you create a NumPy array using Python's built-in range() function?\n",
        "\n",
        "After importing NumPy as np, np.array is used to create an array.\n",
        "To create a range of integers range() is used in np.array"
      ]
    },
    {
      "cell_type": "code",
      "execution_count": 15,
      "metadata": {},
      "outputs": [
        {
          "name": "stdout",
          "output_type": "stream",
          "text": [
            "[ 0  1  2  3  4  5  6  7  8  9 10 11 12 13 14 15 16 17 18 19]\n"
          ]
        }
      ],
      "source": [
        "#import NumPy\n",
        "import numpy as np\n",
        "# To create x as a range of 20 integers\n",
        "x = np.array(range(20))\n",
        "print(x)"
      ]
    },
    {
      "attachments": {},
      "cell_type": "markdown",
      "metadata": {
        "id": "DRVy8tPoJHQr"
      },
      "source": [
        "What is the difference between a scalar value and a vector in NumPy?\n",
        "\n",
        "A scalar value is a single value with no dimension while a vector is a one dimensional array of values"
      ]
    },
    {
      "cell_type": "code",
      "execution_count": 30,
      "metadata": {},
      "outputs": [
        {
          "name": "stdout",
          "output_type": "stream",
          "text": [
            "10\n",
            "[ 1  2  3  4  5  6  7  8  9 10]\n"
          ]
        }
      ],
      "source": [
        "# An Example of a scalar value\n",
        "Districts = np.array(10)\n",
        "# An example of vector\n",
        "No_districts = np.array([1,2,3,4,5,6,7,8,9,10])\n",
        "print(Districts)\n",
        "print(No_districts)"
      ]
    },
    {
      "attachments": {},
      "cell_type": "markdown",
      "metadata": {
        "id": "lHa-pHerJKd0"
      },
      "source": [
        "How do you calculate the mean of a NumPy array using the mean() function?\n",
        "\n",
        "Using np.mean we can calculate the mean of a NumPy array. Here is an example"
      ]
    },
    {
      "cell_type": "code",
      "execution_count": 7,
      "metadata": {},
      "outputs": [
        {
          "name": "stdout",
          "output_type": "stream",
          "text": [
            "4.5\n"
          ]
        }
      ],
      "source": [
        "# import NumPy \n",
        "import numpy as np\n",
        "# x is equal to integers in the range of 10\n",
        "x = np.mean(range(10))\n",
        "# calculate the mean of the values in the range(10)\n",
        "print(x)"
      ]
    },
    {
      "attachments": {},
      "cell_type": "markdown",
      "metadata": {
        "id": "EqpLGTh8JON9"
      },
      "source": [
        "What is broadcasting in NumPy, and how can it be useful?\n",
        "\n",
        "Broadcasting is the use of arrays with different shapes in arithmetic operations, without the need for explicit expansion or copying of the arrays. \n",
        "Broadcasting allows for efficient computations and simplifies the code, as it eliminates the need to manually align arrays with compatible shapes. For example arrays of different shapes can be added"
      ]
    },
    {
      "cell_type": "code",
      "execution_count": 8,
      "metadata": {},
      "outputs": [
        {
          "name": "stdout",
          "output_type": "stream",
          "text": [
            "[1 2]\n",
            "[[3]\n",
            " [4]\n",
            " [5]]\n",
            "[[4 5]\n",
            " [5 6]\n",
            " [6 7]]\n"
          ]
        }
      ],
      "source": [
        "import numpy as np\n",
        "x = np.array([1,2])\n",
        "y = np.array([[3],[4],[5]])\n",
        "# x and y have different shapes and we want to create a variable z that contains both x any y\n",
        "z = x + y\n",
        "print(x)\n",
        "print(y)\n",
        "print(z)\n"
      ]
    },
    {
      "attachments": {},
      "cell_type": "markdown",
      "metadata": {
        "id": "h0cD5yNcJQkm"
      },
      "source": [
        "How do you create a 2D array in NumPy using Python's built-in list of lists?\n",
        "\n",
        "Use the list of lists in a NumPy array. \n"
      ]
    },
    {
      "cell_type": "code",
      "execution_count": 9,
      "metadata": {},
      "outputs": [
        {
          "name": "stdout",
          "output_type": "stream",
          "text": [
            "[[1 2]\n",
            " [3 4]]\n"
          ]
        }
      ],
      "source": [
        "import numpy as np\n",
        "x = np.array([[1,2],[3,4]])\n",
        "print(x)"
      ]
    },
    {
      "attachments": {},
      "cell_type": "markdown",
      "metadata": {
        "id": "bbLfBXwCJVwX"
      },
      "source": [
        "How can you slice a NumPy array to extract a subarray?\n",
        "\n",
        "First creat an NumPy array that is dimensional, then slice it"
      ]
    },
    {
      "cell_type": "code",
      "execution_count": 10,
      "metadata": {},
      "outputs": [
        {
          "name": "stdout",
          "output_type": "stream",
          "text": [
            "[[1 2 3]\n",
            " [5 4 6]]\n",
            "[[1 2]\n",
            " [5 4]]\n"
          ]
        }
      ],
      "source": [
        "import numpy as np\n",
        "y = np.array([[1,2,3],[5,4,6]])\n",
        "print(y)\n",
        "# To slice\n",
        "sub_array = y[:2, :2]\n",
        "print(sub_array)\n"
      ]
    },
    {
      "attachments": {},
      "cell_type": "markdown",
      "metadata": {
        "id": "c1jTMq5AJbS2"
      },
      "source": [
        "What are some of the available functions for performing element-wise operations on NumPy arrays?\n",
        "\n",
        "numpy.add():  Adds corresponding elements in two arrays.\n",
        "numpy.subtract():  Subtracts corresponding elements in two arrays.\n",
        "numpy.multiply():  Multiplies corresponding elements in two arrays.\n",
        "numpy.divide():  Divides corresponding elements in two arrays.\n",
        "numpy.power():  Raises corresponding elements in an array to a specified power.\n",
        "numpy.sqrt():  Computes the square root of each element in an array.\n",
        "numpy.exp():  Computes the exponential of each element in an array.\n",
        "numpy.log():  Computes the natural logarithm of each element in an array."
      ]
    },
    {
      "attachments": {},
      "cell_type": "markdown",
      "metadata": {
        "id": "dPgmCPERJe_2"
      },
      "source": [
        "How do you reshape a NumPy array to have a different shape?\n",
        "\n",
        "By using the reshape option to change the array to a dimension"
      ]
    },
    {
      "cell_type": "code",
      "execution_count": 11,
      "metadata": {},
      "outputs": [
        {
          "name": "stdout",
          "output_type": "stream",
          "text": [
            "[[0 1 2 3 4]\n",
            " [5 6 7 8 9]]\n"
          ]
        }
      ],
      "source": [
        "x = np.arange(10).reshape((2,5))\n",
        "print(x)"
      ]
    },
    {
      "attachments": {},
      "cell_type": "markdown",
      "metadata": {
        "id": "oon90JvgJhvv"
      },
      "source": [
        "How do you perform matrix multiplication on two NumPy arrays using the dot() function?\n",
        "\n",
        "The dot() function  takes two matrices of the same shape and returns their matrix multiplication"
      ]
    },
    {
      "cell_type": "code",
      "execution_count": 12,
      "metadata": {},
      "outputs": [
        {
          "data": {
            "text/plain": [
              "array([[22, 25],\n",
              "       [58, 66]])"
            ]
          },
          "execution_count": 12,
          "metadata": {},
          "output_type": "execute_result"
        }
      ],
      "source": [
        "x = np.array([[1,2],[3,5]])\n",
        "y = np.array([[6,7],[8,9]])\n",
        "# using the dot() function\n",
        "z = np.dot(x, y)\n",
        "z"
      ]
    },
    {
      "attachments": {},
      "cell_type": "markdown",
      "metadata": {
        "id": "JtbVS5P0Jodg"
      },
      "source": [
        "How can you use the where() function to apply a condition to a NumPy array?\n",
        "\n",
        "The where() function in NumPy is used to return an array with elements chosen from two input arrays based on a specified condition. It takes three arguments; the condition that specifies which elements to select from the input arrays, the array that is selected where the condition is True, and the array that is selected where the condition is False."
      ]
    },
    {
      "cell_type": "code",
      "execution_count": 13,
      "metadata": {},
      "outputs": [
        {
          "name": "stdout",
          "output_type": "stream",
          "text": [
            "[ 1 -2 -2 -2]\n"
          ]
        }
      ],
      "source": [
        "import numpy as np\n",
        "x = np.array([1,2,3,4])\n",
        "#Define the condition\n",
        "condition = np.array([True, False,False, False])\n",
        "# applying where()\n",
        "result = np.where(condition,x, -2)\n",
        "# The above replaces False with -2\n",
        "print(result)\n"
      ]
    },
    {
      "attachments": {},
      "cell_type": "markdown",
      "metadata": {
        "id": "UkJ-LQlhJrMA"
      },
      "source": [
        "What is the difference between the flatten() and ravel() functions in NumPy?\n",
        "\n",
        "Both flatten() and ravel() functions in NumPy are used to flatten multi-dimensional arrays into one-dimensional arrays.\n",
        "Flatten() always returns a copy of the input array.\n",
        "Ravel() returns a view of the input array whenever possible"
      ]
    },
    {
      "cell_type": "code",
      "execution_count": 14,
      "metadata": {},
      "outputs": [
        {
          "name": "stdout",
          "output_type": "stream",
          "text": [
            "[1 2 3 4]\n",
            "[5 2 3 4]\n"
          ]
        }
      ],
      "source": [
        "#Using the previous array\n",
        "x = np.array([[1,2],[3,4]])\n",
        "# flatten()\n",
        "x_flattened = x.flatten()\n",
        "#ravel()\n",
        "x_ravelled = x.ravel()\n",
        "# modify the x array\n",
        "x[0, 0] = 5\n",
        "print(x_flattened)\n",
        "print(x_ravelled)"
      ]
    },
    {
      "attachments": {},
      "cell_type": "markdown",
      "metadata": {
        "id": "5cf9aukfJsaB"
      },
      "source": [
        "How do you use NumPy's advanced indexing capabilities to select specific elements from an array?\n",
        "\n",
        "NumPy's advanced indexing capabilities allow you to select specific elements from an array by using arrays of indices or Boolean masks\n"
      ]
    },
    {
      "cell_type": "code",
      "execution_count": 15,
      "metadata": {},
      "outputs": [
        {
          "name": "stdout",
          "output_type": "stream",
          "text": [
            "[2 5]\n"
          ]
        }
      ],
      "source": [
        "import numpy as np\n",
        "x = np.array([[1, 2], [3, 4], [5, 6]])\n",
        "# create an array of row indices\n",
        "row_indices = np.array([0, 2])\n",
        "# create an array of column indices\n",
        "col_indices = np.array([1, 0])\n",
        "# use advanced indexing to select specific elements\n",
        "selected_specific_elements = x[row_indices, col_indices]\n",
        "print(selected_specific_elements)"
      ]
    },
    {
      "attachments": {},
      "cell_type": "markdown",
      "metadata": {
        "id": "b2NpOnu2JxMp"
      },
      "source": [
        "How can you use NumPy's broadcasting rules to perform operations on arrays with different shapes?\n",
        "\n",
        "Broadcasting on arrays with different shapes allows to perform element-wise operations. The broadcasting rules work by adding new dimensions to the smaller array until the shapes.\n",
        "\n",
        "Broadcasting with arrays of different dimensions by adding dimensions of size 1 to the smaller array.\n",
        "\n",
        "Broadcasting with scalar values to arrays of any shape"
      ]
    },
    {
      "attachments": {},
      "cell_type": "markdown",
      "metadata": {
        "id": "vS-gg1ZrJ8s6"
      },
      "source": [
        "How do you perform element-wise division of two NumPy arrays while ignoring divide-by-zero errors?\n",
        "\n",
        "use the numpy.divide() function along with the numpy.errstate()"
      ]
    },
    {
      "cell_type": "code",
      "execution_count": 16,
      "metadata": {},
      "outputs": [
        {
          "name": "stdout",
          "output_type": "stream",
          "text": [
            "[       inf 2.         1.5        1.33333333        inf]\n"
          ]
        }
      ],
      "source": [
        "import numpy as np\n",
        "x = np.array([1, 2, 3, 4, 5])\n",
        "y = np.array([0, 1, 2, 3, 0])\n",
        "# temporarily sets the behavior of NumPy's error handling system for the division operation to \"ignore\" any divide-by-zero\n",
        "with np.errstate(divide='ignore', invalid='ignore'):\n",
        "    z = np.divide(x, y)\n",
        "print(z)"
      ]
    },
    {
      "cell_type": "markdown",
      "metadata": {
        "id": "XgeHrSj7KzTj"
      },
      "source": [
        "### Project: Array Statistics Calculator\n",
        "**Description:**\n",
        "\n",
        "In this project, you will create a program that allows a user to enter a list of numbers, and then calculates and displays various statistics about those numbers using NumPy.\n",
        "\n",
        "**Requirements:**\n",
        "\n",
        "- The program should prompt the user to enter a list of numbers separated by commas.\n",
        "- The program should use NumPy to convert the input into a 1D NumPy array.\n",
        "- The program should calculate and display the following statistics:\n",
        "- The mean of the numbers\n",
        "- The median of the numbers\n",
        "- The standard deviation of the numbers\n",
        "- The maximum and minimum values of the numbers\n",
        "- The program should use appropriate NumPy functions to calculate the statistics.\n",
        "- The program should display the statistics with appropriate labels.\n",
        "\n",
        "### Sample Output\n",
        "```\n",
        "Enter a list of numbers separated by commas: 2, 5, 7, 3, 1, 9\n",
        "Statistics for the input array:\n",
        "Mean: 4.5\n",
        "Median: 4.0\n",
        "Standard Deviation: 2.9154759474226504\n",
        "Maximum: 9\n",
        "Minimum: 1\n",
        "```"
      ]
    },
    {
      "cell_type": "code",
      "execution_count": 21,
      "metadata": {},
      "outputs": [
        {
          "name": "stdout",
          "output_type": "stream",
          "text": [
            "Mean:  3.5\n",
            "Median:  3.5\n",
            "Standard Deviation:  1.707825127659933\n",
            "Maximum value:  6\n",
            "Minimum value:  1\n"
          ]
        }
      ],
      "source": [
        "import numpy as np\n",
        "# Prompt the user to enter a list of numbers separated by commas\n",
        "input_str = input(\"Enter a list of numbers separated by commas: \")\n",
        "# Convert the input into a 1D NumPy array\n",
        "nums = np.fromstring(input_str, dtype=int, sep=',')\n",
        "# Calculate the mean of the numbers\n",
        "mean = np.mean(nums)\n",
        "# Calculate the median of the numbers\n",
        "median = np.median(nums)\n",
        "# Calculate the standard deviation of the numbers\n",
        "std = np.std(nums)\n",
        "# Calculate the maximum value of the numbers\n",
        "max_val = np.max(nums)\n",
        "# Calculate the minimum value of the numbers\n",
        "min_val = np.min(nums)\n",
        "# Display the statistics with appropriate labels\n",
        "print(\"Mean: \", mean)\n",
        "print(\"Median: \", median)\n",
        "print(\"Standard Deviation: \", std)\n",
        "print(\"Maximum value: \", max_val)\n",
        "print(\"Minimum value: \", min_val)"
      ]
    }
  ],
  "metadata": {
    "colab": {
      "provenance": []
    },
    "kernelspec": {
      "display_name": "Python 3",
      "name": "python3"
    },
    "language_info": {
      "codemirror_mode": {
        "name": "ipython",
        "version": 3
      },
      "file_extension": ".py",
      "mimetype": "text/x-python",
      "name": "python",
      "nbconvert_exporter": "python",
      "pygments_lexer": "ipython3",
      "version": "3.7.4"
    }
  },
  "nbformat": 4,
  "nbformat_minor": 0
}
