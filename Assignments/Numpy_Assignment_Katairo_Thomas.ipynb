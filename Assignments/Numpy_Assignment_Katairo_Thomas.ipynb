{
  "cells": [
    {
      "attachments": {},
      "cell_type": "markdown",
      "metadata": {
        "id": "aTz0cvx7Iex3"
      },
      "source": [
        "## Numpy Assignment\n",
        "Student Name: Katairo Thomas\n",
        "\n",
        "Reg No: N/A\n",
        "\n",
        "## Instructions:\n",
        "- Please complete the questions below.\n",
        "- Please comment your code indicating how you approached the problem"
      ]
    },
    {
      "attachments": {},
      "cell_type": "markdown",
      "metadata": {},
      "source": [
        "### What is NumPy, and what are some of its key features?\n",
        "\n",
        "NumPy  is a Python library used for numerical computations and scientific computing. It provides support for large, multi-dimensional arrays and matrices, along with a large collection of mathematical functions to operate on these arrays.\n",
        "\n",
        "Some of the features of NumPy include\n",
        "1. ndarray: This is used to represent arrays of arbitrary dimensions\n",
        "2. Mathematical functions: Numpy provides different mathematical functions for performing operations on arrays, such as addition, subtraction, multiplication, division and more\n",
        "3. Broadcasting\n",
        "4. Indexing and slicing\n",
        "5. Linear algebra\n",
        "6. Random number generation\n",
        "7. Memory management"
      ]
    },
    {
      "attachments": {},
      "cell_type": "markdown",
      "metadata": {},
      "source": [
        "### How do you create a NumPy array using Python's built-in range() function?\n",
        "\n"
      ]
    },
    {
      "cell_type": "code",
      "execution_count": 2,
      "metadata": {},
      "outputs": [
        {
          "name": "stdout",
          "output_type": "stream",
          "text": [
            "[0 1 2 3 4 5 6 7 8 9]\n"
          ]
        }
      ],
      "source": [
        "import numpy as np # Call up numpy\n",
        "a = np.array(range(10)) # Make an array of range 10\n",
        "print(a)\n"
      ]
    },
    {
      "attachments": {},
      "cell_type": "markdown",
      "metadata": {},
      "source": [
        "### What is the difference between a scalar value and a vector in NumPy?\n",
        "\n",
        "A scalar value is a single value or number, such as an integer or a floating-point number, that can be represented using a single data type. This has 0 dimensional array\n",
        "\n",
        "A vector is a collection of values, often of the same data type, that are organized in a specific order. A vector is a 1-dimensional array. \n",
        "\n",
        "How to create these 2 can be done as below"
      ]
    },
    {
      "cell_type": "code",
      "execution_count": 3,
      "metadata": {},
      "outputs": [
        {
          "name": "stdout",
          "output_type": "stream",
          "text": [
            "42\n",
            "[1 2 3 4 5]\n"
          ]
        }
      ],
      "source": [
        "b = np.array(42) # For scalar\n",
        "print(b)\n",
        "\n",
        "c = np.array([1,2,3,4,5]) # For vector\n",
        "print(c)"
      ]
    },
    {
      "attachments": {},
      "cell_type": "markdown",
      "metadata": {},
      "source": [
        "### How to calculate the mean using the mean() function"
      ]
    },
    {
      "cell_type": "code",
      "execution_count": 9,
      "metadata": {},
      "outputs": [
        {
          "name": "stdout",
          "output_type": "stream",
          "text": [
            "3.0\n"
          ]
        }
      ],
      "source": [
        "d = c.mean()\n",
        "print(d)"
      ]
    },
    {
      "attachments": {},
      "cell_type": "markdown",
      "metadata": {},
      "source": [
        "### What is broadcasting in NumPy, and how can it be useful?\n",
        "\n",
        "Broadcasting is a feature in NumPy that allows arrays of different shapes to be used together in arithmetic operations. This is a set of rules that apply when performing operations on arrays with different shapes, allowing NumPy to perform the operation even if the arrays have different sizes or shapes.\n",
        "\n",
        "When operating on two arrays, NumPy compares their shapes element-wise, starting with the rightmost dimension and working backwards. Two dimensions are considered compatible if they are equal, or if one of them is 1. If the dimensions are not compatible, NumPy will generate a \"ValueError\" indicating that the shapes are not compatible.\n"
      ]
    },
    {
      "attachments": {},
      "cell_type": "markdown",
      "metadata": {},
      "source": [
        "### How do you create a 2D array in NumPy using Python's built-in list of lists?"
      ]
    },
    {
      "cell_type": "code",
      "execution_count": 10,
      "metadata": {},
      "outputs": [
        {
          "name": "stdout",
          "output_type": "stream",
          "text": [
            "[[1 2]\n",
            " [3 4]]\n"
          ]
        }
      ],
      "source": [
        "e = np.array([[1,2], [3,4]])\n",
        "print(e)"
      ]
    },
    {
      "attachments": {},
      "cell_type": "markdown",
      "metadata": {},
      "source": [
        "### How can you slice a NumPy array to extract a subarray?\n",
        "\n",
        "This can be done by specifying the indices to be extracted using the syntax [start:stop:step]. Start is where you want to start from, stop is the stop index and step is the jumping side. An example is below"
      ]
    },
    {
      "cell_type": "code",
      "execution_count": 15,
      "metadata": {},
      "outputs": [
        {
          "name": "stdout",
          "output_type": "stream",
          "text": [
            "[[1 2 3]\n",
            " [4 5 6]]\n"
          ]
        }
      ],
      "source": [
        "f = np.array([[1,2,3], [4,5,6],[7,8,9]])\n",
        "g = f[:2, :3] # Extract the first 2 rows and 3 columns\n",
        "print(g)"
      ]
    },
    {
      "attachments": {},
      "cell_type": "markdown",
      "metadata": {},
      "source": [
        "### What are some of the available functions for performing element-wise operations on NumPy arrays?\n",
        "\n",
        "1. Arithmetic operations:\n",
        "   np.add(): add arrays element-wise\n",
        "\n",
        "   np.subtract(): subtract arrays element-wise\n",
        "\n",
        "   np.multiply(): multiply arrays element-wise\n",
        "\n",
        "   np.divide(): divide arrays element-wise\n",
        "   \n",
        "   np.power(): raise arrays to a power element-wise\n",
        "\n",
        "2. Trigonometric functions:\n",
        "   \n",
        "   np.sin(): compute sine element-wise\n",
        "   \n",
        "   np.cos(): compute cosine element-wise\n",
        "   \n",
        "   np.tan(): compute tangent element-wise\n",
        "   \n",
        "   np.arcsin(): compute inverse sine element-wise\n",
        "   \n",
        "   np.arccos(): compute inverse cosine element-wise\n",
        "   \n",
        "   np.arctan(): compute inverse tangent element-wise\n",
        "\n",
        "3. Exponential and logarithmic functions:\n",
        " \n",
        "   np.exp(): compute exponential element-wise\n",
        "   \n",
        "   np.log(): compute natural logarithm element-wise\n",
        "   \n",
        "   np.log10(): compute base-10 logarithm element-wise\n",
        "   \n",
        "   np.log2(): compute base-2 logarithm element-wise\n",
        "\n",
        "1. Other functions:\n",
        "   \n",
        "   np.abs(): compute absolute values element-wise\n",
        "   \n",
        "   np.sqrt(): compute square roots element-wise\n",
        "   \n",
        "   np.round(): round elements to"
      ]
    },
    {
      "attachments": {},
      "cell_type": "markdown",
      "metadata": {},
      "source": [
        "### How do you reshape a NumPy array to have a different shape?\n",
        "\n",
        "We can use the reshape() method like in the code below"
      ]
    },
    {
      "cell_type": "code",
      "execution_count": 16,
      "metadata": {},
      "outputs": [
        {
          "name": "stdout",
          "output_type": "stream",
          "text": [
            "[[0 1 2]\n",
            " [3 4 5]\n",
            " [6 7 8]]\n"
          ]
        }
      ],
      "source": [
        "h = np.array([0, 1, 2, 3, 4, 5, 6, 7, 8])\n",
        "i = h.reshape(3, 3)\n",
        "print(i)"
      ]
    },
    {
      "attachments": {},
      "cell_type": "markdown",
      "metadata": {},
      "source": [
        "### How do you perform matrix multiplication on two NumPy arrays using the dot() function?"
      ]
    },
    {
      "cell_type": "code",
      "execution_count": 19,
      "metadata": {},
      "outputs": [
        {
          "name": "stdout",
          "output_type": "stream",
          "text": [
            "[[ 58  64]\n",
            " [139 154]]\n"
          ]
        }
      ],
      "source": [
        "# Create two NumPy arrays of dimensions 2x3 and 3x2\n",
        "j = np.array([[1, 2, 3], [4, 5, 6]])\n",
        "k = np.array([[7, 8], [9, 10], [11, 12]])\n",
        "\n",
        "# Perform matrix multiplication using dot()\n",
        "l = np.dot(j, k)\n",
        "\n",
        "# Print the result\n",
        "print(l)"
      ]
    },
    {
      "attachments": {},
      "cell_type": "markdown",
      "metadata": {},
      "source": [
        "### How can you use the where() function to apply a condition to a NumPy array?\n",
        "\n",
        "The where() function in NumPy can be used to apply a condition to a NumPy array and return a new array with values based on the condition."
      ]
    },
    {
      "cell_type": "code",
      "execution_count": 22,
      "metadata": {},
      "outputs": [
        {
          "name": "stdout",
          "output_type": "stream",
          "text": [
            "[0 0 3 4 5]\n"
          ]
        }
      ],
      "source": [
        "m = np.array([1, 2, 3, 4, 5]) # Create a NumPy array\n",
        "\n",
        "n = np.where(m > 2, m, 0) # Apply a condition to the array\n",
        "\n",
        "print(n)"
      ]
    },
    {
      "attachments": {},
      "cell_type": "markdown",
      "metadata": {},
      "source": [
        "### What is the difference between the flatten() and ravel() functions in NumPy?\n",
        "\n",
        "Both flatten() and ravel() can be used to flatten multi-dimensional arrays into a 1D array. However, the differences between the two are:\n",
        "\n",
        "1. Flatten() returns a copy of the array, whereas ravel() returns a view of the array. This means that changes made to the returned array in ravel() will be reflected in the original array, whereas changes made in flatten() will not.\n",
        "\n",
        "2. Flatten() always returns a copy of the original array, even if the original array is already one-dimensional. ravel(), on the other hand, returns a view of the original array if possible, which can be faster and more memory-efficient. An example is below"
      ]
    },
    {
      "cell_type": "code",
      "execution_count": 28,
      "metadata": {},
      "outputs": [
        {
          "name": "stdout",
          "output_type": "stream",
          "text": [
            "[1 2 3 3 4 4]\n",
            "[5 2 3 3 4 4]\n"
          ]
        }
      ],
      "source": [
        "# create a 2D array\n",
        "arr = np.array([[1, 2, 3], [3, 4, 4]])\n",
        "# use flatten() function to create a new flattened array\n",
        "arr_flattened = arr.flatten()\n",
        "\n",
        "arr_raveled = arr.ravel()\n",
        "# modify original array\n",
        "arr[0, 0] = 5\n",
        "print(arr_flattened)\n",
        "print(arr_raveled)"
      ]
    },
    {
      "attachments": {},
      "cell_type": "markdown",
      "metadata": {},
      "source": [
        "### How do you use NumPy's advanced indexing capabilities to select specific elements from an array?\n",
        "There are 2 types of NumPy's advanced indexing capabilities. These include\n",
        "1. Integer indexing: Using an array of integers to select specific elements from an array\n",
        "2. Boolean indexing: We can use boolean values to select specific elements from an array"
      ]
    },
    {
      "cell_type": "code",
      "execution_count": 31,
      "metadata": {},
      "outputs": [
        {
          "name": "stdout",
          "output_type": "stream",
          "text": [
            "[1 4]\n",
            "[3 4 5 6]\n"
          ]
        }
      ],
      "source": [
        "# For integer indexing\n",
        "arr = np.array([[1, 2], [3, 4], [5, 6]])\n",
        "print(arr[[0, 1], [0, 1]])\n",
        "\n",
        "\n",
        "# For Boolean indexing\n",
        "arr = np.array([[1, 2], [3, 4], [5, 6]])\n",
        "mask = arr > 2\n",
        "print(arr[mask]) "
      ]
    },
    {
      "attachments": {},
      "cell_type": "markdown",
      "metadata": {},
      "source": [
        "### How can you use NumPy's broadcasting rules to perform operations on arrays with different shapes?\n",
        "\n",
        "NumPy's broadcasting rules allow the performance of element-wise operations on arrays with different shapes. This is a powerful feature of NumPy that enables you to perform operations on arrays of different sizes and shapes without having to create a new copy of the data.\n",
        "\n",
        "The broadcasting rules in NumPy are as follows:\n",
        "\n",
        "1. If two arrays have the same shape, they can be operated on element-wise.\n",
        "2. If two arrays have different shapes, but the dimensions of the arrays are compatible, NumPy will broadcast the smaller array over the larger array to make the shapes compatible.\n",
        "3. If two arrays have different shapes and are not broadcastable, NumPy will raise a ValueError."
      ]
    },
    {
      "attachments": {},
      "cell_type": "markdown",
      "metadata": {},
      "source": [
        "### How do you perform element-wise division of two NumPy arrays while ignoring divide-by-zero errors?\n",
        "\n",
        "We can use the numpy.divide() function with the numpy.errstate() context manager. The code is below\n",
        "\n"
      ]
    },
    {
      "cell_type": "code",
      "execution_count": 32,
      "metadata": {},
      "outputs": [
        {
          "name": "stdout",
          "output_type": "stream",
          "text": [
            "[inf  1. inf]\n"
          ]
        }
      ],
      "source": [
        "a = np.array([1, 2, 3])\n",
        "b = np.array([0, 2, 0])\n",
        "\n",
        "with np.errstate(divide='ignore', invalid='ignore'):\n",
        "    c = np.divide(a, b)\n",
        "\n",
        "print(c)"
      ]
    },
    {
      "cell_type": "markdown",
      "metadata": {
        "id": "XgeHrSj7KzTj"
      },
      "source": [
        "### Project: Array Statistics Calculator\n",
        "**Description:**\n",
        "\n",
        "In this project, you will create a program that allows a user to enter a list of numbers, and then calculates and displays various statistics about those numbers using NumPy.\n",
        "\n",
        "**Requirements:**\n",
        "\n",
        "- The program should prompt the user to enter a list of numbers separated by commas.\n",
        "- The program should use NumPy to convert the input into a 1D NumPy array.\n",
        "- The program should calculate and display the following statistics:\n",
        "- The mean of the numbers\n",
        "- The median of the numbers\n",
        "- The standard deviation of the numbers\n",
        "- The maximum and minimum values of the numbers\n",
        "- The program should use appropriate NumPy functions to calculate the statistics.\n",
        "- The program should display the statistics with appropriate labels.\n",
        "\n",
        "### Sample Output\n",
        "```\n",
        "Enter a list of numbers separated by commas: 2, 5, 7, 3, 1, 9\n",
        "Statistics for the input array:\n",
        "Mean: 4.5\n",
        "Median: 4.0\n",
        "Standard Deviation: 2.9154759474226504\n",
        "Maximum: 9\n",
        "Minimum: 1\n",
        "```"
      ]
    },
    {
      "cell_type": "code",
      "execution_count": 33,
      "metadata": {
        "id": "xQU4w-RxLgWZ"
      },
      "outputs": [
        {
          "name": "stdout",
          "output_type": "stream",
          "text": [
            "Mean:  15.375\n",
            "Median:  11.5\n",
            "Standarx Deviation:  13.378504213849917\n",
            "Maximum value:  47\n",
            "Minimum value:  2\n"
          ]
        }
      ],
      "source": [
        "numbers = input(\"Enter the numbers you want to calculate for separated by a comma: \")\n",
        "nums = np.fromstring(numbers, dtype=int, sep=',')\n",
        "mean = np.mean(nums) # Get mean\n",
        "median = np.median(nums) #Get median\n",
        "sd = np.std(nums) #Get standard deviation\n",
        "max = np.max(nums) #Get maximum value\n",
        "min = np.min(nums) #Get minimum value\n",
        "\n",
        "print(\"Mean: \", mean)\n",
        "print(\"Median: \", median)\n",
        "print(\"Standarx Deviation: \", sd)\n",
        "print(\"Maximum value: \", max)\n",
        "print(\"Minimum value: \", min)"
      ]
    }
  ],
  "metadata": {
    "colab": {
      "provenance": []
    },
    "kernelspec": {
      "display_name": "Python 3",
      "name": "python3"
    },
    "language_info": {
      "codemirror_mode": {
        "name": "ipython",
        "version": 3
      },
      "file_extension": ".py",
      "mimetype": "text/x-python",
      "name": "python",
      "nbconvert_exporter": "python",
      "pygments_lexer": "ipython3",
      "version": "3.10.8"
    }
  },
  "nbformat": 4,
  "nbformat_minor": 0
}
