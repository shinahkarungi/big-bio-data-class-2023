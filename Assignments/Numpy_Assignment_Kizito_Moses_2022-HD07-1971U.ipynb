{
 "cells": [
  {
   "cell_type": "markdown",
   "id": "e9fd45d7",
   "metadata": {},
   "source": [
    "##Numpy Assignment 1:\n",
    "\n",
    "Student Name: Kizito Moses\n",
    "\n",
    "\n",
    "Student RegNo:2022/HD07/1971U\n"
   ]
  },
  {
   "cell_type": "code",
   "execution_count": 4,
   "id": "3f4ccb7d",
   "metadata": {},
   "outputs": [
    {
     "name": "stdout",
     "output_type": "stream",
     "text": [
      "[11 13 15 17 19 21 23 25 27 29]\n"
     ]
    }
   ],
   "source": [
    "#create numpy one dimentional array with 10 elements\n",
    "\n",
    "import numpy as np\n",
    "moz = np.array([11, 13, 15, 17, 19, 21, 23, 25, 27, 29])\n",
    "print(moz)"
   ]
  },
  {
   "cell_type": "code",
   "execution_count": 5,
   "id": "11e00154",
   "metadata": {},
   "outputs": [
    {
     "name": "stdout",
     "output_type": "stream",
     "text": [
      "['apple', 'banana', 'cherry', 'date', 'elderberry']\n"
     ]
    }
   ],
   "source": [
    "# create an numpy array from a python list\n",
    "fruit_list = [\"apple\", \"banana\", \"cherry\", \"date\", \"elderberry\"]\n",
    "\n",
    "# Create a NumPy array from the list of fruits\n",
    "string_array = np.array(fruit_list)\n",
    "\n",
    "# Print the array\n",
    "print(fruit_list)"
   ]
  },
  {
   "cell_type": "code",
   "execution_count": 6,
   "id": "b012accc",
   "metadata": {},
   "outputs": [
    {
     "name": "stdout",
     "output_type": "stream",
     "text": [
      "[0.   0.25 0.5  0.75 1.  ]\n"
     ]
    }
   ],
   "source": [
    "#create an array of five values evenly spaced between 0 and 1\n",
    "my_arr = np.linspace(0, 1, 5)\n",
    "\n",
    "print(my_arr)\n"
   ]
  },
  {
   "cell_type": "code",
   "execution_count": 7,
   "id": "43232196",
   "metadata": {},
   "outputs": [
    {
     "name": "stdout",
     "output_type": "stream",
     "text": [
      "[[-1.51985496  2.31998861 -3.54146991]\n",
      " [-5.41534498 -2.80124189 -2.30271354]\n",
      " [-0.75487396  0.08380716 -2.36459393]]\n"
     ]
    }
   ],
   "source": [
    "#Create a 3x3 array of normally distributed random values\n",
    "# with mean 0 and standard deviation 3\n",
    "moz_array = np.random.normal(loc=0, scale=3, size=(3,3))\n",
    "\n",
    "# Print the array\n",
    "print(moz_array)\n"
   ]
  },
  {
   "cell_type": "code",
   "execution_count": 15,
   "id": "5021d918",
   "metadata": {},
   "outputs": [
    {
     "name": "stdout",
     "output_type": "stream",
     "text": [
      "[[ 0.75110747-0.65690222j -0.52242407-0.37702028j -0.65874435-0.59617534j\n",
      "   0.76447274-0.06896397j  0.90968728-0.99730341j]\n",
      " [ 0.36281711+0.41021936j  0.9892113 +0.10992594j  0.63749938-0.38107762j\n",
      "  -0.94838433+0.1336436j   0.48390289+0.57581965j]\n",
      " [-0.03816097+0.57205399j  0.47480041+0.72087204j -0.80718647+0.62771017j\n",
      "  -0.67796864+0.65330307j  0.21570765+0.57364716j]\n",
      " [-0.67701096-0.95065067j  0.67743009+0.19544294j  0.21196717+0.20792989j\n",
      "  -0.17451635+0.2520928j   0.79721521-0.47372466j]\n",
      " [-0.59800438-0.41831302j -0.82701918-0.3161906j  -0.75299038+0.91793925j\n",
      "   0.32653856-0.22948789j  0.17732215-0.52114563j]]\n"
     ]
    }
   ],
   "source": [
    "#creat a 5x5 array with complex numbers\n",
    "size = 5\n",
    "\n",
    "kizito = np.empty((size, size), dtype=np.complex128)\n",
    "\n",
    "# Use a nested for loop to fill the array with complex numbers\n",
    "for i in range(size):\n",
    "    for j in range(size):\n",
    "        # Generate a random complex number with real and imaginary parts between -1 and 1\n",
    "        real = np.random.uniform(-1, 1)\n",
    "        imag = np.random.uniform(-1, 1)\n",
    "        comp = np.complex128(real + imag*1j)\n",
    "        kizito[i][j] = comp\n",
    "\n",
    "# Print the array\n",
    "print(kizito)"
   ]
  },
  {
   "cell_type": "code",
   "execution_count": 18,
   "id": "1775c32f",
   "metadata": {},
   "outputs": [
    {
     "name": "stdout",
     "output_type": "stream",
     "text": [
      "[3 4 5 6 7]\n"
     ]
    }
   ],
   "source": [
    "#create a one dimentional array with 20 elements and return elements from 3 to 7\n",
    "kztm = np.arange(20)\n",
    "\n",
    "subset = kztm[3:8]\n",
    "\n",
    "print(subset)\n"
   ]
  },
  {
   "cell_type": "code",
   "execution_count": 22,
   "id": "0e75a296",
   "metadata": {},
   "outputs": [
    {
     "name": "stdout",
     "output_type": "stream",
     "text": [
      "Original array:\n",
      "[[8 0 9]\n",
      " [8 2 6]\n",
      " [2 3 2]]\n",
      "Updated array:\n",
      "[[9 0 8]\n",
      " [8 2 6]\n",
      " [2 3 2]]\n"
     ]
    }
   ],
   "source": [
    "#create a 3x3 array of random integers and reverse elements of the first row\n",
    "arr = np.random.randint(0, 10, size=(3, 3))\n",
    "\n",
    "# Print the original array\n",
    "print(\"Original array:\")\n",
    "print(arr)\n",
    "\n",
    "# Reverse the first row of the array\n",
    "arr[0] = arr[0, ::-1]\n",
    "\n",
    "# Print the updated array\n",
    "print(\"Updated array:\")\n",
    "print(arr)\n"
   ]
  },
  {
   "cell_type": "code",
   "execution_count": 25,
   "id": "7acea695",
   "metadata": {},
   "outputs": [
    {
     "name": "stdout",
     "output_type": "stream",
     "text": [
      "[[ 8 11  9 11]\n",
      " [ 4 10  6  2]\n",
      " [ 2  8  5 10]\n",
      " [11 12  7  7]\n",
      " [ 0  8  0  4]\n",
      " [ 0  7  0 10]\n",
      " [ 3 11  3  2]\n",
      " [11  0  7  1]]\n"
     ]
    }
   ],
   "source": [
    "#create 2 4x4 arrays and stack them both vertically and horizontally\n",
    "\n",
    "arr1 = np.random.randint(2, 13, size=(4, 4))\n",
    "arr2 = np.random.randint(0, 12, size=(4, 4))\n",
    "\n",
    "# Stack the arrays vertically\n",
    "vertical_stack = np.vstack((arr1, arr2))\n",
    "\n",
    "print(vertical_stack)"
   ]
  },
  {
   "cell_type": "code",
   "execution_count": null,
   "id": "808e7e32",
   "metadata": {},
   "outputs": [],
   "source": [
    "#what are the rules of numpy broadcasting?\n",
    "\n",
    "#NumPy broadcasting allows arithmetic operations to be performed on arrays with different shapes and sizes. ton dimensions (i.e., dimensions of size 1) to the smaller array.\n",
    "\n",
    "#When the size of any dimension in the input arrays does not match, the array with size 1 in that dimension is stretched to match the size of the other array.\n",
    "\n",
    "#When the input arrays have different shapes, the array with fewer dimensions is broadcast to match the shape of the larger array by adding singleton dimensions to its shape.\n",
    "\n",
    "#When broadcasting a scalar value to an array, the scalar value is treated as a zero-dimensional array and is broadcast to match the shape of the larger array by adding singleton dimensions.\n",
    "\n",
    "#Broadcasting is not allowed if the dimensions of the arrays do not match or if the sizes of the arrays do not match in any dimension.\n",
    "\n",
    "#If the arrays cannot be broadcast, a ValueError is raised."
   ]
  },
  {
   "cell_type": "code",
   "execution_count": null,
   "id": "36012dac",
   "metadata": {},
   "outputs": [],
   "source": [
    "# create two 3X3 matrices that are incopatible and raise an error\n",
    "\n",
    "mtx1 = np.array([[1, 2, 3], [4, 0, 6], [7, 2, 9]])\n",
    "mtx2 = np.array([[0, 2], [3, 4], [7, 6]])\n",
    "\n",
    "# Try to add the matrices\n",
    "result = mtx1 + mtx2\n",
    "\n",
    "# This will raise a ValueError: operands could not be broadcast together with shapes (3,3) (3,2) "
   ]
  },
  {
   "cell_type": "code",
   "execution_count": 28,
   "id": "cfd30877",
   "metadata": {},
   "outputs": [
    {
     "name": "stdout",
     "output_type": "stream",
     "text": [
      "[[ 7  9  7 -2]\n",
      " [-1  8  3  1]\n",
      " [ 3  6 -2 -1]\n",
      " [ 6 -1 -2 10]]\n",
      "[[ True  True  True False]\n",
      " [False  True False False]\n",
      " [False  True False False]\n",
      " [ True False False  True]]\n",
      "[ 7  9  7  8  6  6 10]\n"
     ]
    }
   ],
   "source": [
    "#create a 4x4 matrix with random integers and use a boolean mask to check for those above 4\n",
    "\n",
    "import numpy as np\n",
    "\n",
    "# Create a 4x4 matrix of random integers between 0 and 9\n",
    "matrix = np.random.randint(-2, 11, size=(4, 4))\n",
    "print(matrix)\n",
    "\n",
    "# Create a boolean mask to check for values above 4\n",
    "mask = matrix > 4\n",
    "print(mask)\n",
    "\n",
    "# Use the boolean mask to get the values above 4\n",
    "values_above_4 = matrix[mask]\n",
    "print(values_above_4)\n"
   ]
  },
  {
   "cell_type": "code",
   "execution_count": null,
   "id": "c04ca53d",
   "metadata": {},
   "outputs": [],
   "source": []
  }
 ],
 "metadata": {
  "kernelspec": {
   "display_name": "Python 3 (ipykernel)",
   "language": "python",
   "name": "python3"
  },
  "language_info": {
   "codemirror_mode": {
    "name": "ipython",
    "version": 3
   },
   "file_extension": ".py",
   "mimetype": "text/x-python",
   "name": "python",
   "nbconvert_exporter": "python",
   "pygments_lexer": "ipython3",
   "version": "3.10.6"
  }
 },
 "nbformat": 4,
 "nbformat_minor": 5
}
