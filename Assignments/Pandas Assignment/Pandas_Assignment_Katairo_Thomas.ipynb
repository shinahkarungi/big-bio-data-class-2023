{
  "cells": [
    {
      "attachments": {},
      "cell_type": "markdown",
      "metadata": {
        "id": "QjhxZHa4XZrg"
      },
      "source": [
        "Pandas Assignment\n",
        "Student Name: Katairo Thomas\n",
        "\n",
        "Reg No: N/A\n",
        "\n",
        "Instructions:\n",
        "Please complete the questions below.\n",
        "Please comment your code indicating how you approached the problem"
      ]
    },
    {
      "cell_type": "markdown",
      "metadata": {
        "id": "dzFp6JEGY-U2"
      },
      "source": [
        "## Introduction to Pandas"
      ]
    },
    {
      "attachments": {},
      "cell_type": "markdown",
      "metadata": {},
      "source": [
        "### Create a Pandas Series object containing the following data: 5, 10, 15, 20, 25. What is the average of the values in the Series?"
      ]
    },
    {
      "cell_type": "code",
      "execution_count": 1,
      "metadata": {},
      "outputs": [
        {
          "name": "stdout",
          "output_type": "stream",
          "text": [
            "0     5\n",
            "1    10\n",
            "2    15\n",
            "3    20\n",
            "4    25\n",
            "dtype: int64\n",
            "15.0\n"
          ]
        }
      ],
      "source": [
        "import pandas as pd\n",
        "data = [5, 10, 15, 20, 25]\n",
        "s = pd.Series(data)\n",
        "print(s)\n",
        "avg = s.mean()\n",
        "print(avg)"
      ]
    },
    {
      "attachments": {},
      "cell_type": "markdown",
      "metadata": {},
      "source": [
        "### Create a Pandas DataFrame object containing the following data: {'Name': ['Alice', 'Bob', 'Charlie'], 'Age': [25, 30, 35], 'Salary': [50000, 60000, 70000]}. What is the total salary of all employees?"
      ]
    },
    {
      "cell_type": "code",
      "execution_count": 2,
      "metadata": {},
      "outputs": [
        {
          "name": "stdout",
          "output_type": "stream",
          "text": [
            "      Name  Age  Salary\n",
            "0    Alice   25   50000\n",
            "1      Bob   30   60000\n",
            "2  Charlie   35   70000\n",
            "180000\n"
          ]
        }
      ],
      "source": [
        "data = {'Name': ['Alice', 'Bob', 'Charlie'], 'Age': [25, 30, 35], 'Salary': [50000, 60000, 70000]}\n",
        "\n",
        "df = pd.DataFrame(data)\n",
        "print(df)\n",
        "total_salary = df['Salary'].sum()\n",
        "print(total_salary)"
      ]
    },
    {
      "cell_type": "markdown",
      "metadata": {
        "id": "yhIUNmfGZG9l"
      },
      "source": [
        "## DataFrames and Series"
      ]
    },
    {
      "attachments": {},
      "cell_type": "markdown",
      "metadata": {},
      "source": [
        "### Create a Pandas Series object containing the following data: [1, 2, 3, 4, 5]. Add 10 to each value in the Series."
      ]
    },
    {
      "cell_type": "code",
      "execution_count": 8,
      "metadata": {},
      "outputs": [
        {
          "name": "stdout",
          "output_type": "stream",
          "text": [
            "0    11\n",
            "1    12\n",
            "2    13\n",
            "3    14\n",
            "4    15\n",
            "dtype: int64\n"
          ]
        }
      ],
      "source": [
        "data = [1, 2, 3, 4, 5]\n",
        "\n",
        "s = pd.Series(data)\n",
        "\n",
        "t = s.apply(lambda x: x + 10)\n",
        "\n",
        "print(t)"
      ]
    },
    {
      "attachments": {},
      "cell_type": "markdown",
      "metadata": {},
      "source": [
        "### Create a Pandas DataFrame object containing the following data: {'Name': ['Alice', 'Bob', 'Charlie'], 'Age': [25, 30, 35], 'Salary': [50000, 60000, 70000]}. Select only the rows where the Age is greater than 30."
      ]
    },
    {
      "cell_type": "code",
      "execution_count": 12,
      "metadata": {},
      "outputs": [
        {
          "name": "stdout",
          "output_type": "stream",
          "text": [
            "      Name  Age  Salary\n",
            "2  Charlie   35   70000\n"
          ]
        }
      ],
      "source": [
        "#print(df)\n",
        "\n",
        "print(df[df['Age'] > 30])"
      ]
    },
    {
      "cell_type": "code",
      "execution_count": null,
      "metadata": {
        "id": "fwEQ6vAJZPwt"
      },
      "outputs": [],
      "source": [
        "#Create a Pandas DataFrame object containing the following data: {'Name': ['Alice', 'Bob', 'Charlie'], 'Age': [25, 30, 35], 'Salary': [50000, 60000, 70000]}. Select only the rows where the Age is greater than 30."
      ]
    },
    {
      "cell_type": "markdown",
      "metadata": {
        "id": "nDrPzc3tZVCc"
      },
      "source": [
        "## Loading Data into Pandas"
      ]
    },
    {
      "attachments": {},
      "cell_type": "markdown",
      "metadata": {},
      "source": [
        "### Load a CSV file named 'diabetes.csv' into a Pandas DataFrame object. What are the names of the columns in the DataFrame?"
      ]
    },
    {
      "cell_type": "code",
      "execution_count": 21,
      "metadata": {},
      "outputs": [
        {
          "name": "stdout",
          "output_type": "stream",
          "text": [
            "Index(['Pregnancies', 'Glucose', 'BloodPressure', 'SkinThickness', 'Insulin',\n",
            "       'BMI', 'DiabetesPedigreeFunction', 'Age', 'Outcome'],\n",
            "      dtype='object')\n"
          ]
        }
      ],
      "source": [
        "diabetes = pd.read_csv('/home/katairo/Computer/School/Bioinformatics/big-bio-data-class-2023/Data/Diabetes/diabetes.csv')\n",
        "print(diabetes.columns)"
      ]
    },
    {
      "attachments": {},
      "cell_type": "markdown",
      "metadata": {},
      "source": [
        "### Display the dimensions of the data"
      ]
    },
    {
      "cell_type": "code",
      "execution_count": 22,
      "metadata": {},
      "outputs": [
        {
          "name": "stdout",
          "output_type": "stream",
          "text": [
            "(768, 9)\n"
          ]
        }
      ],
      "source": [
        "print(diabetes.shape)"
      ]
    },
    {
      "attachments": {},
      "cell_type": "markdown",
      "metadata": {},
      "source": [
        "### Display the top 10 rows"
      ]
    },
    {
      "cell_type": "code",
      "execution_count": 23,
      "metadata": {},
      "outputs": [
        {
          "name": "stdout",
          "output_type": "stream",
          "text": [
            "   Pregnancies  Glucose  BloodPressure  SkinThickness  Insulin   BMI   \n",
            "0            6      148             72             35        0  33.6  \\\n",
            "1            1       85             66             29        0  26.6   \n",
            "2            8      183             64              0        0  23.3   \n",
            "3            1       89             66             23       94  28.1   \n",
            "4            0      137             40             35      168  43.1   \n",
            "5            5      116             74              0        0  25.6   \n",
            "6            3       78             50             32       88  31.0   \n",
            "7           10      115              0              0        0  35.3   \n",
            "8            2      197             70             45      543  30.5   \n",
            "9            8      125             96              0        0   0.0   \n",
            "\n",
            "   DiabetesPedigreeFunction  Age  Outcome  \n",
            "0                     0.627   50        1  \n",
            "1                     0.351   31        0  \n",
            "2                     0.672   32        1  \n",
            "3                     0.167   21        0  \n",
            "4                     2.288   33        1  \n",
            "5                     0.201   30        0  \n",
            "6                     0.248   26        1  \n",
            "7                     0.134   29        0  \n",
            "8                     0.158   53        1  \n",
            "9                     0.232   54        1  \n"
          ]
        }
      ],
      "source": [
        "print(diabetes.head(10))"
      ]
    },
    {
      "attachments": {},
      "cell_type": "markdown",
      "metadata": {},
      "source": [
        "### Display the last 10 rows"
      ]
    },
    {
      "cell_type": "code",
      "execution_count": 24,
      "metadata": {},
      "outputs": [
        {
          "name": "stdout",
          "output_type": "stream",
          "text": [
            "     Pregnancies  Glucose  BloodPressure  SkinThickness  Insulin   BMI   \n",
            "758            1      106             76              0        0  37.5  \\\n",
            "759            6      190             92              0        0  35.5   \n",
            "760            2       88             58             26       16  28.4   \n",
            "761            9      170             74             31        0  44.0   \n",
            "762            9       89             62              0        0  22.5   \n",
            "763           10      101             76             48      180  32.9   \n",
            "764            2      122             70             27        0  36.8   \n",
            "765            5      121             72             23      112  26.2   \n",
            "766            1      126             60              0        0  30.1   \n",
            "767            1       93             70             31        0  30.4   \n",
            "\n",
            "     DiabetesPedigreeFunction  Age  Outcome  \n",
            "758                     0.197   26        0  \n",
            "759                     0.278   66        1  \n",
            "760                     0.766   22        0  \n",
            "761                     0.403   43        1  \n",
            "762                     0.142   33        0  \n",
            "763                     0.171   63        0  \n",
            "764                     0.340   27        0  \n",
            "765                     0.245   30        0  \n",
            "766                     0.349   47        1  \n",
            "767                     0.315   23        0  \n"
          ]
        }
      ],
      "source": [
        "print(diabetes.tail(10))"
      ]
    },
    {
      "cell_type": "markdown",
      "metadata": {
        "id": "CDKEEmvmZwiq"
      },
      "source": [
        "## Data Cleaning"
      ]
    },
    {
      "attachments": {},
      "cell_type": "markdown",
      "metadata": {},
      "source": [
        "### Create a Pandas DataFrame object containing the following data: {'Name': ['Alice', 'Bob', 'Charlie', 'Dave', 'Eve'], 'Age': [25, 30, None, 35, 40], 'Salary': [50000, None, 70000, 80000, 90000]}. Remove all rows with missing values"
      ]
    },
    {
      "cell_type": "code",
      "execution_count": 28,
      "metadata": {},
      "outputs": [
        {
          "name": "stdout",
          "output_type": "stream",
          "text": [
            "      Name   Age   Salary\n",
            "0    Alice  25.0  50000.0\n",
            "1      Bob  30.0      NaN\n",
            "2  Charlie   NaN  70000.0\n",
            "3     Dave  35.0  80000.0\n",
            "4      Eve  40.0  90000.0\n",
            "      Name   Age   Salary\n",
            "0    Alice  25.0  50000.0\n",
            "1      Bob  30.0      NaN\n",
            "2  Charlie   NaN  70000.0\n",
            "3     Dave  35.0  80000.0\n",
            "4      Eve  40.0  90000.0\n"
          ]
        }
      ],
      "source": [
        "data = {'Name': ['Alice', 'Bob', 'Charlie', 'Dave', 'Eve'], 'Age': [25, 30, None, 35, 40], 'Salary': [50000, None, 70000, 80000, 90000]}\n",
        "\n",
        "df = pd.DataFrame(data)\n",
        "\n",
        "print (df)\n",
        "\n",
        "#df.dropna(inplace=True)\n",
        "\n",
        "print (df)\n"
      ]
    },
    {
      "attachments": {},
      "cell_type": "markdown",
      "metadata": {},
      "source": [
        "### Create a Pandas DataFrame object containing the following data: {'Name': ['Alice', 'Bob', 'Charlie', 'Dave', 'Eve'], 'Age': [25, 30, None, 35, 40], 'Salary': [50000, None, 70000, 80000, 90000]}. Fill all missing values with the average Age and the median Salary."
      ]
    },
    {
      "cell_type": "code",
      "execution_count": 11,
      "metadata": {},
      "outputs": [
        {
          "name": "stdout",
          "output_type": "stream",
          "text": [
            "      Name   Age   Salary\n",
            "0    Alice  25.0  50000.0\n",
            "1      Bob  30.0  75000.0\n",
            "2  Charlie  32.5  70000.0\n",
            "3     Dave  35.0  80000.0\n",
            "4      Eve  40.0  90000.0\n"
          ]
        }
      ],
      "source": [
        "import pandas as pd\n",
        "import numpy as np\n",
        "\n",
        "data = {'Name': ['Alice', 'Bob', 'Charlie', 'Dave', 'Eve'], 'Age': [25, 30, None, 35, 40], 'Salary': [50000, None, 70000, 80000, 90000]}\n",
        "df = pd.DataFrame(data)\n",
        "\n",
        "mean_age = df['Age'].mean()\n",
        "median_salary = df['Salary'].median()\n",
        "\n",
        "df['Age'] = df['Age'].fillna(mean_age)\n",
        "df['Salary'] = df['Salary'].fillna(median_salary)\n",
        "\n",
        "print(df)\n"
      ]
    },
    {
      "cell_type": "markdown",
      "metadata": {
        "id": "Dm9ghsopZ8Fb"
      },
      "source": [
        "## Data Exploration"
      ]
    },
    {
      "attachments": {},
      "cell_type": "markdown",
      "metadata": {},
      "source": [
        "### Create a Pandas DataFrame object containing the following data: {'Name': ['Alice', 'Bob', 'Charlie'], 'Age': [25, 30, 35], 'Salary': [50000, 60000, 70000]}. What is the maximum Age and minimum Salary in the DataFrame?"
      ]
    },
    {
      "cell_type": "code",
      "execution_count": 9,
      "metadata": {},
      "outputs": [
        {
          "name": "stdout",
          "output_type": "stream",
          "text": [
            "Maximum age: 35\n",
            "Minimum salary: 50000\n"
          ]
        }
      ],
      "source": [
        "# print(df)\n",
        "\n",
        "max_age = df['Age'].max()\n",
        "min_salary = df['Salary'].min()\n",
        "\n",
        "print(\"Maximum age:\", max_age)\n",
        "print(\"Minimum salary:\", min_salary)"
      ]
    },
    {
      "attachments": {},
      "cell_type": "markdown",
      "metadata": {},
      "source": [
        "### Create a Pandas DataFrame object containing the following data: {'Name': ['Alice', 'Bob', 'Charlie'], 'Age': [25, 30, 35], 'Salary': [50000, 60000, 70000]}. Calculate the correlation coefficient between Age and Salary."
      ]
    },
    {
      "cell_type": "code",
      "execution_count": 12,
      "metadata": {},
      "outputs": [
        {
          "name": "stdout",
          "output_type": "stream",
          "text": [
            "0.9422229518055113\n"
          ]
        }
      ],
      "source": [
        "corr_coef = df['Age'].corr(df['Salary'])\n",
        "\n",
        "print(corr_coef)"
      ]
    },
    {
      "cell_type": "markdown",
      "metadata": {
        "id": "l8bPg2etaGNU"
      },
      "source": [
        "## Grouping and Aggregating Data"
      ]
    },
    {
      "attachments": {},
      "cell_type": "markdown",
      "metadata": {},
      "source": [
        "### Create a Pandas DataFrame object containing the following data: {'Name': ['Alice', 'Bob', 'Charlie', 'Dave', 'Eve'], 'Age': [25, 30, 35, 25, 30], 'Salary': [50000, 60000, 70000, 80000, 90000]}. Group the DataFrame by Age and calculate the mean Salary for each group."
      ]
    },
    {
      "cell_type": "code",
      "execution_count": 13,
      "metadata": {},
      "outputs": [
        {
          "name": "stdout",
          "output_type": "stream",
          "text": [
            "Age\n",
            "25    65000.0\n",
            "30    75000.0\n",
            "35    70000.0\n",
            "Name: Salary, dtype: float64\n"
          ]
        }
      ],
      "source": [
        "df = pd.DataFrame({'Name': ['Alice', 'Bob', 'Charlie', 'Dave', 'Eve'],\n",
        "                   'Age': [25, 30, 35, 25, 30],\n",
        "                   'Salary': [50000, 60000, 70000, 80000, 90000]})\n",
        "\n",
        "# group the DataFrame by 'Age' and calculate the mean 'Salary' for each group\n",
        "grouped = df.groupby('Age')['Salary'].mean()\n",
        "\n",
        "print(grouped)"
      ]
    },
    {
      "cell_type": "code",
      "execution_count": null,
      "metadata": {
        "id": "3Ev8WrCQaN0t"
      },
      "outputs": [],
      "source": []
    },
    {
      "cell_type": "markdown",
      "metadata": {
        "id": "uqNLYJGBamsa"
      },
      "source": [
        "## Reshaping Data"
      ]
    },
    {
      "attachments": {},
      "cell_type": "markdown",
      "metadata": {},
      "source": [
        "### Create a Pandas DataFrame object containing the following data: {'Year': [2019, 2019, 2020, 2020], 'Quarter': ['Q1', 'Q2', 'Q1', 'Q2'], 'Sales': [100, 200, 300, 400]}. Pivot the DataFrame so that the rows are indexed by Year, the columns are indexed by Quarter, and the values are the Sales."
      ]
    },
    {
      "cell_type": "code",
      "execution_count": 14,
      "metadata": {},
      "outputs": [
        {
          "name": "stdout",
          "output_type": "stream",
          "text": [
            "Quarter   Q1   Q2\n",
            "Year             \n",
            "2019     100  200\n",
            "2020     300  400\n"
          ]
        }
      ],
      "source": [
        "data = {'Year': [2019, 2019, 2020, 2020], 'Quarter': ['Q1', 'Q2', 'Q1', 'Q2'], 'Sales': [100, 200, 300, 400]}\n",
        "df = pd.DataFrame(data)\n",
        "\n",
        "pivoted_df = df.pivot(index='Year', columns='Quarter', values='Sales')\n",
        "print(pivoted_df)\n"
      ]
    },
    {
      "attachments": {},
      "cell_type": "markdown",
      "metadata": {},
      "source": [
        "### Create a Pandas DataFrame object containing the following data: {'Name': ['Alice', 'Bob', 'Charlie'], 'Gender': ['F', 'M', 'M'], 'Salary 2019': [50000, 60000, 70000], 'Salary 2020': [55000, 65000, 75000]}. Melt the DataFrame so that the variable column contains the years and the value column contains the salaries."
      ]
    },
    {
      "cell_type": "code",
      "execution_count": 15,
      "metadata": {},
      "outputs": [
        {
          "name": "stdout",
          "output_type": "stream",
          "text": [
            "      Name Gender         Year  Salary\n",
            "0    Alice      F  Salary 2019   50000\n",
            "1      Bob      M  Salary 2019   60000\n",
            "2  Charlie      M  Salary 2019   70000\n",
            "3    Alice      F  Salary 2020   55000\n",
            "4      Bob      M  Salary 2020   65000\n",
            "5  Charlie      M  Salary 2020   75000\n"
          ]
        }
      ],
      "source": [
        "df = pd.DataFrame({'Name': ['Alice', 'Bob', 'Charlie'], 'Gender': ['F', 'M', 'M'], 'Salary 2019': [50000, 60000, 70000], 'Salary 2020': [55000, 65000, 75000]})\n",
        "\n",
        "melted_df = pd.melt(df, id_vars=['Name', 'Gender'], value_vars=['Salary 2019', 'Salary 2020'], var_name='Year', value_name='Salary')\n",
        "\n",
        "print(melted_df)"
      ]
    },
    {
      "cell_type": "markdown",
      "metadata": {
        "id": "Q7_gHKi5a0bN"
      },
      "source": [
        "## Merging and Joining Data"
      ]
    },
    {
      "attachments": {},
      "cell_type": "markdown",
      "metadata": {},
      "source": [
        "### Create two Pandas DataFrame objects, df1 and df2, containing the following data: df1 = {'key': ['A', 'B', 'C', 'D'], 'value': [1, 2, 3, 4]} and df2 = {'key': ['B', 'D', 'E', 'F'], 'value': [5, 6, 7, 8]}. Merge the two DataFrames using an inner join on the 'key' column."
      ]
    },
    {
      "cell_type": "code",
      "execution_count": 17,
      "metadata": {},
      "outputs": [
        {
          "name": "stdout",
          "output_type": "stream",
          "text": [
            "  key  value\n",
            "0   A      1\n",
            "1   B      2\n",
            "2   C      3\n",
            "3   D      4\n",
            "  key  value\n",
            "0   B      5\n",
            "1   D      6\n",
            "2   E      7\n",
            "3   F      8\n",
            "  key  value_x  value_y\n",
            "0   B        2        5\n",
            "1   D        4        6\n"
          ]
        }
      ],
      "source": [
        "# Create df1\n",
        "df1 = pd.DataFrame({'key': ['A', 'B', 'C', 'D'], 'value': [1, 2, 3, 4]})\n",
        "print(df1)\n",
        "\n",
        "# Create df2\n",
        "df2 = pd.DataFrame({'key': ['B', 'D', 'E', 'F'], 'value': [5, 6, 7, 8]})\n",
        "print(df2)\n",
        "\n",
        "# Merge the two DataFrames using inner join on the 'key' column\n",
        "merged_df = pd.merge(df1, df2, on='key', how='inner')\n",
        "\n",
        "# Print the merged DataFrame\n",
        "print(merged_df)"
      ]
    },
    {
      "cell_type": "code",
      "execution_count": null,
      "metadata": {
        "id": "Wvey28Jsa_Ws"
      },
      "outputs": [],
      "source": [
        "#Create two Pandas DataFrame objects, df1 and df2, containing the following data: df1 = {'key': ['A', 'B', 'C', 'D'], 'value1': [1, 2, 3, 4]} and df2 = {'key': ['B', 'D', 'E', 'F'], 'value2': [5, 6, 7, 8]}. Perform a left join on df1 and df2 using the 'key' column as the join key."
      ]
    },
    {
      "attachments": {},
      "cell_type": "markdown",
      "metadata": {},
      "source": [
        "### Create two Pandas DataFrame objects, df1 and df2, containing the following data: df1 = {'key': ['A', 'B', 'C', 'D'], 'value1': [1, 2, 3, 4]} and df2 = {'key': ['B', 'D', 'E', 'F'], 'value2': [5, 6, 7, 8]}. Perform a left join on df1 and df2 using the 'key' column as the join key."
      ]
    },
    {
      "cell_type": "code",
      "execution_count": 18,
      "metadata": {},
      "outputs": [
        {
          "name": "stdout",
          "output_type": "stream",
          "text": [
            "  key  value1  value2\n",
            "0   A       1     NaN\n",
            "1   B       2     5.0\n",
            "2   C       3     NaN\n",
            "3   D       4     6.0\n"
          ]
        }
      ],
      "source": [
        "# Create df1\n",
        "df1 = pd.DataFrame({'key': ['A', 'B', 'C', 'D'], 'value1': [1, 2, 3, 4]})\n",
        "\n",
        "# Create df2\n",
        "df2 = pd.DataFrame({'key': ['B', 'D', 'E', 'F'], 'value2': [5, 6, 7, 8]})\n",
        "\n",
        "# Perform left join on df1 and df2 using 'key' as the join key\n",
        "merged_df = pd.merge(df1, df2, on='key', how='left')\n",
        "\n",
        "# Print the merged DataFrame\n",
        "print(merged_df)"
      ]
    },
    {
      "cell_type": "markdown",
      "metadata": {
        "id": "pYg6Y5SRb1ML"
      },
      "source": [
        "## Mini Pandas Project\n",
        "\n",
        "- Load the CSV file into a Pandas DataFrame object.\n",
        "- Clean the data by removing any rows with missing values and any duplicate rows.\n",
        "- Use NumPy to calculate the mean and standard deviation of the \"births\" column.\n",
        "- Use Pandas to group the data by year and month, and calculate the mean number of births for each group.\n",
        "- Use Matplotlib to create a line plot of the mean number of births per month over time.\n",
        "- Use Pandas to group the data by day of the week, and calculate the mean number of births for each day.\n",
        "- Use Matplotlib to create a bar chart of the mean number of births per day of the week.\n",
        "- Use Pandas to group the data by year, and calculate the total number of births for each year.\n",
        "- Use Matplotlib to create a bar chart of the total number of births per year.\n",
        "\n",
        ">> NOTE: Below is boiler code for you to get started with.Please fill in the missing codes."
      ]
    },
    {
      "cell_type": "code",
      "execution_count": 3,
      "metadata": {},
      "outputs": [],
      "source": [
        "import pandas as pd\n",
        "import numpy as np\n",
        "import matplotlib.pyplot as plt"
      ]
    },
    {
      "cell_type": "code",
      "execution_count": 5,
      "metadata": {},
      "outputs": [
        {
          "name": "stdout",
          "output_type": "stream",
          "text": [
            "       year  month  day gender  births\n",
            "0      1969      1  1.0      F    4046\n",
            "1      1969      1  1.0      M    4440\n",
            "2      1969      1  2.0      F    4454\n",
            "3      1969      1  2.0      M    4548\n",
            "4      1969      1  3.0      F    4548\n",
            "...     ...    ...  ...    ...     ...\n",
            "15542  2008     10  NaN      M  183219\n",
            "15543  2008     11  NaN      F  158939\n",
            "15544  2008     11  NaN      M  165468\n",
            "15545  2008     12  NaN      F  173215\n",
            "15546  2008     12  NaN      M  181235\n",
            "\n",
            "[15547 rows x 5 columns]\n"
          ]
        }
      ],
      "source": [
        "# Load the CSV file into a Pandas DataFrame object\n",
        "df = pd.read_csv(\"https://raw.githubusercontent.com/jakevdp/data-CDCbirths/master/births.csv\")\n",
        "print(df)"
      ]
    },
    {
      "cell_type": "code",
      "execution_count": 36,
      "metadata": {},
      "outputs": [
        {
          "name": "stdout",
          "output_type": "stream",
          "text": [
            "   year  month  day gender  births       date day_of_week\n",
            "0  1969      1  1.0      F    4046 1969-01-01   Wednesday\n",
            "1  1969      1  1.0      M    4440 1969-01-01   Wednesday\n",
            "2  1969      1  2.0      F    4454 1969-01-01   Wednesday\n",
            "3  1969      1  2.0      M    4548 1969-01-01   Wednesday\n",
            "4  1969      1  3.0      F    4548 1969-01-01   Wednesday\n"
          ]
        }
      ],
      "source": [
        "# Clean the data by removing any rows with missing values and any duplicate rows\n",
        "df = df.dropna()\n",
        "df = df.drop_duplicates()\n",
        "print(df.head())"
      ]
    },
    {
      "cell_type": "code",
      "execution_count": 37,
      "metadata": {},
      "outputs": [
        {
          "name": "stdout",
          "output_type": "stream",
          "text": [
            "Mean of 'births' column: 4678.631512577155\n",
            "Standard deviation of 'births' column: 1003.0714179988784\n"
          ]
        }
      ],
      "source": [
        "# Use NumPy to calculate the mean and standard deviation of the \"births\" column\n",
        "mean = np.mean(df['births'])\n",
        "std_dev = np.std(df['births'])\n",
        "\n",
        "print(\"Mean of 'births' column:\", mean)\n",
        "print(\"Standard deviation of 'births' column:\", std_dev)"
      ]
    },
    {
      "cell_type": "code",
      "execution_count": 44,
      "metadata": {},
      "outputs": [],
      "source": [
        "# Use Pandas to group the data by year and month, and calculate the mean number of births for each group\n",
        "# df['date'] = pd.to_datetime(df['year']*10000 + df['month']*100 + df['day'], format='%Y%m%d', errors='coerce')\n",
        "\n",
        "# print(df['date'])"
      ]
    },
    {
      "cell_type": "code",
      "execution_count": 45,
      "metadata": {},
      "outputs": [
        {
          "name": "stdout",
          "output_type": "stream",
          "text": [
            "0       1969-01-01\n",
            "1       1969-01-01\n",
            "2       1969-01-01\n",
            "3       1969-01-01\n",
            "4       1969-01-01\n",
            "           ...    \n",
            "15062   1988-12-01\n",
            "15063   1988-12-01\n",
            "15064   1988-12-01\n",
            "15065   1988-12-01\n",
            "15066   1988-12-01\n",
            "Name: date, Length: 15067, dtype: datetime64[ns]\n"
          ]
        }
      ],
      "source": [
        "# Use Pandas to group the data by year and month, and calculate the mean number of births for each group\n",
        "df['date'] = pd.to_datetime(df['year']*10000 + df['month']*100 + 1, format='%Y%m%d')\n",
        "\n",
        "print(df['date'])"
      ]
    },
    {
      "cell_type": "code",
      "execution_count": 46,
      "metadata": {},
      "outputs": [
        {
          "data": {
            "text/plain": [
              "date  date\n",
              "1969  1       4592.812500\n",
              "      2       4231.031250\n",
              "      3       4633.593750\n",
              "      4       4416.218750\n",
              "      5       4517.562500\n",
              "                 ...     \n",
              "1988  8       5719.338710\n",
              "      9       5787.950000\n",
              "      10      5264.015873\n",
              "      11      5244.433333\n",
              "      12      5198.822581\n",
              "Name: births, Length: 240, dtype: float64"
            ]
          },
          "execution_count": 46,
          "metadata": {},
          "output_type": "execute_result"
        }
      ],
      "source": [
        "grouped_by_month = df.groupby([df['date'].dt.year, df['date'].dt.month])['births'].mean()\n",
        "grouped_by_month"
      ]
    },
    {
      "cell_type": "code",
      "execution_count": 47,
      "metadata": {},
      "outputs": [
        {
          "data": {
            "text/plain": [
              "Text(0, 0.5, 'Mean Number of Births')"
            ]
          },
          "execution_count": 47,
          "metadata": {},
          "output_type": "execute_result"
        },
        {
          "data": {
            "image/png": "[encoded data removed]",
            "text/plain": [
              "<Figure size 640x480 with 1 Axes>"
            ]
          },
          "metadata": {},
          "output_type": "display_data"
        }
      ],
      "source": [
        "grouped_by_month.plot()\n",
        "\n",
        "# set the title and axis labels\n",
        "plt.title('Mean Number of Births per month over time')\n",
        "plt.xlabel('Year and month')\n",
        "plt.ylabel('Mean Number of Births')"
      ]
    },
    {
      "cell_type": "code",
      "execution_count": null,
      "metadata": {},
      "outputs": [],
      "source": []
    },
    {
      "cell_type": "code",
      "execution_count": 42,
      "metadata": {},
      "outputs": [
        {
          "name": "stdout",
          "output_type": "stream",
          "text": [
            "date\n",
            "Friday       4699.402127\n",
            "Monday       4719.942335\n",
            "Saturday     4585.474138\n",
            "Sunday       4673.227080\n",
            "Thursday     4649.380909\n",
            "Tuesday      4720.518830\n",
            "Wednesday    4705.369764\n",
            "Name: births, dtype: float64\n"
          ]
        },
        {
          "data": {
            "image/png": "[encoded data removed]",
            "text/plain": [
              "<Figure size 640x480 with 1 Axes>"
            ]
          },
          "metadata": {},
          "output_type": "display_data"
        }
      ],
      "source": [
        "# Use Pandas to group the data by day of the week, and calculate the mean number of births for each day\n",
        "df['day_of_week'] = df['date'].dt.day_name()\n",
        "grouped_by_day_of_week = (df.groupby(df['date'].dt.day_name()))['births'].mean()\n",
        "print(grouped_by_day_of_week)\n",
        "# Use Matplotlib to create a bar chart of the mean number of births per day of the week\n",
        "plt.bar(grouped_by_day_of_week.index, grouped_by_day_of_week.values)\n",
        "plt.xlabel('Day of the Week')\n",
        "plt.ylabel('Mean Number of Births')\n",
        "plt.title('Mean Number of Births per Day of the Week')\n",
        "plt.show()"
      ]
    },
    {
      "cell_type": "code",
      "execution_count": 43,
      "metadata": {},
      "outputs": [
        {
          "data": {
            "image/png": "[encoded data removed]",
            "text/plain": [
              "<Figure size 640x480 with 1 Axes>"
            ]
          },
          "metadata": {},
          "output_type": "display_data"
        }
      ],
      "source": [
        "# Use Pandas to group the data by year, and calculate the total number of births for each year\n",
        "grouped_by_year = df.groupby(df['date'].dt.year)['births'].sum()\n",
        "\n",
        "# Use Matplotlib to create a bar chart of the total number of births per year\n",
        "plt.bar(grouped_by_year.index, grouped_by_year.values)\n",
        "plt.xlabel('Year')\n",
        "plt.ylabel('Total Number of Births')\n",
        "plt.title('Total Number of Births per Year')\n",
        "plt.show()"
      ]
    }
  ],
  "metadata": {
    "colab": {
      "provenance": []
    },
    "kernelspec": {
      "display_name": "Python 3",
      "name": "python3"
    },
    "language_info": {
      "codemirror_mode": {
        "name": "ipython",
        "version": 3
      },
      "file_extension": ".py",
      "mimetype": "text/x-python",
      "name": "python",
      "nbconvert_exporter": "python",
      "pygments_lexer": "ipython3",
      "version": "3.10.8"
    }
  },
  "nbformat": 4,
  "nbformat_minor": 0
}
