{
  "cells": [
    {
      "attachments": {},
      "cell_type": "markdown",
      "metadata": {
        "id": "QjhxZHa4XZrg"
      },
      "source": [
        "Pandas Assignment\n",
        "Student Name: WANYAMA EMMANUEL OKUKU\n",
        "\n",
        "Reg No:2022/HD07/15015U\n",
        "\n",
        "Instructions:\n",
        "Please complete the questions below.\n",
        "Please comment your code indicating how you approached the problem"
      ]
    },
    {
      "cell_type": "markdown",
      "metadata": {
        "id": "dzFp6JEGY-U2"
      },
      "source": [
        "## Introduction to Pandas"
      ]
    },
    {
      "attachments": {},
      "cell_type": "markdown",
      "metadata": {},
      "source": [
        "#### Create a Pandas Series object containing the following data: 5, 10, 15, 20, 25. What is the average of the values in the Series?"
      ]
    },
    {
      "cell_type": "code",
      "execution_count": 82,
      "metadata": {},
      "outputs": [
        {
          "name": "stdout",
          "output_type": "stream",
          "text": [
            "15.0\n"
          ]
        }
      ],
      "source": [
        "import pandas as pd #Makes the Pandas library available to use in my code and assigns it an alias \"pd\"\n",
        "\n",
        "Emma = pd.Series([5, 10, 15, 20, 25]) #Created a Series object called Emma using the pd.Series() function\n",
        "\n",
        "# Used the `.mean()` method, which calculates the mean or average of the values in the Series\n",
        "print(Emma.mean())"
      ]
    },
    {
      "attachments": {},
      "cell_type": "markdown",
      "metadata": {},
      "source": [
        "#### Create a Pandas DataFrame object containing the following data: {'Name': ['Alice', 'Bob', 'Charlie'], 'Age': [25, 30, 35], 'Salary': [50000, 60000, 70000]}. What is the total salary of all employees?"
      ]
    },
    {
      "cell_type": "code",
      "execution_count": 4,
      "metadata": {},
      "outputs": [
        {
          "name": "stdout",
          "output_type": "stream",
          "text": [
            "180000\n"
          ]
        }
      ],
      "source": [
        " import pandas as pd\n",
        " #Use the `pd.DataFrame()` function to create a Pandas DataFrame object containing the given data\n",
        "data = {'Name': ['Alice', 'Bob', 'Charlie'], 'Age': [25, 30, 35], 'Salary': [50000, 60000, 70000]}\n",
        "\n",
        "df = pd.DataFrame(data) #DataFrame object called df with three columns: \"Name\", \"Age\", and \"Salary\" is created.\n",
        "\n",
        "# Use the `.sum()` method on the \"Salary\" column of the DataFrame to calculate the total salary of all employees\n",
        "print(df['Salary'].sum())"
      ]
    },
    {
      "cell_type": "markdown",
      "metadata": {
        "id": "yhIUNmfGZG9l"
      },
      "source": [
        "## DataFrames and Series"
      ]
    },
    {
      "attachments": {},
      "cell_type": "markdown",
      "metadata": {},
      "source": [
        "#### Create a Pandas Series object containing the following data: [1, 2, 3, 4, 5]. Add 10 to each value in the Series."
      ]
    },
    {
      "cell_type": "code",
      "execution_count": 7,
      "metadata": {},
      "outputs": [
        {
          "data": {
            "text/plain": [
              "0    11\n",
              "1    12\n",
              "2    13\n",
              "3    14\n",
              "4    15\n",
              "dtype: int64"
            ]
          },
          "execution_count": 7,
          "metadata": {},
          "output_type": "execute_result"
        }
      ],
      "source": [
        "import pandas as pd\n",
        "#Use the `pd.Series()` function to create a Pandas Series object containing the given data\n",
        "# Pass in the list of values as below  \n",
        "data = pd.Series([1, 2, 3, 4, 5]) #A Series object called data \n",
        "#I used the `+` operator to add the scalar value 10 to the Series object data\n",
        "#Pandas Series objects support element-wise arithmetic operations\n",
        "data = data + 10\n",
        "data"
      ]
    },
    {
      "attachments": {},
      "cell_type": "markdown",
      "metadata": {},
      "source": [
        "#### Create a Pandas DataFrame object containing the following data: {'Name': ['Alice', 'Bob', 'Charlie'], 'Age': [25, 30, 35], 'Salary': [50000, 60000, 70000]}. Select only the rows where the Age is greater than 30."
      ]
    },
    {
      "cell_type": "code",
      "execution_count": 10,
      "metadata": {},
      "outputs": [
        {
          "name": "stdout",
          "output_type": "stream",
          "text": [
            "      Name  Age  Salary\n",
            "2  Charlie   35   70000\n"
          ]
        }
      ],
      "source": [
        "import pandas as pd\n",
        "# Create the DataFrame object\n",
        "data = {'Name': ['Alice', 'Bob', 'Charlie'], 'Age': [25, 30, 35], 'Salary': [50000, 60000, 70000]}\n",
        "df = pd.DataFrame(data)\n",
        "\n",
        "#Create rows where the Age is greater than 30\n",
        "df_New = df[df['Age'] > 30]\n",
        "\n",
        "# Display the New DataFrame\n",
        "print(df_New)"
      ]
    },
    {
      "cell_type": "markdown",
      "metadata": {
        "id": "nDrPzc3tZVCc"
      },
      "source": [
        "## Loading Data into Pandas"
      ]
    },
    {
      "cell_type": "code",
      "execution_count": 14,
      "metadata": {
        "id": "sdNPXVUWZZ_i"
      },
      "outputs": [],
      "source": [
        "\n",
        "#Load a CSV file named 'diabetes.csv' into a Pandas DataFrame object. What are the names of the columns in the DataFrame?\n",
        "#Please check your data folder for this datase\n",
        "# Load the CSV file into a DataFrame object\n",
        "\n",
        "\n",
        "# Display the column names\n",
        "\n",
        "# Display the column name"
      ]
    },
    {
      "attachments": {},
      "cell_type": "markdown",
      "metadata": {},
      "source": [
        "#### Load a CSV file named 'diabetes.csv' into a Pandas DataFrame object. What are the names of the columns in the DataFrame?\n",
        "#Please check your data folder for this datase"
      ]
    },
    {
      "cell_type": "code",
      "execution_count": 52,
      "metadata": {},
      "outputs": [
        {
          "name": "stdout",
          "output_type": "stream",
          "text": [
            "Index(['Pregnancies', 'Glucose', 'BloodPressure', 'SkinThickness', 'Insulin',\n",
            "       'BMI', 'DiabetesPedigreeFunction', 'Age', 'Outcome'],\n",
            "      dtype='object')\n"
          ]
        }
      ],
      "source": [
        "import pandas as pd\n",
        "#Load a CSV file named 'diabetes.csv' into a Pandas DataFrame object. What are the names of the columns in the DataFrame?\n",
        "import pandas as pd\n",
        "\n",
        "# Load the CSV file into a DataFrame\n",
        "df_diabetes_data= pd.read_csv('C:/Users/pc/Desktop/big-bio-data-class-2023-1/big-bio-data-class-2023/Data/Diabetes/diabetes.csv')\n",
        "\n",
        "#check if data is there by checking with the first\n",
        "df_diabetes_data.head()\n",
        "\n",
        "# Display the column names\n",
        "print(df_diabetes_data.columns)\n"
      ]
    },
    {
      "attachments": {},
      "cell_type": "markdown",
      "metadata": {},
      "source": [
        "#### Display the dimensions of the data"
      ]
    },
    {
      "cell_type": "code",
      "execution_count": 83,
      "metadata": {},
      "outputs": [
        {
          "name": "stdout",
          "output_type": "stream",
          "text": [
            "(768, 9)\n"
          ]
        }
      ],
      "source": [
        "import pandas as pd\n",
        "\n",
        "# Display the dimensions of the data\n",
        "print(df_diabetes_data.shape)"
      ]
    },
    {
      "attachments": {},
      "cell_type": "markdown",
      "metadata": {},
      "source": [
        "#### Display the top 10 rows"
      ]
    },
    {
      "cell_type": "code",
      "execution_count": 54,
      "metadata": {},
      "outputs": [
        {
          "data": {
            "text/html": [
              "<div>\n",
              "<style scoped>\n",
              "    .dataframe tbody tr th:only-of-type {\n",
              "        vertical-align: middle;\n",
              "    }\n",
              "\n",
              "    .dataframe tbody tr th {\n",
              "        vertical-align: top;\n",
              "    }\n",
              "\n",
              "    .dataframe thead th {\n",
              "        text-align: right;\n",
              "    }\n",
              "</style>\n",
              "<table border=\"1\" class=\"dataframe\">\n",
              "  <thead>\n",
              "    <tr style=\"text-align: right;\">\n",
              "      <th></th>\n",
              "      <th>Pregnancies</th>\n",
              "      <th>Glucose</th>\n",
              "      <th>BloodPressure</th>\n",
              "      <th>SkinThickness</th>\n",
              "      <th>Insulin</th>\n",
              "      <th>BMI</th>\n",
              "      <th>DiabetesPedigreeFunction</th>\n",
              "      <th>Age</th>\n",
              "      <th>Outcome</th>\n",
              "    </tr>\n",
              "  </thead>\n",
              "  <tbody>\n",
              "    <tr>\n",
              "      <th>0</th>\n",
              "      <td>6</td>\n",
              "      <td>148</td>\n",
              "      <td>72</td>\n",
              "      <td>35</td>\n",
              "      <td>0</td>\n",
              "      <td>33.6</td>\n",
              "      <td>0.627</td>\n",
              "      <td>50</td>\n",
              "      <td>1</td>\n",
              "    </tr>\n",
              "    <tr>\n",
              "      <th>1</th>\n",
              "      <td>1</td>\n",
              "      <td>85</td>\n",
              "      <td>66</td>\n",
              "      <td>29</td>\n",
              "      <td>0</td>\n",
              "      <td>26.6</td>\n",
              "      <td>0.351</td>\n",
              "      <td>31</td>\n",
              "      <td>0</td>\n",
              "    </tr>\n",
              "    <tr>\n",
              "      <th>2</th>\n",
              "      <td>8</td>\n",
              "      <td>183</td>\n",
              "      <td>64</td>\n",
              "      <td>0</td>\n",
              "      <td>0</td>\n",
              "      <td>23.3</td>\n",
              "      <td>0.672</td>\n",
              "      <td>32</td>\n",
              "      <td>1</td>\n",
              "    </tr>\n",
              "    <tr>\n",
              "      <th>3</th>\n",
              "      <td>1</td>\n",
              "      <td>89</td>\n",
              "      <td>66</td>\n",
              "      <td>23</td>\n",
              "      <td>94</td>\n",
              "      <td>28.1</td>\n",
              "      <td>0.167</td>\n",
              "      <td>21</td>\n",
              "      <td>0</td>\n",
              "    </tr>\n",
              "    <tr>\n",
              "      <th>4</th>\n",
              "      <td>0</td>\n",
              "      <td>137</td>\n",
              "      <td>40</td>\n",
              "      <td>35</td>\n",
              "      <td>168</td>\n",
              "      <td>43.1</td>\n",
              "      <td>2.288</td>\n",
              "      <td>33</td>\n",
              "      <td>1</td>\n",
              "    </tr>\n",
              "    <tr>\n",
              "      <th>5</th>\n",
              "      <td>5</td>\n",
              "      <td>116</td>\n",
              "      <td>74</td>\n",
              "      <td>0</td>\n",
              "      <td>0</td>\n",
              "      <td>25.6</td>\n",
              "      <td>0.201</td>\n",
              "      <td>30</td>\n",
              "      <td>0</td>\n",
              "    </tr>\n",
              "    <tr>\n",
              "      <th>6</th>\n",
              "      <td>3</td>\n",
              "      <td>78</td>\n",
              "      <td>50</td>\n",
              "      <td>32</td>\n",
              "      <td>88</td>\n",
              "      <td>31.0</td>\n",
              "      <td>0.248</td>\n",
              "      <td>26</td>\n",
              "      <td>1</td>\n",
              "    </tr>\n",
              "    <tr>\n",
              "      <th>7</th>\n",
              "      <td>10</td>\n",
              "      <td>115</td>\n",
              "      <td>0</td>\n",
              "      <td>0</td>\n",
              "      <td>0</td>\n",
              "      <td>35.3</td>\n",
              "      <td>0.134</td>\n",
              "      <td>29</td>\n",
              "      <td>0</td>\n",
              "    </tr>\n",
              "    <tr>\n",
              "      <th>8</th>\n",
              "      <td>2</td>\n",
              "      <td>197</td>\n",
              "      <td>70</td>\n",
              "      <td>45</td>\n",
              "      <td>543</td>\n",
              "      <td>30.5</td>\n",
              "      <td>0.158</td>\n",
              "      <td>53</td>\n",
              "      <td>1</td>\n",
              "    </tr>\n",
              "    <tr>\n",
              "      <th>9</th>\n",
              "      <td>8</td>\n",
              "      <td>125</td>\n",
              "      <td>96</td>\n",
              "      <td>0</td>\n",
              "      <td>0</td>\n",
              "      <td>0.0</td>\n",
              "      <td>0.232</td>\n",
              "      <td>54</td>\n",
              "      <td>1</td>\n",
              "    </tr>\n",
              "  </tbody>\n",
              "</table>\n",
              "</div>"
            ],
            "text/plain": [
              "   Pregnancies  Glucose  BloodPressure  SkinThickness  Insulin   BMI  \\\n",
              "0            6      148             72             35        0  33.6   \n",
              "1            1       85             66             29        0  26.6   \n",
              "2            8      183             64              0        0  23.3   \n",
              "3            1       89             66             23       94  28.1   \n",
              "4            0      137             40             35      168  43.1   \n",
              "5            5      116             74              0        0  25.6   \n",
              "6            3       78             50             32       88  31.0   \n",
              "7           10      115              0              0        0  35.3   \n",
              "8            2      197             70             45      543  30.5   \n",
              "9            8      125             96              0        0   0.0   \n",
              "\n",
              "   DiabetesPedigreeFunction  Age  Outcome  \n",
              "0                     0.627   50        1  \n",
              "1                     0.351   31        0  \n",
              "2                     0.672   32        1  \n",
              "3                     0.167   21        0  \n",
              "4                     2.288   33        1  \n",
              "5                     0.201   30        0  \n",
              "6                     0.248   26        1  \n",
              "7                     0.134   29        0  \n",
              "8                     0.158   53        1  \n",
              "9                     0.232   54        1  "
            ]
          },
          "execution_count": 54,
          "metadata": {},
          "output_type": "execute_result"
        }
      ],
      "source": [
        "import pandas as pd\n",
        "df_diabetes_data.head(10)"
      ]
    },
    {
      "attachments": {},
      "cell_type": "markdown",
      "metadata": {},
      "source": [
        "#### Display the last 10 rows"
      ]
    },
    {
      "cell_type": "code",
      "execution_count": 38,
      "metadata": {},
      "outputs": [
        {
          "data": {
            "text/html": [
              "<div>\n",
              "<style scoped>\n",
              "    .dataframe tbody tr th:only-of-type {\n",
              "        vertical-align: middle;\n",
              "    }\n",
              "\n",
              "    .dataframe tbody tr th {\n",
              "        vertical-align: top;\n",
              "    }\n",
              "\n",
              "    .dataframe thead th {\n",
              "        text-align: right;\n",
              "    }\n",
              "</style>\n",
              "<table border=\"1\" class=\"dataframe\">\n",
              "  <thead>\n",
              "    <tr style=\"text-align: right;\">\n",
              "      <th></th>\n",
              "      <th>Pregnancies</th>\n",
              "      <th>Glucose</th>\n",
              "      <th>BloodPressure</th>\n",
              "      <th>SkinThickness</th>\n",
              "      <th>Insulin</th>\n",
              "      <th>BMI</th>\n",
              "      <th>DiabetesPedigreeFunction</th>\n",
              "      <th>Age</th>\n",
              "      <th>Outcome</th>\n",
              "    </tr>\n",
              "  </thead>\n",
              "  <tbody>\n",
              "    <tr>\n",
              "      <th>758</th>\n",
              "      <td>1</td>\n",
              "      <td>106</td>\n",
              "      <td>76</td>\n",
              "      <td>0</td>\n",
              "      <td>0</td>\n",
              "      <td>37.5</td>\n",
              "      <td>0.197</td>\n",
              "      <td>26</td>\n",
              "      <td>0</td>\n",
              "    </tr>\n",
              "    <tr>\n",
              "      <th>759</th>\n",
              "      <td>6</td>\n",
              "      <td>190</td>\n",
              "      <td>92</td>\n",
              "      <td>0</td>\n",
              "      <td>0</td>\n",
              "      <td>35.5</td>\n",
              "      <td>0.278</td>\n",
              "      <td>66</td>\n",
              "      <td>1</td>\n",
              "    </tr>\n",
              "    <tr>\n",
              "      <th>760</th>\n",
              "      <td>2</td>\n",
              "      <td>88</td>\n",
              "      <td>58</td>\n",
              "      <td>26</td>\n",
              "      <td>16</td>\n",
              "      <td>28.4</td>\n",
              "      <td>0.766</td>\n",
              "      <td>22</td>\n",
              "      <td>0</td>\n",
              "    </tr>\n",
              "    <tr>\n",
              "      <th>761</th>\n",
              "      <td>9</td>\n",
              "      <td>170</td>\n",
              "      <td>74</td>\n",
              "      <td>31</td>\n",
              "      <td>0</td>\n",
              "      <td>44.0</td>\n",
              "      <td>0.403</td>\n",
              "      <td>43</td>\n",
              "      <td>1</td>\n",
              "    </tr>\n",
              "    <tr>\n",
              "      <th>762</th>\n",
              "      <td>9</td>\n",
              "      <td>89</td>\n",
              "      <td>62</td>\n",
              "      <td>0</td>\n",
              "      <td>0</td>\n",
              "      <td>22.5</td>\n",
              "      <td>0.142</td>\n",
              "      <td>33</td>\n",
              "      <td>0</td>\n",
              "    </tr>\n",
              "    <tr>\n",
              "      <th>763</th>\n",
              "      <td>10</td>\n",
              "      <td>101</td>\n",
              "      <td>76</td>\n",
              "      <td>48</td>\n",
              "      <td>180</td>\n",
              "      <td>32.9</td>\n",
              "      <td>0.171</td>\n",
              "      <td>63</td>\n",
              "      <td>0</td>\n",
              "    </tr>\n",
              "    <tr>\n",
              "      <th>764</th>\n",
              "      <td>2</td>\n",
              "      <td>122</td>\n",
              "      <td>70</td>\n",
              "      <td>27</td>\n",
              "      <td>0</td>\n",
              "      <td>36.8</td>\n",
              "      <td>0.340</td>\n",
              "      <td>27</td>\n",
              "      <td>0</td>\n",
              "    </tr>\n",
              "    <tr>\n",
              "      <th>765</th>\n",
              "      <td>5</td>\n",
              "      <td>121</td>\n",
              "      <td>72</td>\n",
              "      <td>23</td>\n",
              "      <td>112</td>\n",
              "      <td>26.2</td>\n",
              "      <td>0.245</td>\n",
              "      <td>30</td>\n",
              "      <td>0</td>\n",
              "    </tr>\n",
              "    <tr>\n",
              "      <th>766</th>\n",
              "      <td>1</td>\n",
              "      <td>126</td>\n",
              "      <td>60</td>\n",
              "      <td>0</td>\n",
              "      <td>0</td>\n",
              "      <td>30.1</td>\n",
              "      <td>0.349</td>\n",
              "      <td>47</td>\n",
              "      <td>1</td>\n",
              "    </tr>\n",
              "    <tr>\n",
              "      <th>767</th>\n",
              "      <td>1</td>\n",
              "      <td>93</td>\n",
              "      <td>70</td>\n",
              "      <td>31</td>\n",
              "      <td>0</td>\n",
              "      <td>30.4</td>\n",
              "      <td>0.315</td>\n",
              "      <td>23</td>\n",
              "      <td>0</td>\n",
              "    </tr>\n",
              "  </tbody>\n",
              "</table>\n",
              "</div>"
            ],
            "text/plain": [
              "     Pregnancies  Glucose  BloodPressure  SkinThickness  Insulin   BMI  \\\n",
              "758            1      106             76              0        0  37.5   \n",
              "759            6      190             92              0        0  35.5   \n",
              "760            2       88             58             26       16  28.4   \n",
              "761            9      170             74             31        0  44.0   \n",
              "762            9       89             62              0        0  22.5   \n",
              "763           10      101             76             48      180  32.9   \n",
              "764            2      122             70             27        0  36.8   \n",
              "765            5      121             72             23      112  26.2   \n",
              "766            1      126             60              0        0  30.1   \n",
              "767            1       93             70             31        0  30.4   \n",
              "\n",
              "     DiabetesPedigreeFunction  Age  Outcome  \n",
              "758                     0.197   26        0  \n",
              "759                     0.278   66        1  \n",
              "760                     0.766   22        0  \n",
              "761                     0.403   43        1  \n",
              "762                     0.142   33        0  \n",
              "763                     0.171   63        0  \n",
              "764                     0.340   27        0  \n",
              "765                     0.245   30        0  \n",
              "766                     0.349   47        1  \n",
              "767                     0.315   23        0  "
            ]
          },
          "execution_count": 38,
          "metadata": {},
          "output_type": "execute_result"
        }
      ],
      "source": [
        "\n",
        "df_diabetes_data.tail(10)"
      ]
    },
    {
      "attachments": {},
      "cell_type": "markdown",
      "metadata": {},
      "source": [
        "#### Create a Pandas DataFrame object containing the following data: {'Name': ['Alice', 'Bob', 'Charlie', 'Dave'#Create a Pandas DataFrame object containing the following data: {'Name': ['Alice', 'Bob', 'Charlie', 'Dave', 'Eve'], 'Age': [25, 30, None, 35, 40], 'Salary': [50000, None, 70000, 80000, 90000]}. Remove all rows with missing values"
      ]
    },
    {
      "cell_type": "code",
      "execution_count": 27,
      "metadata": {},
      "outputs": [
        {
          "name": "stdout",
          "output_type": "stream",
          "text": [
            "    Name   Age   Salary\n",
            "0  Alice  25.0  50000.0\n",
            "3   Dave  35.0  80000.0\n",
            "4    Eve  40.0  90000.0\n"
          ]
        }
      ],
      "source": [
        "import pandas as pd\n",
        "\n",
        "# Create the DataFrame object\n",
        "data = {'Name': ['Alice', 'Bob', 'Charlie', 'Dave', 'Eve'], 'Age': [25, 30, None, 35, 40], 'Salary': [50000, None, 70000, 80000, 90000]}\n",
        "df = pd.DataFrame({'Name': ['Alice', 'Bob', 'Charlie', 'Dave', 'Eve'], 'Age': [25, 30, None, 35, 40], 'Salary': [50000, None, 70000, 80000, 90000]})\n",
        "\n",
        "df_K = pd.DataFrame(data)\n",
        "\n",
        "# Remove all rows with missing values\n",
        "df_K_New = df_K.dropna()\n",
        "\n",
        "# Display the filtered/New DataFrame\n",
        "print(df_K_New)\n"
      ]
    },
    {
      "attachments": {},
      "cell_type": "markdown",
      "metadata": {},
      "source": [
        "#### Create a Pandas DataFrame object containing the following data: {'Name': ['Alice', 'Bob', 'Charlie', 'Dave', 'Eve'], 'Age': [25, 30, None, 35, 40], 'Salary': [50000, None, 70000, 80000, 90000]}. Fill all missing values with the average Age and the median Salary."
      ]
    },
    {
      "cell_type": "code",
      "execution_count": 102,
      "metadata": {},
      "outputs": [
        {
          "name": "stdout",
          "output_type": "stream",
          "text": [
            "      Name   Age   Salary\n",
            "0    Alice  25.0  50000.0\n",
            "1      Bob  30.0  75000.0\n",
            "2  Charlie  32.5  70000.0\n",
            "3     Dave  35.0  80000.0\n",
            "4      Eve  40.0  90000.0\n"
          ]
        }
      ],
      "source": [
        "import pandas as pd\n",
        "import numpy as np\n",
        "#We used NumPy to calculate the mean and median values of the 'Age' and 'Salary' columns, respectively. \n",
        "# We then used these values to fill in the missing values in the DataFrame using the fillna() method.\n",
        "#We used Pandas to create a DataFrame object from a dictionary containing the data.\n",
        "#  We also used Pandas functions such as fillna() to fill the missing values in the 'Age' and 'Salary' columns.\n",
        "# THIS IS THE REASON WE HAVE BOTH import pandas as pd and import numpy as np\n",
        "# Create the DataFrame\n",
        "spirit =  {'Name': ['Alice', 'Bob', 'Charlie', 'Dave', 'Eve'], 'Age': [25, 30, None, 35, 40], 'Salary': [50000, None, 70000, 80000, 90000]}\n",
        "df = pd.DataFrame(spirit)\n",
        "#df_misV = pd.DataFrame(data)\n",
        "\n",
        "# Fill missing Age values with the mean\n",
        "df['Age'].fillna(df['Age'].mean(), inplace=True)\n",
        "\n",
        "# Fill missing Salary values with the median\n",
        "df['Salary'].fillna(df['Salary'].median(), inplace=True)\n",
        "\n",
        "# Print the resulting DataFrame\n",
        "print(df)\n"
      ]
    },
    {
      "cell_type": "markdown",
      "metadata": {
        "id": "Dm9ghsopZ8Fb"
      },
      "source": [
        "## Data Exploration"
      ]
    },
    {
      "attachments": {},
      "cell_type": "markdown",
      "metadata": {},
      "source": [
        "#### Create a Pandas DataFrame object containing the following data: {'Name': ['Alice', 'Bob', 'Charlie'], 'Age': [25, 30, 35], 'Salary': [50000, 60000, 70000]}. What is the maximum Age and minimum Salary in the DataFrame?"
      ]
    },
    {
      "cell_type": "code",
      "execution_count": 59,
      "metadata": {},
      "outputs": [
        {
          "name": "stdout",
          "output_type": "stream",
          "text": [
            "      Name  Age  Salary\n",
            "0    Alice   25   50000\n",
            "1      Bob   30   60000\n",
            "2  Charlie   35   70000\n",
            "Maximum age in DataFrame: 35\n",
            "Minimum Salary in DataFrame: 50000\n"
          ]
        }
      ],
      "source": [
        "import pandas as pd\n",
        "data = {'Name': ['Alice', 'Bob', 'Charlie'], 'Age': [25, 30, 35], 'Salary': [50000, 60000, 70000]}\n",
        "\n",
        "#Maximum and minimum in general\n",
        "df_min_max = pd.DataFrame(data)\n",
        "print(df_min_max)\n",
        "\n",
        "#Now specify the items\n",
        "min_Salary = df_min_max['Salary'].min()\n",
        "max_age = df_min_max['Age'].max()\n",
        "\n",
        "#Now print minimum and maximum\n",
        "\n",
        "print(\"Maximum age in DataFrame:\", max_age)\n",
        "print(\"Minimum Salary in DataFrame:\", min_Salary)"
      ]
    },
    {
      "attachments": {},
      "cell_type": "markdown",
      "metadata": {},
      "source": [
        "#### Create a Pandas DataFrame object containing the following data: {'Name': ['Alice', 'Bob', 'Charlie'], 'Age': [25, 30, 35], 'Salary': [50000, 60000, 70000]}. Calculate the correlation coefficient between Age and Salary."
      ]
    },
    {
      "cell_type": "code",
      "execution_count": 95,
      "metadata": {},
      "outputs": [
        {
          "name": "stdout",
          "output_type": "stream",
          "text": [
            "Correlation coefficient between Age and Salary: 1.0\n"
          ]
        }
      ],
      "source": [
        "import pandas as pd\n",
        "#Define the data for our DataFrame that is the column names, and the values which are lists of values for each column\n",
        "Pam = {'Name': ['Alice', 'Bob', 'Charlie'], 'Age': [25, 30, 35], 'Salary': [50000, 60000, 70000]}\n",
        "df = pd.DataFrame(Pam)\n",
        "#create a new DataFrame object called 'df' \n",
        "# Then use the `corr()` method of the DataFrame to calculate the correlation matrix between all pairs of columns\n",
        "df_cor = pd.DataFrame(Pam)\n",
        "#We extract the correlation coefficient between 'Age' and 'Salary' from the correlation matrix\n",
        "#  using .loc[] and assign it to the 'correlation' variable\n",
        "\n",
        "corr_matrix = df.corr()\n",
        "correlation = corr_matrix.loc['Age', 'Salary']\n",
        "\n",
        "#Now we print the correlation coefficient using print().\n",
        "\n",
        "print('Correlation coefficient between Age and Salary:', correlation)"
      ]
    },
    {
      "cell_type": "markdown",
      "metadata": {
        "id": "l8bPg2etaGNU"
      },
      "source": [
        "## Grouping and Aggregating Data"
      ]
    },
    {
      "attachments": {},
      "cell_type": "markdown",
      "metadata": {},
      "source": [
        "#### Create a Pandas DataFrame object containing the following data: {'Name': ['Alice', 'Bob', 'Charlie', 'Dave', 'Eve'], 'Age': [25, 30, 35, 25, 30], 'Salary': [50000, 60000, 70000, 80000, 90000]}. Group the DataFrame by Age and calculate the mean Salary for each group."
      ]
    },
    {
      "cell_type": "code",
      "execution_count": 97,
      "metadata": {
        "id": "3Ev8WrCQaN0t"
      },
      "outputs": [
        {
          "name": "stdout",
          "output_type": "stream",
          "text": [
            "Grouped by Age and mean Salary:\n",
            "      Salary\n",
            "Age         \n",
            "25   65000.0\n",
            "30   75000.0\n",
            "35   70000.0\n"
          ]
        }
      ],
      "source": [
        "import pandas as pd\n",
        "#Define the data for our DataFrame \n",
        "# Here the keys represent the column names and the values are lists of values for each column\n",
        "Jael = {'Name': ['Alice', 'Bob', 'Charlie', 'Dave', 'Eve'], 'Age': [25, 30, 35, 25, 30], 'Salary': [50000, 60000, 70000, 80000, 90000]}\n",
        "\n",
        "#Create a Pandas DataFrame object called df using the pd.DataFrame() constructor\n",
        "#We group the DataFrame df by the 'Age' column using the groupby() method \n",
        "# Now select the 'Salary' column using square brackets to only include this column in our result.\n",
        "df_group = pd.DataFrame(Jael)\n",
        "#print(df_group)\n",
        "\n",
        "grouped_Jael = df_group.groupby('Age').agg({'Salary':'mean'})\n",
        "print('Grouped by Age and mean Salary:')\n",
        "print(grouped_Jael) "
      ]
    },
    {
      "cell_type": "markdown",
      "metadata": {
        "id": "uqNLYJGBamsa"
      },
      "source": [
        "## Reshaping Data"
      ]
    },
    {
      "attachments": {},
      "cell_type": "markdown",
      "metadata": {},
      "source": [
        "#### Create a Pandas DataFrame object containing the following data: {'Year': [2019, 2019, 2020, 2020], 'Quarter': ['Q1', 'Q2', 'Q1', 'Q2'], 'Sales': [100, 200, 300, 400]}. Pivot the DataFrame so that the rows are indexed by Year, the columns are indexed by Quarter, and the values are the Sales."
      ]
    },
    {
      "cell_type": "code",
      "execution_count": 99,
      "metadata": {},
      "outputs": [
        {
          "data": {
            "text/html": [
              "<div>\n",
              "<style scoped>\n",
              "    .dataframe tbody tr th:only-of-type {\n",
              "        vertical-align: middle;\n",
              "    }\n",
              "\n",
              "    .dataframe tbody tr th {\n",
              "        vertical-align: top;\n",
              "    }\n",
              "\n",
              "    .dataframe thead th {\n",
              "        text-align: right;\n",
              "    }\n",
              "</style>\n",
              "<table border=\"1\" class=\"dataframe\">\n",
              "  <thead>\n",
              "    <tr style=\"text-align: right;\">\n",
              "      <th>Quarter</th>\n",
              "      <th>Q1</th>\n",
              "      <th>Q2</th>\n",
              "    </tr>\n",
              "    <tr>\n",
              "      <th>Year</th>\n",
              "      <th></th>\n",
              "      <th></th>\n",
              "    </tr>\n",
              "  </thead>\n",
              "  <tbody>\n",
              "    <tr>\n",
              "      <th>2019</th>\n",
              "      <td>100</td>\n",
              "      <td>200</td>\n",
              "    </tr>\n",
              "    <tr>\n",
              "      <th>2020</th>\n",
              "      <td>300</td>\n",
              "      <td>400</td>\n",
              "    </tr>\n",
              "  </tbody>\n",
              "</table>\n",
              "</div>"
            ],
            "text/plain": [
              "Quarter   Q1   Q2\n",
              "Year             \n",
              "2019     100  200\n",
              "2020     300  400"
            ]
          },
          "execution_count": 99,
          "metadata": {},
          "output_type": "execute_result"
        }
      ],
      "source": [
        "import pandas as pd\n",
        "\n",
        "## Define the data as a Python dictionary\n",
        "Christ = {'Year': [2019, 2019, 2020, 2020], 'Quarter': ['Q1', 'Q2', 'Q1', 'Q2'], 'Sales': [100, 200, 300, 400]}\n",
        "\n",
        "# Create a Pandas DataFrame object\n",
        "df = pd.DataFrame(Christ)\n",
        "\n",
        "# Use the pivot method to create a pivoted DataFrame but in table form for the purpose of order\n",
        "df_pivot = pd.DataFrame(Christ)\n",
        "\n",
        "#This is the general pivoting\n",
        "#print(df_pivot)\n",
        "\n",
        "#pivot_df = df.pivot(index='Year', columns='Quarter', values='Sales')\n",
        "pivoted_Christ = df_pivot.pivot_table(index='Year', columns='Quarter', values='Sales')\n",
        "\n",
        "pivoted_Christ"
      ]
    },
    {
      "cell_type": "code",
      "execution_count": null,
      "metadata": {
        "id": "7UWE3_NaawLj"
      },
      "outputs": [],
      "source": []
    },
    {
      "attachments": {},
      "cell_type": "markdown",
      "metadata": {},
      "source": [
        "#### Create a Pandas DataFrame object containing the following data: {'Name': ['Alice', 'Bob', 'Charlie'], 'Gender': ['F', 'M', 'M'], 'Salary 2019': [50000, 60000, 70000], 'Salary 2020': [55000, 65000, 75000]}. Melt the DataFrame so that the variable column contains the years and the value column contains the salaries."
      ]
    },
    {
      "cell_type": "code",
      "execution_count": 100,
      "metadata": {},
      "outputs": [
        {
          "name": "stdout",
          "output_type": "stream",
          "text": [
            "      Name Gender  Year  Salary\n",
            "0    Alice      F  2019   50000\n",
            "1      Bob      M  2019   60000\n",
            "2  Charlie      M  2019   70000\n",
            "3    Alice      F  2020   55000\n",
            "4      Bob      M  2020   65000\n",
            "5  Charlie      M  2020   75000\n"
          ]
        }
      ],
      "source": [
        "import pandas as pd\n",
        "# Define the data as a Python dictionary\n",
        "data = {'Name': ['Alice', 'Bob', 'Charlie'], 'Gender': ['F', 'M', 'M'], 'Salary 2019': [50000, 60000, 70000], 'Salary 2020': [55000, 65000, 75000]}\n",
        "\n",
        "# Create a Pandas DataFrame object from the data dictionary\n",
        "df = pd.DataFrame(data)\n",
        "#print(df)\n",
        "\n",
        "# Using the melt method, we create a melted DataFrame\n",
        "melted_df = df.melt(id_vars=['Name', 'Gender'], var_name='Year', value_name='Salary')\n",
        "\n",
        "# extract the year from the \"Year\" column\n",
        "melted_df['Year'] = melted_df['Year'].str.extract('(\\d+)')\n",
        "print(melted_df)\n",
        "\n",
        "#print(df) Shows us the dataframe before melting\n",
        "#print(melted_df)  Shows the variable column containing the years and the value column contains the salaries.\n",
        "\n"
      ]
    },
    {
      "cell_type": "markdown",
      "metadata": {
        "id": "Q7_gHKi5a0bN"
      },
      "source": [
        "## Merging and Joining Data"
      ]
    },
    {
      "attachments": {},
      "cell_type": "markdown",
      "metadata": {},
      "source": [
        "#### Create two Pandas DataFrame objects, df1 and df2, containing the following data: df1 = {'key': ['A', 'B', 'C', 'D'], 'value': [1, 2, 3, 4]} and df2 = {'key': ['B', 'D', 'E', 'F'], 'value': [5, 6, 7, 8]}. Merge the two DataFrames using an inner join on the 'key' column."
      ]
    },
    {
      "cell_type": "code",
      "execution_count": 75,
      "metadata": {},
      "outputs": [
        {
          "name": "stdout",
          "output_type": "stream",
          "text": [
            "  key  value_lef  value_right\n",
            "0   B          2            5\n",
            "1   D          4            6\n"
          ]
        }
      ],
      "source": [
        "import pandas as pd\n",
        "# create df1 DataFrame\n",
        "df1 = pd.DataFrame({'key': ['A', 'B', 'C', 'D'], 'value': [1, 2, 3, 4]})\n",
        "#print(df1)\n",
        "# create df2 DataFrame\n",
        "df2 = pd.DataFrame({'key': ['B', 'D', 'E' , 'F'], 'value': [5, 6, 7, 8]})\n",
        "#print(df2)\n",
        "\n",
        "# merge the two DataFrames using an inner join on the 'key' column\n",
        "df_merged = pd.merge(df1, df2, on = 'key', how = 'inner', suffixes=('_lef','_right'))\n",
        "\n",
        "print(df_merged)"
      ]
    },
    {
      "attachments": {},
      "cell_type": "markdown",
      "metadata": {},
      "source": [
        "#### Create two Pandas DataFrame objects, df1 and df2, containing the following data: df1 = {'key': ['A', 'B', 'C', 'D'], 'value1': [1, 2, 3, 4]} and df2 = {'key': ['B', 'D', 'E', 'F'], 'value2': [5, 6, 7, 8]}. Perform a left join on df1 and df2 using the 'key' column as the join key."
      ]
    },
    {
      "cell_type": "code",
      "execution_count": 101,
      "metadata": {},
      "outputs": [
        {
          "name": "stdout",
          "output_type": "stream",
          "text": [
            "  key  value1  value2\n",
            "0   A       1     NaN\n",
            "1   B       2     5.0\n",
            "2   C       3     NaN\n",
            "3   D       4     6.0\n"
          ]
        }
      ],
      "source": [
        "import pandas as pd\n",
        "# create df1 DataFrame\n",
        "df1 = pd.DataFrame({'key': ['A', 'B', 'C', 'D'], 'value1': [1, 2, 3, 4]})\n",
        "#print(df1)\n",
        "\n",
        "# create df2 DataFrame\n",
        "df2 = pd.DataFrame({'key': ['B', 'D', 'E', 'F'], 'value2': [5, 6, 7, 8]})\n",
        "#print(df2)\n",
        "# perform a left join on df1 and df2 using the 'key' column as the join key\n",
        "merged_df = pd.merge(df1, df2, on='key', how='left')\n",
        "print(merged_df)\n"
      ]
    },
    {
      "cell_type": "markdown",
      "metadata": {
        "id": "pYg6Y5SRb1ML"
      },
      "source": [
        "## Mini Pandas Project\n",
        "\n",
        "- Load the CSV file into a Pandas DataFrame object.\n",
        "- Clean the data by removing any rows with missing values and any duplicate rows.\n",
        "- Use NumPy to calculate the mean and standard deviation of the \"births\" column.\n",
        "- Use Pandas to group the data by year and month, and calculate the mean number of births for each group.\n",
        "- Use Matplotlib to create a line plot of the mean number of births per month over time.\n",
        "- Use Pandas to group the data by day of the week, and calculate the mean number of births for each day.\n",
        "- Use Matplotlib to create a bar chart of the mean number of births per day of the week.\n",
        "- Use Pandas to group the data by year, and calculate the total number of births for each year.\n",
        "- Use Matplotlib to create a bar chart of the total number of births per year.\n",
        "\n",
        ">> NOTE: Below is boiler code for you to get started with.Please fill in the missing codes."
      ]
    },
    {
      "cell_type": "code",
      "execution_count": 2,
      "metadata": {
        "id": "QWvvcvj4eCyT"
      },
      "outputs": [
        {
          "name": "stdout",
          "output_type": "stream",
          "text": [
            "Mean: 4678.631512577155\n",
            "Standard deviation: 1003.0714179988807\n"
          ]
        },
        {
          "name": "stderr",
          "output_type": "stream",
          "text": [
            "C:\\Users\\pc\\AppData\\Local\\Temp\\ipykernel_21232\\106750779.py:34: SettingWithCopyWarning: \n",
            "A value is trying to be set on a copy of a slice from a DataFrame.\n",
            "Try using .loc[row_indexer,col_indexer] = value instead\n",
            "\n",
            "See the caveats in the documentation: https://pandas.pydata.org/pandas-docs/stable/user_guide/indexing.html#returning-a-view-versus-a-copy\n",
            "  dfk['date'] = pd.to_datetime(dfk['year']*10000 + dfk['month']*100 + 1, format='%Y%m%d')\n"
          ]
        },
        {
          "data": {
            "image/png": "[encoded data removed]",
            "text/plain": [
              "<Figure size 640x480 with 1 Axes>"
            ]
          },
          "metadata": {},
          "output_type": "display_data"
        },
        {
          "name": "stderr",
          "output_type": "stream",
          "text": [
            "C:\\Users\\pc\\AppData\\Local\\Temp\\ipykernel_21232\\106750779.py:48: SettingWithCopyWarning: \n",
            "A value is trying to be set on a copy of a slice from a DataFrame.\n",
            "Try using .loc[row_indexer,col_indexer] = value instead\n",
            "\n",
            "See the caveats in the documentation: https://pandas.pydata.org/pandas-docs/stable/user_guide/indexing.html#returning-a-view-versus-a-copy\n",
            "  dfk['day_of_week'] = dfk['date'].dt.day_name()\n"
          ]
        },
        {
          "data": {
            "image/png": "[encoded data removed]",
            "text/plain": [
              "<Figure size 640x480 with 1 Axes>"
            ]
          },
          "metadata": {},
          "output_type": "display_data"
        },
        {
          "data": {
            "image/png": "[encoded data removed]",
            "text/plain": [
              "<Figure size 640x480 with 1 Axes>"
            ]
          },
          "metadata": {},
          "output_type": "display_data"
        }
      ],
      "source": [
        "import pandas as pd\n",
        "import numpy as np\n",
        "import matplotlib.pyplot as plt\n",
        "\n",
        "# Load the CSV file into a Pandas DataFrame object\n",
        "df = pd.read_csv(\"https://raw.githubusercontent.com/jakevdp/data-CDCbirths/master/births.csv\")\n",
        "\n",
        "\n",
        "# Clean the data by removing any rows with missing values and any duplicate rows\n",
        "df = df.dropna()\n",
        "df = df.drop_duplicates()\n",
        "\n",
        "\n",
        "# Use NumPy to calculate the mean and standard deviation of the \"births\" column\n",
        "mean = np.mean(df['births'])\n",
        "std_dev = np.std(df['births'])\n",
        "\n",
        "print(\"Mean:\", mean)\n",
        "print(\"Standard deviation:\", std_dev)\n",
        "\n",
        "# Use Pandas to group the data by year and month, and calculate the mean number of births for each group\n",
        "dfm=df.drop_duplicates()\n",
        "dfmm=dfm.dropna()\n",
        "\n",
        "# filter rows where day is greater than 31\n",
        "# The boolean mask is a way of filtering a sequence or an array based on a condition\n",
        "# This could be true or false so acts as a check point\n",
        "mask = dfmm['day'] > 31\n",
        "dfk = dfmm[~mask]\n",
        "\n",
        "#print(dfk['year'].max())\n",
        "# write DataFrame to CSV file\n",
        "#dfk.to_csv('output.csv', index=False)\n",
        "dfk['date'] = pd.to_datetime(dfk['year']*10000 + dfk['month']*100 + 1, format='%Y%m%d')\n",
        "#df['date'] = pd.to_datetime(df['year']*10000 + df['month']*100 + df['day'], format='%Y%m%d')\n",
        "grouped_by_month = dfk.groupby([dfk['date'].dt.year, dfk['date'].dt.month])['births'].mean()\n",
        "grouped_by_month\n",
        "\n",
        "\n",
        "# Use Matplotlib to create a line plot of the mean number of births per month over time\n",
        "grouped_by_month.plot()\n",
        "plt.xlabel('Year-Month')\n",
        "plt.ylabel('Mean Number of Births')\n",
        "plt.title('Mean Number of Births per Month')\n",
        "plt.show()\n",
        "\n",
        "# Use Pandas to group the data by day of the week, and calculate the mean number of births for each day\n",
        "dfk['day_of_week'] = dfk['date'].dt.day_name()\n",
        "grouped_by_day_of_week = dfk.groupby(dfk['date'].dt.day_name())['births'].mean()\n",
        "grouped_by_day_of_week\n",
        "\n",
        "\n",
        "# Use Matplotlib to create a bar chart of the mean number of births per day of the week\n",
        "plt.bar(grouped_by_day_of_week.index, grouped_by_day_of_week.values)\n",
        "plt.xlabel('Day of the Week')\n",
        "plt.ylabel('Mean Number of Births')\n",
        "plt.title('Mean Number of Births per Day of the Week')\n",
        "plt.show()\n",
        "\n",
        "\n",
        "# Use Pandas to group the data by year, and calculate the total number of births for each year\n",
        "grouped_by_year = dfk.groupby(dfk['date'].dt.year)['births'].sum()\n",
        "\n",
        "\n",
        "# Use Matplotlib to create a bar chart of the total number of births per year\n",
        "plt.bar(grouped_by_year.index, grouped_by_year.values)\n",
        "plt.xlabel('Year')\n",
        "plt.ylabel('Total Number of Births')\n",
        "plt.title('Total Number of Births per Year')\n",
        "plt.show()"
      ]
    }
  ],
  "metadata": {
    "colab": {
      "provenance": []
    },
    "kernelspec": {
      "display_name": "Python 3",
      "name": "python3"
    },
    "language_info": {
      "codemirror_mode": {
        "name": "ipython",
        "version": 3
      },
      "file_extension": ".py",
      "mimetype": "text/x-python",
      "name": "python",
      "nbconvert_exporter": "python",
      "pygments_lexer": "ipython3",
      "version": "3.9.13"
    }
  },
  "nbformat": 4,
  "nbformat_minor": 0
}
