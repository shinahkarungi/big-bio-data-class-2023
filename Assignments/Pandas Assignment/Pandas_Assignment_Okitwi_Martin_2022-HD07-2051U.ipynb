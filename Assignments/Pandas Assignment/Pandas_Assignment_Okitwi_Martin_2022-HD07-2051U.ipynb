{
  "cells": [
    {
      "attachments": {},
      "cell_type": "markdown",
      "metadata": {
        "id": "QjhxZHa4XZrg"
      },
      "source": [
        "Pandas Assignment\n",
        "Student Name: OKITWI MARTIN\n",
        "\n",
        "Reg No: 2022/HD07/2051U\n",
        "\n",
        "Instructions:\n",
        "Please complete the questions below.\n",
        "Please comment your code indicating how you approached the problem"
      ]
    },
    {
      "attachments": {},
      "cell_type": "markdown",
      "metadata": {
        "id": "dzFp6JEGY-U2"
      },
      "source": [
        "## Introduction to Pandas\n",
        "Pandas is a python library built on the NumPy library, and used for analyzing and manipulating large datasets of the class of series and dataframes.\n",
        "Main features of pandas include:\n",
        "- Data ingestion (can read data from several sources eg excel, CSV, SQL and web APIs)\n",
        "- Easy data celeaning and transformation using various functions for handling missing data, removing duplicates, etc.\n",
        "- Provides many functions for analyzing and manipulating data including grouping, aggregation, filtering and sorting.\n",
        "- provides easy intergration with Matplotlib, making creating and plotting of charts easy in pandas "
      ]
    },
    {
      "attachments": {},
      "cell_type": "markdown",
      "metadata": {},
      "source": [
        "### To use the pandas library, first load the library using the import function as shown below:"
      ]
    },
    {
      "cell_type": "code",
      "execution_count": 1,
      "metadata": {},
      "outputs": [],
      "source": [
        "#load pandas\n",
        "import pandas as pd"
      ]
    },
    {
      "attachments": {},
      "cell_type": "markdown",
      "metadata": {
        "id": "BTAGt12UXCSg"
      },
      "source": [
        "### Create a Pandas Series object containing the following data: 5, 10, 15, 20, 25. What is the average of the values in the Series?\n",
        "- Series is a one-dimensional labeled array that can hold any data type, including integers, floats, strings, and objects. It is similar to a column in a spreadsheet or a DataFrame.\n",
        "- The pandas series can be created by first creating a pyhton list, then passing (converting) the list using the pd.Series() function"
      ]
    },
    {
      "cell_type": "code",
      "execution_count": 16,
      "metadata": {},
      "outputs": [
        {
          "name": "stdout",
          "output_type": "stream",
          "text": [
            "0     5\n",
            "1    10\n",
            "2    15\n",
            "3    20\n",
            "4    25\n",
            "dtype: int64\n",
            "15.0\n",
            "15.0\n"
          ]
        }
      ],
      "source": [
        "# create pyhton list with above data\n",
        "list1 = [5,10,15,20,25]\n",
        "# convert list to series object\n",
        "series1 = pd.Series(list1)\n",
        "print(series1)\n",
        "\n",
        "# Average of values in the series\n",
        "Average = series1.mean()\n",
        "print(Average)\n",
        "\n",
        "# Average for Series with missing values, use skipna=True to exclude the Na value.\n",
        "import numpy as np\n",
        "series2 = pd.Series([5,10, np.NaN, 20,25])\n",
        "Average2 = series2.mean(skipna=True)\n",
        "print(Average2)"
      ]
    },
    {
      "attachments": {},
      "cell_type": "markdown",
      "metadata": {},
      "source": [
        "### Dataframe:\n",
        "- A DataFrame is a two-dimensional labeled data structure consisting of rows and columns, where each column can have a different data type. \n",
        "- It is similar to a table in a relational database or as a spreadsheet in Excel.\n",
        "- They can be created from dictionaries (of lists or arrays), lists of dictionaries or by reading data from a CSV file.\n",
        "Consider below:"
      ]
    },
    {
      "attachments": {},
      "cell_type": "markdown",
      "metadata": {
        "id": "r_2GlShpZCY0"
      },
      "source": [
        "### Create a Pandas DataFrame object containing the following data: {'Name': ['Alice', 'Bob', 'Charlie'], 'Age': [25, 30, 35], 'Salary': [50000, 60000, 70000]}. What is the total salary of all employees?"
      ]
    },
    {
      "cell_type": "code",
      "execution_count": 22,
      "metadata": {},
      "outputs": [
        {
          "name": "stdout",
          "output_type": "stream",
          "text": [
            "      Name  Age  Salary\n",
            "0    Alice   25   50000\n",
            "1      Bob   30   60000\n",
            "2  Charlie   35   70000\n",
            "180000\n"
          ]
        }
      ],
      "source": [
        "# start by creating a dictionary\n",
        "data = {'Name': ['Alice', 'Bob', 'Charlie'], 'Age': [25,30,35], 'Salary': [50000, 60000, 70000]}\n",
        "\n",
        "# construct dataframe from above data dictionary\n",
        "dataframe1 = pd.DataFrame(data) \n",
        "print(dataframe1)\n",
        "\n",
        "# Total salary of employees\n",
        "tot_salary = dataframe1['Salary'].sum()\n",
        "print(tot_salary)\n",
        "                                                                             "
      ]
    },
    {
      "cell_type": "markdown",
      "metadata": {
        "id": "yhIUNmfGZG9l"
      },
      "source": [
        "## DataFrames and Series"
      ]
    },
    {
      "cell_type": "code",
      "execution_count": 24,
      "metadata": {
        "id": "h9-hguvpZKVF"
      },
      "outputs": [
        {
          "name": "stdout",
          "output_type": "stream",
          "text": [
            "0    1\n",
            "1    2\n",
            "2    3\n",
            "3    4\n",
            "4    5\n",
            "dtype: int64\n",
            "0    11\n",
            "1    12\n",
            "2    13\n",
            "3    14\n",
            "4    15\n",
            "dtype: int64\n"
          ]
        }
      ],
      "source": [
        "# Create a Pandas Series object containing the following data: [1, 2, 3, 4, 5]. Add 10 to each value in the Series.\n",
        "series3 = pd.Series([1,2,3,4,5])\n",
        "print(series3)\n",
        "\n",
        "# add 10 to each value\n",
        "series4 = series3 + 10\n",
        "print(series4)"
      ]
    },
    {
      "cell_type": "code",
      "execution_count": 28,
      "metadata": {
        "id": "fwEQ6vAJZPwt"
      },
      "outputs": [
        {
          "name": "stdout",
          "output_type": "stream",
          "text": [
            "      Name  Age  Salary\n",
            "0    Alice   25   50000\n",
            "1      Bob   30   60000\n",
            "2  Charlie   35   70000\n",
            "      Name  Age  Salary\n",
            "2  Charlie   35   70000\n"
          ]
        }
      ],
      "source": [
        "# Create a Pandas DataFrame object containing the following data: {'Name': ['Alice', 'Bob', 'Charlie'], 'Age': [25, 30, 35], 'Salary': [50000, 60000, 70000]}. Select only the rows where the Age is greater than 30.\n",
        "dataframe2 = pd.DataFrame({'Name': ['Alice', 'Bob', 'Charlie'], 'Age': [25,30,35], 'Salary': [50000, 60000, 70000]})\n",
        "print(dataframe2)\n",
        "\n",
        "#Select only the rows where the Age is greater than 30.\n",
        "Age_Over30 = dataframe2[dataframe2['Age'] >30]\n",
        "print(Age_Over30)\n"
      ]
    },
    {
      "cell_type": "markdown",
      "metadata": {
        "id": "nDrPzc3tZVCc"
      },
      "source": [
        "## Loading Data into Pandas"
      ]
    },
    {
      "cell_type": "code",
      "execution_count": 40,
      "metadata": {
        "id": "sdNPXVUWZZ_i"
      },
      "outputs": [
        {
          "name": "stdout",
          "output_type": "stream",
          "text": [
            "   Pregnancies  Glucose  BloodPressure  SkinThickness  Insulin   BMI  \\\n",
            "0            6      148             72             35        0  33.6   \n",
            "1            1       85             66             29        0  26.6   \n",
            "2            8      183             64              0        0  23.3   \n",
            "3            1       89             66             23       94  28.1   \n",
            "4            0      137             40             35      168  43.1   \n",
            "\n",
            "   DiabetesPedigreeFunction  Age  Outcome  \n",
            "0                     0.627   50        1  \n",
            "1                     0.351   31        0  \n",
            "2                     0.672   32        1  \n",
            "3                     0.167   21        0  \n",
            "4                     2.288   33        1  \n",
            "Index(['Pregnancies', 'Glucose', 'BloodPressure', 'SkinThickness', 'Insulin',\n",
            "       'BMI', 'DiabetesPedigreeFunction', 'Age', 'Outcome'],\n",
            "      dtype='object')\n"
          ]
        }
      ],
      "source": [
        "#Load a CSV file named 'diabetes.csv' into a Pandas DataFrame object. What are the names of the columns in the DataFrame?\n",
        "#Please check your data folder for this dataset\n",
        "\n",
        "dataframe3 = pd.read_csv('C:/Users/marti/Desktop/big-bio-data-class-2023/Data/Diabetes/diabetes.csv')\n",
        "print(dataframe3.head())  # to see the first 5 rows of dataframe3\n",
        "\n",
        "# column names in the dataframe3\n",
        "col_names = dataframe3.columns\n",
        "print(col_names)\n",
        "# alternatively\n",
        "print(dataframe3.columns)"
      ]
    },
    {
      "cell_type": "code",
      "execution_count": 43,
      "metadata": {
        "id": "Xc9EYfEqZiG_"
      },
      "outputs": [
        {
          "name": "stdout",
          "output_type": "stream",
          "text": [
            "(768, 9)\n"
          ]
        }
      ],
      "source": [
        "#Display the dimensions of the data\n",
        "print(dataframe3.shape)"
      ]
    },
    {
      "cell_type": "code",
      "execution_count": 46,
      "metadata": {
        "id": "4a5FAPN_ZlRJ"
      },
      "outputs": [
        {
          "name": "stdout",
          "output_type": "stream",
          "text": [
            "   Pregnancies  Glucose  BloodPressure  SkinThickness  Insulin   BMI  \\\n",
            "0            6      148             72             35        0  33.6   \n",
            "1            1       85             66             29        0  26.6   \n",
            "2            8      183             64              0        0  23.3   \n",
            "3            1       89             66             23       94  28.1   \n",
            "4            0      137             40             35      168  43.1   \n",
            "5            5      116             74              0        0  25.6   \n",
            "6            3       78             50             32       88  31.0   \n",
            "7           10      115              0              0        0  35.3   \n",
            "8            2      197             70             45      543  30.5   \n",
            "9            8      125             96              0        0   0.0   \n",
            "\n",
            "   DiabetesPedigreeFunction  Age  Outcome  \n",
            "0                     0.627   50        1  \n",
            "1                     0.351   31        0  \n",
            "2                     0.672   32        1  \n",
            "3                     0.167   21        0  \n",
            "4                     2.288   33        1  \n",
            "5                     0.201   30        0  \n",
            "6                     0.248   26        1  \n",
            "7                     0.134   29        0  \n",
            "8                     0.158   53        1  \n",
            "9                     0.232   54        1  \n"
          ]
        }
      ],
      "source": [
        "#Display the top 10 rows\n",
        "print(dataframe3.head(10))"
      ]
    },
    {
      "cell_type": "code",
      "execution_count": 47,
      "metadata": {
        "id": "kXh8GQx6ZosC"
      },
      "outputs": [
        {
          "name": "stdout",
          "output_type": "stream",
          "text": [
            "     Pregnancies  Glucose  BloodPressure  SkinThickness  Insulin   BMI  \\\n",
            "758            1      106             76              0        0  37.5   \n",
            "759            6      190             92              0        0  35.5   \n",
            "760            2       88             58             26       16  28.4   \n",
            "761            9      170             74             31        0  44.0   \n",
            "762            9       89             62              0        0  22.5   \n",
            "763           10      101             76             48      180  32.9   \n",
            "764            2      122             70             27        0  36.8   \n",
            "765            5      121             72             23      112  26.2   \n",
            "766            1      126             60              0        0  30.1   \n",
            "767            1       93             70             31        0  30.4   \n",
            "\n",
            "     DiabetesPedigreeFunction  Age  Outcome  \n",
            "758                     0.197   26        0  \n",
            "759                     0.278   66        1  \n",
            "760                     0.766   22        0  \n",
            "761                     0.403   43        1  \n",
            "762                     0.142   33        0  \n",
            "763                     0.171   63        0  \n",
            "764                     0.340   27        0  \n",
            "765                     0.245   30        0  \n",
            "766                     0.349   47        1  \n",
            "767                     0.315   23        0  \n"
          ]
        }
      ],
      "source": [
        "#Display the last 10 rows\n",
        "print(dataframe3.tail(10))"
      ]
    },
    {
      "cell_type": "markdown",
      "metadata": {
        "id": "CDKEEmvmZwiq"
      },
      "source": [
        "## Data Cleaning"
      ]
    },
    {
      "cell_type": "code",
      "execution_count": 55,
      "metadata": {
        "id": "PFzUFZrTZzxV"
      },
      "outputs": [
        {
          "name": "stdout",
          "output_type": "stream",
          "text": [
            "      Name   Age   Salary\n",
            "0    Alice  25.0  50000.0\n",
            "1      Bob  30.0      NaN\n",
            "2  Cahrlie   NaN  70000.0\n",
            "3     Dave  35.0  80000.0\n",
            "4      Eve  40.0  90000.0\n",
            "    Name   Age   Salary\n",
            "0  Alice  25.0  50000.0\n",
            "3   Dave  35.0  80000.0\n",
            "4    Eve  40.0  90000.0\n"
          ]
        }
      ],
      "source": [
        "#Create a Pandas DataFrame object containing the following data: {'Name': ['Alice', 'Bob', 'Charlie', 'Dave', 'Eve'], 'Age': [25, 30, None, 35, 40], 'Salary': [50000, None, 70000, 80000, 90000]}. Remove all rows with missing values\n",
        "\n",
        "dataframe4 = pd.DataFrame({'Name': ['Alice', 'Bob', 'Cahrlie', 'Dave', 'Eve'], \n",
        "                           'Age':[25,30, None, 35, 40], \n",
        "                           'Salary': [50000, None, 70000, 80000, 90000]})\n",
        "print(dataframe4)\n",
        "\n",
        "# remove rows with missing values\n",
        "dataframe5 = dataframe4.dropna()\n",
        "print(dataframe5)"
      ]
    },
    {
      "cell_type": "code",
      "execution_count": 60,
      "metadata": {
        "id": "PRof8tNzZ34b"
      },
      "outputs": [
        {
          "name": "stdout",
          "output_type": "stream",
          "text": [
            "      Name   Age   Salary\n",
            "0    Alice  25.0  50000.0\n",
            "1      Bob  30.0      NaN\n",
            "2  Cahrlie   NaN  70000.0\n",
            "3     Dave  35.0  80000.0\n",
            "4      Eve  40.0  90000.0\n",
            "32.5\n",
            "75000.0\n",
            "      Name   Age   Salary\n",
            "0    Alice  25.0  50000.0\n",
            "1      Bob  30.0  75000.0\n",
            "2  Cahrlie  32.5  70000.0\n",
            "3     Dave  35.0  80000.0\n",
            "4      Eve  40.0  90000.0\n"
          ]
        }
      ],
      "source": [
        "#Create a Pandas DataFrame object containing the following data: {'Name': ['Alice', 'Bob', 'Charlie', 'Dave', 'Eve'], 'Age': [25, 30, None, 35, 40], 'Salary': [50000, None, 70000, 80000, 90000]}. Fill all missing values with the average Age and the median Salary.\n",
        "dataframe6 = pd.DataFrame({'Name': ['Alice', 'Bob', 'Cahrlie', 'Dave', 'Eve'], \n",
        "                           'Age':[25,30, None, 35, 40], \n",
        "                           'Salary': [50000, None, 70000, 80000, 90000]})\n",
        "print(dataframe6)\n",
        "\n",
        "# first, we calculate the average age and median mean\n",
        "av_age = dataframe6['Age'].mean()\n",
        "print(av_age)\n",
        "med_sal = dataframe6['Salary'].median()\n",
        "print(med_sal)\n",
        "\n",
        "# then we replace the missing values using the .fillna() function\n",
        "dataframe6['Age'] = dataframe6['Age'].fillna(av_age)\n",
        "dataframe6['Salary'] = dataframe6['Salary'].fillna(med_sal)\n",
        "\n",
        "# then print the dataframe6 with replaced NA values\n",
        "print(dataframe6)"
      ]
    },
    {
      "cell_type": "markdown",
      "metadata": {
        "id": "Dm9ghsopZ8Fb"
      },
      "source": [
        "## Data Exploration"
      ]
    },
    {
      "cell_type": "code",
      "execution_count": 65,
      "metadata": {
        "id": "y3MDNAY6Z_xz"
      },
      "outputs": [
        {
          "name": "stdout",
          "output_type": "stream",
          "text": [
            "      Name  Age  Salary\n",
            "0    Alice   25   50000\n",
            "1      Bob   30   60000\n",
            "2  Charlie   35   70000\n",
            "35\n",
            "50000\n"
          ]
        }
      ],
      "source": [
        "#Create a Pandas DataFrame object containing the following data: {'Name': ['Alice', 'Bob', 'Charlie'], 'Age': [25, 30, 35], 'Salary': [50000, 60000, 70000]}. What is the maximum Age and minimum Salary in the DataFrame?\n",
        "dataframe7 = pd.DataFrame({'Name': ['Alice', 'Bob', 'Charlie'],\n",
        "                           'Age': [25,30,35],\n",
        "                           'Salary': [50000, 60000, 70000]})\n",
        "print(dataframe7)\n",
        "\n",
        "# Maximum age and minimum salary in dataframe7\n",
        "max_age = dataframe7['Age'].max()\n",
        "print(max_age)\n",
        "min_salary = dataframe7['Salary'].min()\n",
        "print(min_salary)"
      ]
    },
    {
      "cell_type": "code",
      "execution_count": 70,
      "metadata": {
        "id": "vDlB5kgpaDwE"
      },
      "outputs": [
        {
          "name": "stdout",
          "output_type": "stream",
          "text": [
            "      Name  Age  Salary\n",
            "0    Alice   25   50000\n",
            "1      Bob   30   60000\n",
            "2  Charlie   35   70000\n",
            "1.0\n"
          ]
        }
      ],
      "source": [
        "#Create a Pandas DataFrame object containing the following data: {'Name': ['Alice', 'Bob', 'Charlie'], 'Age': [25, 30, 35], 'Salary': [50000, 60000, 70000]}. Calculate the correlation coefficient between Age and Salary.\n",
        "dataframe8 = pd.DataFrame({'Name': ['Alice', 'Bob', 'Charlie'],\n",
        "                           'Age': [25,30,35],\n",
        "                           \"Salary\": [50000, 60000, 70000]})\n",
        "print(dataframe8)\n",
        "\n",
        "# Calc correlation coefficient btn Age and Salary\n",
        "corr_coeff = dataframe8['Age'].corr(dataframe8['Salary'])\n",
        "print(corr_coeff)"
      ]
    },
    {
      "cell_type": "markdown",
      "metadata": {
        "id": "l8bPg2etaGNU"
      },
      "source": [
        "## Grouping and Aggregating Data"
      ]
    },
    {
      "cell_type": "code",
      "execution_count": 78,
      "metadata": {
        "id": "njbAfs1xaJ4d"
      },
      "outputs": [
        {
          "name": "stdout",
          "output_type": "stream",
          "text": [
            "      Name  Age  Salary\n",
            "0    Alice   25   50000\n",
            "1      Bob   30   60000\n",
            "2  Charlie   35   70000\n",
            "3     Dave   25   80000\n",
            "4      Eve   30   90000\n",
            "      Salary\n",
            "Age         \n",
            "25   65000.0\n",
            "30   75000.0\n",
            "35   70000.0\n"
          ]
        }
      ],
      "source": [
        "#Create a Pandas DataFrame object containing the following data: {'Name': ['Alice', 'Bob', 'Charlie', 'Dave', 'Eve'], 'Age': [25, 30, 35, 25, 30], 'Salary': [50000, 60000, 70000, 80000, 90000]}. Group the DataFrame by Age and calculate the mean Salary for each group.\n",
        "dataframe9 = pd.DataFrame({'Name': ['Alice', 'Bob', 'Charlie', \"Dave\", 'Eve'],\n",
        "                           'Age': [25,30,35,25,30],\n",
        "                           \"Salary\": [50000, 60000, 70000, 80000, 90000]})\n",
        "print(dataframe9)\n",
        "\n",
        "# Group the DataFrame by Age and calculate the mean Salary for each group\n",
        "grouped_age = dataframe9.groupby('Age').mean('Salary')\n",
        "print(grouped_age)\n"
      ]
    },
    {
      "cell_type": "code",
      "execution_count": 82,
      "metadata": {},
      "outputs": [
        {
          "name": "stdout",
          "output_type": "stream",
          "text": [
            "Empty DataFrame\n",
            "Columns: []\n",
            "Index: [(25, 50000), (25, 80000), (30, 60000), (30, 90000), (35, 70000)]\n",
            "                Age   Salary\n",
            "Salary range                \n",
            "<60000         27.5  55000.0\n",
            ">=60000<80000  30.0  75000.0\n",
            ">80000         30.0  90000.0\n",
            "      Name  Age  Salary   Salary range\n",
            "0    Alice   25   50000         <60000\n",
            "1      Bob   30   60000         <60000\n",
            "2  Charlie   35   70000  >=60000<80000\n",
            "3     Dave   25   80000  >=60000<80000\n",
            "4      Eve   30   90000         >80000\n"
          ]
        },
        {
          "name": "stderr",
          "output_type": "stream",
          "text": [
            "C:\\Users\\marti\\AppData\\Local\\Temp\\ipykernel_13880\\2656477837.py:2: FutureWarning: Dropping invalid columns in DataFrameGroupBy.mean is deprecated. In a future version, a TypeError will be raised. Before calling .mean, select only columns which should be valid for the function.\n",
            "  grouped = dataframe9.groupby(['Age', 'Salary']).mean()\n"
          ]
        }
      ],
      "source": [
        "# group by more than 1 column\n",
        "grouped = dataframe9.groupby(['Age', 'Salary']).mean()\n",
        "print(grouped)\n",
        "\n",
        "# group by Salary range, create a new column of salry ranges\n",
        "bins = [0, 60000, 80000, float('inf')]\n",
        "labels = ['<60000', '>=60000<80000', '>80000']\n",
        "dataframe9['Salary range'] = pd.cut(dataframe9['Salary'], bins= bins, labels=labels)\n",
        "\n",
        "grouped_sal_range = dataframe9.groupby(\"Salary range\").mean('Age')\n",
        "print(grouped_sal_range)\n",
        "\n",
        "print(dataframe9)"
      ]
    },
    {
      "cell_type": "markdown",
      "metadata": {
        "id": "uqNLYJGBamsa"
      },
      "source": [
        "## Reshaping Data"
      ]
    },
    {
      "cell_type": "code",
      "execution_count": 85,
      "metadata": {
        "id": "nPyItbc6aoPA"
      },
      "outputs": [
        {
          "name": "stdout",
          "output_type": "stream",
          "text": [
            "   Year Quarter  Sales\n",
            "0  2019      Q1    100\n",
            "1  2019      Q2    200\n",
            "2  2020      Q1    300\n",
            "3  2020      Q2    400\n",
            "Quarter   Q1   Q2\n",
            "Year             \n",
            "2019     100  200\n",
            "2020     300  400\n"
          ]
        }
      ],
      "source": [
        "#Create a Pandas DataFrame object containing the following data: {'Year': [2019, 2019, 2020, 2020], 'Quarter': ['Q1', 'Q2', 'Q1', 'Q2'], 'Sales': [100, 200, 300, 400]}. Pivot the DataFrame so that the rows are indexed by Year, the columns are indexed by Quarter, and the values are the Sales.\n",
        "dataframe10 = pd.DataFrame({'Year': [2019,2019,2020,2020],\n",
        "                            'Quarter': ['Q1','Q2','Q1', 'Q2'],\n",
        "                            \"Sales\": [100,200,300,400]})\n",
        "print(dataframe10)\n",
        "\n",
        "# Pivot the DataFrame so that the rows are indexed by Year, the columns are indexed by Quarter, and the values are the Sales.\n",
        "pivoted_df10 = dataframe10.pivot(index='Year', columns=\"Quarter\", values='Sales')\n",
        "print(pivoted_df10)"
      ]
    },
    {
      "cell_type": "code",
      "execution_count": 89,
      "metadata": {
        "id": "7UWE3_NaawLj"
      },
      "outputs": [
        {
          "name": "stdout",
          "output_type": "stream",
          "text": [
            "      Name Gender  Salary 2019  Salary 2020\n",
            "0    Alice      F        50000        55000\n",
            "1      Bob      M        60000        65000\n",
            "2  Charlie      M        70000        75000\n",
            "      Name Gender         Year  Salary\n",
            "0    Alice      F  Salary 2019   50000\n",
            "1      Bob      M  Salary 2019   60000\n",
            "2  Charlie      M  Salary 2019   70000\n",
            "3    Alice      F  Salary 2020   55000\n",
            "4      Bob      M  Salary 2020   65000\n",
            "5  Charlie      M  Salary 2020   75000\n"
          ]
        }
      ],
      "source": [
        "#Create a Pandas DataFrame object containing the following data: {'Name': ['Alice', 'Bob', 'Charlie'], 'Gender': ['F', 'M', 'M'], 'Salary 2019': [50000, 60000, 70000], 'Salary 2020': [55000, 65000, 75000]}. Melt the DataFrame so that the variable column contains the years and the value column contains the salaries.\n",
        "dataframe11 = pd.DataFrame({'Name': ['Alice', \"Bob\", 'Charlie'],\n",
        "                            'Gender': ['F', 'M', 'M'],\n",
        "                            \"Salary 2019\": [50000, 60000, 70000],\n",
        "                            'Salary 2020': [55000, 65000, 75000]})\n",
        "print(dataframe11)\n",
        "# Melt the DataFrame so that the variable column contains the years and the value column contains the salaries.\n",
        "melted_df11 = dataframe11.melt(id_vars=['Name', 'Gender'], var_name='Year', value_name='Salary')\n",
        "print(melted_df11)"
      ]
    },
    {
      "cell_type": "markdown",
      "metadata": {
        "id": "Q7_gHKi5a0bN"
      },
      "source": [
        "## Merging and Joining Data"
      ]
    },
    {
      "cell_type": "code",
      "execution_count": 93,
      "metadata": {
        "id": "SPZOaqzIa7Js"
      },
      "outputs": [
        {
          "name": "stdout",
          "output_type": "stream",
          "text": [
            "  key  value_x  value_y\n",
            "0   B        2        5\n",
            "1   D        4        6\n"
          ]
        }
      ],
      "source": [
        "#Create two Pandas DataFrame objects, df1 and df2, containing the following data: df1 = {'key': ['A', 'B', 'C', 'D'], 'value': [1, 2, 3, 4]} and df2 = {'key': ['B', 'D', 'E', 'F'], 'value': [5, 6, 7, 8]}. Merge the two DataFrames using an inner join on the 'key' column.\n",
        "df1 = pd.DataFrame({'key': ['A', 'B', 'C', 'D'],\n",
        "                    'value': [1,2,3,4]})\n",
        "df2 = pd.DataFrame({'key': ['B', 'D', 'E', 'F'],\n",
        "                    'value': [5,6,7,8]})\n",
        "\n",
        "#Merge the two DataFrames using an inner join on the 'key' column ( the new df will only have rows where the 'key' is present in both dfs)\n",
        "merged_df = pd.merge(df1, df2, on='key', how='inner')\n",
        "print(merged_df)"
      ]
    },
    {
      "cell_type": "code",
      "execution_count": 95,
      "metadata": {
        "id": "Wvey28Jsa_Ws"
      },
      "outputs": [
        {
          "name": "stdout",
          "output_type": "stream",
          "text": [
            "  key  value_x  value_y\n",
            "0   A        1      NaN\n",
            "1   B        2      5.0\n",
            "2   C        3      NaN\n",
            "3   D        4      6.0\n"
          ]
        }
      ],
      "source": [
        "#Create two Pandas DataFrame objects, df1 and df2, containing the following data: df1 = {'key': ['A', 'B', 'C', 'D'], 'value1': [1, 2, 3, 4]} and df2 = {'key': ['B', 'D', 'E', 'F'], 'value2': [5, 6, 7, 8]}. Perform a left join on df1 and df2 using the 'key' column as the join key.\n",
        "df1 = pd.DataFrame({'key': ['A', 'B', 'C', 'D'],\n",
        "                    'value': [1,2,3,4]})\n",
        "df2 = pd.DataFrame({'key': ['B', 'D', 'E', 'F'],\n",
        "                    'value': [5,6,7,8]})\n",
        "\n",
        "#Merge the two DataFrames using an left join on the 'key' column ( the new df will have all rows of df1 (the left df, x) \n",
        "# and rows of df2 (the right df, y) that cntain the 'key'). Non matching keys will be read as NaN values.\n",
        "left_joined_df = pd.merge(df1, df2, on='key', how='left')\n",
        "print(left_joined_df)"
      ]
    },
    {
      "cell_type": "markdown",
      "metadata": {
        "id": "pYg6Y5SRb1ML"
      },
      "source": [
        "## Mini Pandas Project\n",
        "\n",
        "- Load the CSV file into a Pandas DataFrame object.\n",
        "- Clean the data by removing any rows with missing values and any duplicate rows.\n",
        "- Use NumPy to calculate the mean and standard deviation of the \"births\" column.\n",
        "- Use Pandas to group the data by year and month, and calculate the mean number of births for each group.\n",
        "- Use Matplotlib to create a line plot of the mean number of births per month over time.\n",
        "- Use Pandas to group the data by day of the week, and calculate the mean number of births for each day.\n",
        "- Use Matplotlib to create a bar chart of the mean number of births per day of the week.\n",
        "- Use Pandas to group the data by year, and calculate the total number of births for each year.\n",
        "- Use Matplotlib to create a bar chart of the total number of births per year.\n",
        "\n",
        ">> NOTE: Below is boiler code for you to get started with.Please fill in the missing codes."
      ]
    },
    {
      "cell_type": "code",
      "execution_count": 2,
      "metadata": {},
      "outputs": [],
      "source": [
        "import pandas as pd\n",
        "import numpy as np\n",
        "import matplotlib.pyplot as plt"
      ]
    },
    {
      "cell_type": "code",
      "execution_count": 134,
      "metadata": {},
      "outputs": [
        {
          "data": {
            "text/html": [
              "<div>\n",
              "<style scoped>\n",
              "    .dataframe tbody tr th:only-of-type {\n",
              "        vertical-align: middle;\n",
              "    }\n",
              "\n",
              "    .dataframe tbody tr th {\n",
              "        vertical-align: top;\n",
              "    }\n",
              "\n",
              "    .dataframe thead th {\n",
              "        text-align: right;\n",
              "    }\n",
              "</style>\n",
              "<table border=\"1\" class=\"dataframe\">\n",
              "  <thead>\n",
              "    <tr style=\"text-align: right;\">\n",
              "      <th></th>\n",
              "      <th>year</th>\n",
              "      <th>month</th>\n",
              "      <th>day</th>\n",
              "      <th>gender</th>\n",
              "      <th>births</th>\n",
              "    </tr>\n",
              "  </thead>\n",
              "  <tbody>\n",
              "    <tr>\n",
              "      <th>0</th>\n",
              "      <td>1969</td>\n",
              "      <td>1</td>\n",
              "      <td>1.0</td>\n",
              "      <td>F</td>\n",
              "      <td>4046</td>\n",
              "    </tr>\n",
              "    <tr>\n",
              "      <th>1</th>\n",
              "      <td>1969</td>\n",
              "      <td>1</td>\n",
              "      <td>1.0</td>\n",
              "      <td>M</td>\n",
              "      <td>4440</td>\n",
              "    </tr>\n",
              "    <tr>\n",
              "      <th>2</th>\n",
              "      <td>1969</td>\n",
              "      <td>1</td>\n",
              "      <td>2.0</td>\n",
              "      <td>F</td>\n",
              "      <td>4454</td>\n",
              "    </tr>\n",
              "    <tr>\n",
              "      <th>3</th>\n",
              "      <td>1969</td>\n",
              "      <td>1</td>\n",
              "      <td>2.0</td>\n",
              "      <td>M</td>\n",
              "      <td>4548</td>\n",
              "    </tr>\n",
              "    <tr>\n",
              "      <th>4</th>\n",
              "      <td>1969</td>\n",
              "      <td>1</td>\n",
              "      <td>3.0</td>\n",
              "      <td>F</td>\n",
              "      <td>4548</td>\n",
              "    </tr>\n",
              "    <tr>\n",
              "      <th>...</th>\n",
              "      <td>...</td>\n",
              "      <td>...</td>\n",
              "      <td>...</td>\n",
              "      <td>...</td>\n",
              "      <td>...</td>\n",
              "    </tr>\n",
              "    <tr>\n",
              "      <th>15542</th>\n",
              "      <td>2008</td>\n",
              "      <td>10</td>\n",
              "      <td>NaN</td>\n",
              "      <td>M</td>\n",
              "      <td>183219</td>\n",
              "    </tr>\n",
              "    <tr>\n",
              "      <th>15543</th>\n",
              "      <td>2008</td>\n",
              "      <td>11</td>\n",
              "      <td>NaN</td>\n",
              "      <td>F</td>\n",
              "      <td>158939</td>\n",
              "    </tr>\n",
              "    <tr>\n",
              "      <th>15544</th>\n",
              "      <td>2008</td>\n",
              "      <td>11</td>\n",
              "      <td>NaN</td>\n",
              "      <td>M</td>\n",
              "      <td>165468</td>\n",
              "    </tr>\n",
              "    <tr>\n",
              "      <th>15545</th>\n",
              "      <td>2008</td>\n",
              "      <td>12</td>\n",
              "      <td>NaN</td>\n",
              "      <td>F</td>\n",
              "      <td>173215</td>\n",
              "    </tr>\n",
              "    <tr>\n",
              "      <th>15546</th>\n",
              "      <td>2008</td>\n",
              "      <td>12</td>\n",
              "      <td>NaN</td>\n",
              "      <td>M</td>\n",
              "      <td>181235</td>\n",
              "    </tr>\n",
              "  </tbody>\n",
              "</table>\n",
              "<p>15547 rows × 5 columns</p>\n",
              "</div>"
            ],
            "text/plain": [
              "       year  month  day gender  births\n",
              "0      1969      1  1.0      F    4046\n",
              "1      1969      1  1.0      M    4440\n",
              "2      1969      1  2.0      F    4454\n",
              "3      1969      1  2.0      M    4548\n",
              "4      1969      1  3.0      F    4548\n",
              "...     ...    ...  ...    ...     ...\n",
              "15542  2008     10  NaN      M  183219\n",
              "15543  2008     11  NaN      F  158939\n",
              "15544  2008     11  NaN      M  165468\n",
              "15545  2008     12  NaN      F  173215\n",
              "15546  2008     12  NaN      M  181235\n",
              "\n",
              "[15547 rows x 5 columns]"
            ]
          },
          "execution_count": 134,
          "metadata": {},
          "output_type": "execute_result"
        }
      ],
      "source": [
        "# Load the CSV file into a Pandas DataFrame object\n",
        "df = pd.read_csv(\"https://raw.githubusercontent.com/jakevdp/data-CDCbirths/master/births.csv\")\n",
        "df"
      ]
    },
    {
      "cell_type": "code",
      "execution_count": 185,
      "metadata": {},
      "outputs": [
        {
          "name": "stdout",
          "output_type": "stream",
          "text": [
            "       year  month   day gender  births\n",
            "0      1969      1   1.0      F    4046\n",
            "1      1969      1   1.0      M    4440\n",
            "2      1969      1   2.0      F    4454\n",
            "3      1969      1   2.0      M    4548\n",
            "4      1969      1   3.0      F    4548\n",
            "...     ...    ...   ...    ...     ...\n",
            "15062  1988     12  29.0      M    5944\n",
            "15063  1988     12  30.0      F    5742\n",
            "15064  1988     12  30.0      M    6095\n",
            "15065  1988     12  31.0      F    4435\n",
            "15066  1988     12  31.0      M    4698\n",
            "\n",
            "[15067 rows x 5 columns]\n"
          ]
        }
      ],
      "source": [
        "# Clean the data by removing any rows with missing values and any duplicate rows\n",
        "#drop na values and duplicates\n",
        "df1 = df.dropna()\n",
        "df2 = df1.drop_duplicates()\n",
        "print(df2)"
      ]
    },
    {
      "cell_type": "code",
      "execution_count": 186,
      "metadata": {},
      "outputs": [
        {
          "name": "stdout",
          "output_type": "stream",
          "text": [
            "Mean = 4678.631512577155\n",
            "Standard deviation = 1003.0714179988807\n",
            "Median = 4785.0\n",
            "25th percentile = 4344.0\n",
            "75th percentile = 5247.0\n"
          ]
        }
      ],
      "source": [
        "# Use NumPy to calculate the mean and standard deviation of the \"births\" column\n",
        "mean = np.mean(df2['births'])\n",
        "print('Mean =',mean)\n",
        "std_dev = np.std(df2['births'])\n",
        "print('Standard deviation =',std_dev)\n",
        "\n",
        "#other measures\n",
        "median = np.median(df2['births'])\n",
        "print('Median =',median)\n",
        "Q1 = np.percentile(df2['births'], 25)\n",
        "print('25th percentile =', Q1)\n",
        "Q2 = np.percentile(df2['births'], 75)\n",
        "print('75th percentile =', Q2)\n"
      ]
    },
    {
      "cell_type": "code",
      "execution_count": 187,
      "metadata": {},
      "outputs": [
        {
          "name": "stdout",
          "output_type": "stream",
          "text": [
            "       year  month   day gender  births       date\n",
            "0      1969      1   1.0      F    4046 1969-01-01\n",
            "1      1969      1   1.0      M    4440 1969-01-01\n",
            "2      1969      1   2.0      F    4454 1969-01-02\n",
            "3      1969      1   2.0      M    4548 1969-01-02\n",
            "4      1969      1   3.0      F    4548 1969-01-03\n",
            "...     ...    ...   ...    ...     ...        ...\n",
            "15062  1988     12  29.0      M    5944 1988-12-29\n",
            "15063  1988     12  30.0      F    5742 1988-12-30\n",
            "15064  1988     12  30.0      M    6095 1988-12-30\n",
            "15065  1988     12  31.0      F    4435 1988-12-31\n",
            "15066  1988     12  31.0      M    4698 1988-12-31\n",
            "\n",
            "[15067 rows x 6 columns]\n",
            "date    date\n",
            "1969.0  1.0     4739.935484\n",
            "        2.0     4830.964286\n",
            "        3.0     4781.225806\n",
            "        4.0     4707.833333\n",
            "        5.0     4661.580645\n",
            "                   ...     \n",
            "1988.0  8.0     5719.338710\n",
            "        9.0     5787.950000\n",
            "        10.0    5348.903226\n",
            "        11.0    5244.433333\n",
            "        12.0    5198.822581\n",
            "Name: births, Length: 240, dtype: float64\n",
            "date\n",
            "1969.0    4929.558904\n",
            "1970.0    5115.898630\n",
            "1971.0    4880.923288\n",
            "1972.0    4461.561475\n",
            "1973.0    4309.136986\n",
            "1974.0    4342.884932\n",
            "1975.0    4319.679452\n",
            "1976.0    4339.161202\n",
            "1977.0    4564.449315\n",
            "1978.0    4572.872603\n",
            "1979.0    4794.160274\n",
            "1980.0    4942.551913\n",
            "1981.0    4980.109589\n",
            "1982.0    5048.457534\n",
            "1983.0    4990.042466\n",
            "1984.0    5018.484973\n",
            "1985.0    5157.608219\n",
            "1986.0    5151.619178\n",
            "1987.0    5223.576712\n",
            "1988.0    5346.702186\n",
            "Name: births, dtype: float64\n"
          ]
        }
      ],
      "source": [
        "# Use Pandas to group the data by year and month, and calculate the mean number of births for each group\n",
        "# # first, we create a new column called date\n",
        "df2['date'] = pd.to_datetime(df2['year']*10000 + df2['month']*100 + df2['day'], format='%Y%m%d', errors='coerce')\n",
        "print(df2)\n",
        "\n",
        "# # then group by the month attribute and get mean of births\n",
        "grouped_by_month = df2.groupby([df3['date'].dt.year, df2['date'].dt.month])['births'].mean()\n",
        "print(grouped_by_month)\n",
        "\n",
        "# group by the year attribute and get mean of births\n",
        "grouped_by_year = df2.groupby(df3['date'].dt.year)['births'].mean()\n",
        "# grouped_by_year = df2.groupby(df2['date'].dt.year).mean()['births']\n",
        "print(grouped_by_year)"
      ]
    },
    {
      "cell_type": "code",
      "execution_count": 188,
      "metadata": {},
      "outputs": [
        {
          "data": {
            "image/png": "[encoded data removed]",
            "text/plain": [
              "<Figure size 640x480 with 1 Axes>"
            ]
          },
          "metadata": {},
          "output_type": "display_data"
        }
      ],
      "source": [
        "# Use Matplotlib to create a line plot of the mean number of births per month over time\n",
        "grouped_by_month.plot()\n",
        "plt.xlabel('Year-Month')\n",
        "plt.ylabel('Mean Number of Births')\n",
        "plt.title('Mean Number of Births per Month')\n",
        "plt.show()"
      ]
    },
    {
      "cell_type": "code",
      "execution_count": 189,
      "metadata": {},
      "outputs": [
        {
          "data": {
            "image/png": "[encoded data removed]",
            "text/plain": [
              "<Figure size 640x480 with 1 Axes>"
            ]
          },
          "metadata": {},
          "output_type": "display_data"
        }
      ],
      "source": [
        "# grouped_by_year.plot()\n",
        "plt.plot(grouped_by_year)\n",
        "plt.xlabel('Year')\n",
        "plt.ylabel('Mean Number of Births')\n",
        "plt.title('Mean Number of Births per Year')\n",
        "plt.show()"
      ]
    },
    {
      "cell_type": "code",
      "execution_count": 190,
      "metadata": {},
      "outputs": [
        {
          "name": "stdout",
          "output_type": "stream",
          "text": [
            "       year  month   day gender  births       date day_of_week\n",
            "0      1969      1   1.0      F    4046 1969-01-01   Wednesday\n",
            "1      1969      1   1.0      M    4440 1969-01-01   Wednesday\n",
            "2      1969      1   2.0      F    4454 1969-01-02    Thursday\n",
            "3      1969      1   2.0      M    4548 1969-01-02    Thursday\n",
            "4      1969      1   3.0      F    4548 1969-01-03      Friday\n",
            "...     ...    ...   ...    ...     ...        ...         ...\n",
            "15062  1988     12  29.0      M    5944 1988-12-29    Thursday\n",
            "15063  1988     12  30.0      F    5742 1988-12-30      Friday\n",
            "15064  1988     12  30.0      M    6095 1988-12-30      Friday\n",
            "15065  1988     12  31.0      F    4435 1988-12-31    Saturday\n",
            "15066  1988     12  31.0      M    4698 1988-12-31    Saturday\n",
            "\n",
            "[15067 rows x 7 columns]\n",
            "date\n",
            "Monday       4972.097315\n",
            "Tuesday      5183.988015\n",
            "Wednesday    5044.725096\n",
            "Thursday     4997.512452\n",
            "Friday       5073.386015\n",
            "Saturday     4354.168582\n",
            "Sunday       4145.248322\n",
            "Name: births, dtype: float64\n"
          ]
        }
      ],
      "source": [
        "# Use Pandas to group the data by day of the week, and calculate the mean number of births for each day\n",
        "# first create a new column 'day_of_week' from the date column\n",
        "df2['day_of_week'] = df2['date'].dt.day_name()\n",
        "print(df2)\n",
        "\n",
        "#then group by day of the week\n",
        "grouped_by_day = df2.groupby(df2['date'].dt.day_name())['births'].mean()[['Monday', 'Tuesday', 'Wednesday', 'Thursday', 'Friday', 'Saturday', 'Sunday']]\n",
        "print(grouped_by_day)"
      ]
    },
    {
      "cell_type": "code",
      "execution_count": 191,
      "metadata": {},
      "outputs": [
        {
          "data": {
            "image/png": "[encoded data removed]",
            "text/plain": [
              "<Figure size 640x480 with 1 Axes>"
            ]
          },
          "metadata": {},
          "output_type": "display_data"
        }
      ],
      "source": [
        "# Use Matplotlib to create a bar chart of the mean number of births per day of the week\n",
        "plt.bar(grouped_by_day.index, grouped_by_day.values)\n",
        "plt.xlabel('Day of the Week')\n",
        "plt.ylabel('Mean Number of Births')\n",
        "plt.title('Mean Number of Births per Day of the week')\n",
        "plt.show()\n"
      ]
    },
    {
      "cell_type": "code",
      "execution_count": 192,
      "metadata": {},
      "outputs": [
        {
          "name": "stdout",
          "output_type": "stream",
          "text": [
            "date\n",
            "1969.0    3598578\n",
            "1970.0    3734606\n",
            "1971.0    3563074\n",
            "1972.0    3265863\n",
            "1973.0    3145670\n",
            "1974.0    3170306\n",
            "1975.0    3153366\n",
            "1976.0    3176266\n",
            "1977.0    3332048\n",
            "1978.0    3338197\n",
            "1979.0    3499737\n",
            "1980.0    3617948\n",
            "1981.0    3635480\n",
            "1982.0    3685374\n",
            "1983.0    3642731\n",
            "1984.0    3673531\n",
            "1985.0    3765054\n",
            "1986.0    3760682\n",
            "1987.0    3813211\n",
            "1988.0    3913786\n",
            "Name: births, dtype: int64\n"
          ]
        }
      ],
      "source": [
        "# Use Pandas to group the data by year, and calculate the total number of births for each year\n",
        "Births_per_year = df2.groupby(df3['date'].dt.year)['births'].sum()\n",
        "print(Births_per_year)\n"
      ]
    },
    {
      "cell_type": "code",
      "execution_count": 193,
      "metadata": {},
      "outputs": [
        {
          "data": {
            "image/png": "[encoded data removed]",
            "text/plain": [
              "<Figure size 640x480 with 1 Axes>"
            ]
          },
          "metadata": {},
          "output_type": "display_data"
        }
      ],
      "source": [
        "# Use Matplotlib to create a bar chart of the total number of births per year\n",
        "plt.bar(Births_per_year.index, Births_per_year.values)\n",
        "plt.xlabel('Year')\n",
        "plt.ylabel('Total Number of Births')\n",
        "plt.title('Total Number of Births per Year')\n",
        "plt.show()"
      ]
    }
  ],
  "metadata": {
    "colab": {
      "provenance": []
    },
    "kernelspec": {
      "display_name": "Python 3",
      "name": "python3"
    },
    "language_info": {
      "codemirror_mode": {
        "name": "ipython",
        "version": 3
      },
      "file_extension": ".py",
      "mimetype": "text/x-python",
      "name": "python",
      "nbconvert_exporter": "python",
      "pygments_lexer": "ipython3",
      "version": "3.9.13"
    }
  },
  "nbformat": 4,
  "nbformat_minor": 0
}
