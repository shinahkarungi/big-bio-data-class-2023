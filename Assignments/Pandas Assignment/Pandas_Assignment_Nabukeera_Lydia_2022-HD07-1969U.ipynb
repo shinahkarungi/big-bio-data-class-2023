{
  "cells": [
    {
      "attachments": {},
      "cell_type": "markdown",
      "metadata": {
        "id": "QjhxZHa4XZrg"
      },
      "source": [
        "Pandas Assignment\n",
        "Student Name: NABUKEERA LYDIA\n",
        "\n",
        "Reg No: 2022/HD07/1969U\n",
        "\n",
        "Instructions:\n",
        "Please complete the questions below.\n",
        "Please comment your code indicating how you approached the problem"
      ]
    },
    {
      "cell_type": "markdown",
      "metadata": {
        "id": "dzFp6JEGY-U2"
      },
      "source": [
        "## Introduction to Pandas"
      ]
    },
    {
      "attachments": {},
      "cell_type": "markdown",
      "metadata": {},
      "source": [
        "#### Create a Pandas Series object containing the following data: 5, 10, 15, 20, 25. What is the average of the values in the Series?"
      ]
    },
    {
      "cell_type": "code",
      "execution_count": 3,
      "metadata": {
        "id": "BTAGt12UXCSg"
      },
      "outputs": [
        {
          "name": "stdout",
          "output_type": "stream",
          "text": [
            "0     5\n",
            "1    10\n",
            "2    15\n",
            "3    20\n",
            "4    25\n",
            "dtype: int64\n",
            "The average is 15.0\n"
          ]
        }
      ],
      "source": [
        "# We can create a Pandas Series object in Python using the pandas library and the Series function. \n",
        "# Here's an example:\n",
        "import pandas as pd\n",
        "\n",
        "data = pd.Series([5, 10, 15, 20, 25])\n",
        "print(data)\n",
        "\n",
        "# We can calculate the mean of a Pandas Series using the built-in mean() function of the Series object itself, like this:\n",
        "import pandas as pd\n",
        "\n",
        "data = pd.Series([5, 10, 15, 20, 25])\n",
        "average = data.mean()\n",
        "print(\"The average is\",average)\n"
      ]
    },
    {
      "attachments": {},
      "cell_type": "markdown",
      "metadata": {},
      "source": [
        "#### Create a Pandas DataFrame object containing the following data: {'Name': ['Alice', 'Bob', 'Charlie'], 'Age': [25, 30, 35], 'Salary': [50000, 60000, 70000]}. What is the total salary of all employees?\n",
        "\n",
        "\n"
      ]
    },
    {
      "cell_type": "code",
      "execution_count": 4,
      "metadata": {
        "id": "r_2GlShpZCY0"
      },
      "outputs": [
        {
          "name": "stdout",
          "output_type": "stream",
          "text": [
            "      Name  Age  Salary\n",
            "0    Alice   25   50000\n",
            "1      Bob   30   60000\n",
            "2  Charlie   35   70000\n",
            "The total salary for all employees is 180000\n"
          ]
        }
      ],
      "source": [
        "# We can create a Pandas DataFrame object in Python using the pandas library and the DataFrame function. \n",
        "import pandas as pd\n",
        "\n",
        "data = {'Name': ['Alice', 'Bob', 'Charlie'], 'Age': [25, 30, 35], 'Salary': [50000, 60000, 70000]}\n",
        "df = pd.DataFrame(data)\n",
        "print(df)\n",
        "\n",
        "# To calculate the total salary of all employees, you can use the sum() function on the 'Salary' column of the DataFrame:\n",
        "total_salary = df['Salary'].sum()\n",
        "print(\"The total salary for all employees is\",total_salary)\n",
        "\n"
      ]
    },
    {
      "cell_type": "markdown",
      "metadata": {
        "id": "yhIUNmfGZG9l"
      },
      "source": [
        "## DataFrames and Series"
      ]
    },
    {
      "attachments": {},
      "cell_type": "markdown",
      "metadata": {},
      "source": [
        "#### Create a Pandas Series object containing the following data: [1, 2, 3, 4, 5]. Add 10 to each value in the Series.\n"
      ]
    },
    {
      "cell_type": "code",
      "execution_count": 5,
      "metadata": {
        "id": "h9-hguvpZKVF"
      },
      "outputs": [
        {
          "name": "stdout",
          "output_type": "stream",
          "text": [
            "0    1\n",
            "1    2\n",
            "2    3\n",
            "3    4\n",
            "4    5\n",
            "dtype: int64\n",
            "0    11\n",
            "1    12\n",
            "2    13\n",
            "3    14\n",
            "4    15\n",
            "dtype: int64\n"
          ]
        }
      ],
      "source": [
        "### We can create a Pandas Series object in Python using the pandas library and the Series function. Here's an example of how to create a Series object with the given data:\n",
        "import pandas as pd\n",
        "\n",
        "data = pd.Series([1, 2, 3, 4, 5])\n",
        "print(data)\n",
        "\n",
        "# To add 10 to each value in the Series, you can simply use the + operator:\n",
        "new_data = data + 10\n",
        "print(new_data)"
      ]
    },
    {
      "attachments": {},
      "cell_type": "markdown",
      "metadata": {},
      "source": [
        "#### Create a Pandas DataFrame object containing the following data: {'Name': ['Alice', 'Bob', 'Charlie'], 'Age': [25, 30, 35], 'Salary': [50000, 60000, 70000]}. Select only the rows where the Age is greater than 30.\n",
        "\n",
        "\n"
      ]
    },
    {
      "cell_type": "code",
      "execution_count": 15,
      "metadata": {
        "id": "fwEQ6vAJZPwt"
      },
      "outputs": [
        {
          "name": "stdout",
          "output_type": "stream",
          "text": [
            "      Name  Age  Salary\n",
            "0    Alice   25   50000\n",
            "1      Bob   30   60000\n",
            "2  Charlie   35   70000\n",
            "      Name  Age  Salary\n",
            "2  Charlie   35   70000\n"
          ]
        }
      ],
      "source": [
        "# We can create a Pandas DataFrame object in Python using the pandas library and the DataFrame function. \n",
        "import pandas as pd\n",
        "\n",
        "data = {'Name': ['Alice', 'Bob', 'Charlie'], 'Age': [25, 30, 35], 'Salary': [50000, 60000, 70000]}\n",
        "df = pd.DataFrame(data)\n",
        "print(df)\n",
        "\n",
        "# To select only the rows where the Age is greater than 30, you can use boolean indexing like this:\n",
        "result = df[df['Age'] > 30]\n",
        "print(result)\n",
        "\n",
        "\n",
        "\n"
      ]
    },
    {
      "cell_type": "markdown",
      "metadata": {
        "id": "nDrPzc3tZVCc"
      },
      "source": [
        "## Loading Data into Pandas"
      ]
    },
    {
      "cell_type": "code",
      "execution_count": null,
      "metadata": {
        "id": "sdNPXVUWZZ_i"
      },
      "outputs": [],
      "source": [
        "#Load a CSV file named 'diabetes.csv' into a Pandas DataFrame object. What are the names of the columns in the DataFrame?\n",
        "#Please check your data folder for this dataset"
      ]
    },
    {
      "cell_type": "code",
      "execution_count": 6,
      "metadata": {},
      "outputs": [
        {
          "name": "stdout",
          "output_type": "stream",
          "text": [
            "['Pregnancies', 'Glucose', 'BloodPressure', 'SkinThickness', 'Insulin', 'BMI', 'DiabetesPedigreeFunction', 'Age', 'Outcome']\n"
          ]
        }
      ],
      "source": [
        "# Loading diabetes.csv file\n",
        "import pandas as pd\n",
        "\n",
        "df = pd.read_csv('../../Data/Diabetes/diabetes.csv')\n",
        "\n",
        "# Names of columns\n",
        "column_names = df.columns.tolist()\n",
        "print(column_names)\n"
      ]
    },
    {
      "cell_type": "code",
      "execution_count": 7,
      "metadata": {
        "id": "Xc9EYfEqZiG_"
      },
      "outputs": [
        {
          "name": "stdout",
          "output_type": "stream",
          "text": [
            "(768, 9)\n"
          ]
        }
      ],
      "source": [
        "#Display the dimensions of the data\n",
        "\n",
        "### To display the dimensions of a Pandas DataFrame, we can use the shape attribute of the DataFrame object. \n",
        "# The shape attribute returns a tuple containing the number of rows and columns in the DataFrame.\n",
        "dimensions = df.shape\n",
        "print(dimensions)\n"
      ]
    },
    {
      "cell_type": "code",
      "execution_count": 8,
      "metadata": {
        "id": "4a5FAPN_ZlRJ"
      },
      "outputs": [
        {
          "name": "stdout",
          "output_type": "stream",
          "text": [
            "   Pregnancies  Glucose  BloodPressure  SkinThickness  Insulin   BMI  \\\n",
            "0            6      148             72             35        0  33.6   \n",
            "1            1       85             66             29        0  26.6   \n",
            "2            8      183             64              0        0  23.3   \n",
            "3            1       89             66             23       94  28.1   \n",
            "4            0      137             40             35      168  43.1   \n",
            "5            5      116             74              0        0  25.6   \n",
            "6            3       78             50             32       88  31.0   \n",
            "7           10      115              0              0        0  35.3   \n",
            "8            2      197             70             45      543  30.5   \n",
            "9            8      125             96              0        0   0.0   \n",
            "\n",
            "   DiabetesPedigreeFunction  Age  Outcome  \n",
            "0                     0.627   50        1  \n",
            "1                     0.351   31        0  \n",
            "2                     0.672   32        1  \n",
            "3                     0.167   21        0  \n",
            "4                     2.288   33        1  \n",
            "5                     0.201   30        0  \n",
            "6                     0.248   26        1  \n",
            "7                     0.134   29        0  \n",
            "8                     0.158   53        1  \n",
            "9                     0.232   54        1  \n"
          ]
        }
      ],
      "source": [
        "#Display the top 10 rows\n",
        "\n",
        "### To display the top 10 rows of a Pandas DataFrame, we can use the head() method of the DataFrame object. \n",
        "# The head() method returns the first n rows of the DataFrame, where n is the number of rows specified as an argument (default is 5).\n",
        "### For our DataFrame object 'df', we can display the top 10 rows as below:\n",
        "top_10_rows = df.head(10)\n",
        "print(top_10_rows)\n"
      ]
    },
    {
      "cell_type": "code",
      "execution_count": 9,
      "metadata": {
        "id": "kXh8GQx6ZosC"
      },
      "outputs": [
        {
          "name": "stdout",
          "output_type": "stream",
          "text": [
            "     Pregnancies  Glucose  BloodPressure  SkinThickness  Insulin   BMI  \\\n",
            "758            1      106             76              0        0  37.5   \n",
            "759            6      190             92              0        0  35.5   \n",
            "760            2       88             58             26       16  28.4   \n",
            "761            9      170             74             31        0  44.0   \n",
            "762            9       89             62              0        0  22.5   \n",
            "763           10      101             76             48      180  32.9   \n",
            "764            2      122             70             27        0  36.8   \n",
            "765            5      121             72             23      112  26.2   \n",
            "766            1      126             60              0        0  30.1   \n",
            "767            1       93             70             31        0  30.4   \n",
            "\n",
            "     DiabetesPedigreeFunction  Age  Outcome  \n",
            "758                     0.197   26        0  \n",
            "759                     0.278   66        1  \n",
            "760                     0.766   22        0  \n",
            "761                     0.403   43        1  \n",
            "762                     0.142   33        0  \n",
            "763                     0.171   63        0  \n",
            "764                     0.340   27        0  \n",
            "765                     0.245   30        0  \n",
            "766                     0.349   47        1  \n",
            "767                     0.315   23        0  \n"
          ]
        }
      ],
      "source": [
        "#Display the last 10 rows\n",
        "\n",
        "# To display the last 10 rows of a Pandas DataFrame, you can use the tail() method of the DataFrame object. \n",
        "# The tail() method returns the last n rows of the DataFrame, where n is the number of rows specified as an argument (default is 5).\n",
        "# For our DataFrame object 'df', we can display the last 10 rows as below:\n",
        "last_10_rows = df.tail(10)\n",
        "print(last_10_rows)\n"
      ]
    },
    {
      "cell_type": "markdown",
      "metadata": {
        "id": "CDKEEmvmZwiq"
      },
      "source": [
        "## Data Cleaning"
      ]
    },
    {
      "cell_type": "code",
      "execution_count": 10,
      "metadata": {
        "id": "PFzUFZrTZzxV"
      },
      "outputs": [
        {
          "name": "stdout",
          "output_type": "stream",
          "text": [
            "      Name   Age   Salary\n",
            "0    Alice  25.0  50000.0\n",
            "1      Bob  30.0      NaN\n",
            "2  Charlie   NaN  70000.0\n",
            "3     Dave  35.0  80000.0\n",
            "4      Eve  40.0  90000.0\n"
          ]
        }
      ],
      "source": [
        "#Create a Pandas DataFrame object containing the following data: {'Name': ['Alice', 'Bob', 'Charlie', 'Dave', 'Eve'], 'Age': [25, 30, None, 35, 40], 'Salary': [50000, None, 70000, 80000, 90000]}. Remove all rows with missing values\n",
        "\n",
        "# To create a Pandas DataFrame object containing the above data, we an use the DataFrame() constructor provided by the Pandas library.\n",
        "\n",
        "import pandas as pd\n",
        "\n",
        "data = {'Name': ['Alice', 'Bob', 'Charlie', 'Dave', 'Eve'],\n",
        "        'Age': [25, 30, None, 35, 40],\n",
        "        'Salary': [50000, None, 70000, 80000, 90000]}\n",
        "\n",
        "df = pd.DataFrame(data)\n",
        "print(df)\n",
        "\n",
        "# To remove all rows with missing values from a Pandas DataFrame, we can use the dropna() method  with the \"inplace\" argument set to False.as_integer_ratio\n",
        "# This will create a new DataFrame object that contains all of the non-missing values from the original DataFrame.\n",
        "# Lets call the new dataframe \"NEWDATAFRAME\"\n",
        "NEWDATAFRAME = df.dropna(inplace=False)\n"
      ]
    },
    {
      "cell_type": "code",
      "execution_count": 11,
      "metadata": {
        "id": "PRof8tNzZ34b"
      },
      "outputs": [
        {
          "name": "stdout",
          "output_type": "stream",
          "text": [
            "      Name   Age   Salary\n",
            "0    Alice  25.0  50000.0\n",
            "1      Bob  30.0      NaN\n",
            "2  Charlie   NaN  70000.0\n",
            "3     Dave  35.0  80000.0\n",
            "4      Eve  40.0  90000.0\n",
            "32.5\n",
            "75000.0\n",
            "      Name   Age   Salary\n",
            "0    Alice  25.0  50000.0\n",
            "1      Bob  30.0  75000.0\n",
            "2  Charlie  32.5  70000.0\n",
            "3     Dave  35.0  80000.0\n",
            "4      Eve  40.0  90000.0\n"
          ]
        }
      ],
      "source": [
        "#Create a Pandas DataFrame object containing the following data: {'Name': ['Alice', 'Bob', 'Charlie', 'Dave', 'Eve'], 'Age': [25, 30, None, 35, 40], 'Salary': [50000, None, 70000, 80000, 90000]}. Fill all missing values with the average Age and the median Salary.\n",
        "\n",
        "# Creating the dataframe\n",
        "import pandas as pd\n",
        "import numpy as np\n",
        "\n",
        "data = {'Name': ['Alice', 'Bob', 'Charlie', 'Dave', 'Eve'], \n",
        "        'Age': [25, 30, None, 35, 40], \n",
        "        'Salary': [50000, None, 70000, 80000, 90000]}\n",
        "\n",
        "df = pd.DataFrame(data)\n",
        "print(df)\n",
        "\n",
        "# Calculate the average age and median salary\n",
        "avg_age = df['Age'].mean()\n",
        "med_salary = df['Salary'].median()\n",
        "print(avg_age)\n",
        "print(med_salary)\n",
        "\n",
        "# ### To fill missing values with the average Age and the median Salary, we can use the fillna() method with the appropriate values.\n",
        "# Fill missing values with the average age and median salary\n",
        "df['Age'] = df['Age'].fillna(avg_age)\n",
        "df['Salary'] = df['Salary'].fillna(med_salary)\n",
        "\n",
        "print(df)\n",
        "\n"
      ]
    },
    {
      "cell_type": "markdown",
      "metadata": {
        "id": "Dm9ghsopZ8Fb"
      },
      "source": [
        "## Data Exploration"
      ]
    },
    {
      "cell_type": "code",
      "execution_count": 12,
      "metadata": {
        "id": "y3MDNAY6Z_xz"
      },
      "outputs": [
        {
          "name": "stdout",
          "output_type": "stream",
          "text": [
            "Maximum Age: 35\n",
            "Minimum Salary: 50000\n"
          ]
        }
      ],
      "source": [
        "#Create a Pandas DataFrame object containing the following data: {'Name': ['Alice', 'Bob', 'Charlie'], 'Age': [25, 30, 35], 'Salary': [50000, 60000, 70000]}. What is the maximum Age and minimum Salary in the DataFrame?\n",
        "\n",
        "import pandas as pd\n",
        "\n",
        "data = {'Name': ['Alice', 'Bob', 'Charlie'],\n",
        "        'Age': [25, 30, 35],\n",
        "        'Salary': [50000, 60000, 70000]}\n",
        "\n",
        "df = pd.DataFrame(data)\n",
        "\n",
        "max_age = df['Age'].max()\n",
        "min_salary = df['Salary'].min()\n",
        "\n",
        "print(\"Maximum Age:\", max_age)\n",
        "print(\"Minimum Salary:\", min_salary)"
      ]
    },
    {
      "cell_type": "code",
      "execution_count": 13,
      "metadata": {
        "id": "vDlB5kgpaDwE"
      },
      "outputs": [
        {
          "name": "stdout",
          "output_type": "stream",
          "text": [
            "Correlation coefficient: 1.0\n"
          ]
        }
      ],
      "source": [
        "#Create a Pandas DataFrame object containing the following data: {'Name': ['Alice', 'Bob', 'Charlie'], 'Age': [25, 30, 35], 'Salary': [50000, 60000, 70000]}. Calculate the correlation coefficient between Age and Salary.\n",
        "\n",
        "# We can calculate the correlation coefficient between 'Age' and 'Salary' using the corr() method in Pandas.\n",
        "import pandas as pd\n",
        "\n",
        "data = {'Name': ['Alice', 'Bob', 'Charlie'],\n",
        "        'Age': [25, 30, 35],\n",
        "        'Salary': [50000, 60000, 70000]}\n",
        "\n",
        "df = pd.DataFrame(data)\n",
        "\n",
        "corr_coeff = df['Age'].corr(df['Salary'])\n",
        "\n",
        "print(\"Correlation coefficient:\", corr_coeff)\n",
        "\n",
        "\n",
        "# If we get a correlation coefficient of 1.0, it means that there is a perfect positive correlation between 'Age' and 'Salary'. \n",
        "# This would imply that as Age increases, Salary also increases in a perfectly linear fashion.\n",
        "\n"
      ]
    },
    {
      "cell_type": "markdown",
      "metadata": {
        "id": "l8bPg2etaGNU"
      },
      "source": [
        "## Grouping and Aggregating Data"
      ]
    },
    {
      "cell_type": "code",
      "execution_count": 14,
      "metadata": {
        "id": "njbAfs1xaJ4d"
      },
      "outputs": [
        {
          "name": "stdout",
          "output_type": "stream",
          "text": [
            "Age\n",
            "25    65000.0\n",
            "30    75000.0\n",
            "35    70000.0\n",
            "Name: Salary, dtype: float64\n"
          ]
        }
      ],
      "source": [
        "#Create a Pandas DataFrame object containing the following data: {'Name': ['Alice', 'Bob', 'Charlie', 'Dave', 'Eve'], 'Age': [25, 30, 35, 25, 30], 'Salary': [50000, 60000, 70000, 80000, 90000]}. Group the DataFrame by Age and calculate the mean Salary for each group.\n",
        "\n",
        "# The groupby() method is used to group the DataFrame by the 'Age' column, and then the mean() method is used to calculate the mean Salary for each group. \n",
        "# The resulting object is a Pandas Series with the Age values as the index and the mean Salary values as the data.\n",
        "\n",
        "import pandas as pd\n",
        "\n",
        "data = {'Name': ['Alice', 'Bob', 'Charlie', 'Dave', 'Eve'],\n",
        "        'Age': [25, 30, 35, 25, 30],\n",
        "        'Salary': [50000, 60000, 70000, 80000, 90000]}\n",
        "\n",
        "df = pd.DataFrame(data)\n",
        "\n",
        "grouped = df.groupby('Age')['Salary'].mean()\n",
        "\n",
        "print(grouped)\n"
      ]
    },
    {
      "cell_type": "markdown",
      "metadata": {
        "id": "uqNLYJGBamsa"
      },
      "source": [
        "## Reshaping Data"
      ]
    },
    {
      "cell_type": "code",
      "execution_count": 15,
      "metadata": {
        "id": "nPyItbc6aoPA"
      },
      "outputs": [
        {
          "name": "stdout",
          "output_type": "stream",
          "text": [
            "Quarter   Q1   Q2\n",
            "Year             \n",
            "2019     100  200\n",
            "2020     300  400\n"
          ]
        }
      ],
      "source": [
        "#Create a Pandas DataFrame object containing the following data: {'Year': [2019, 2019, 2020, 2020], 'Quarter': ['Q1', 'Q2', 'Q1', 'Q2'], 'Sales': [100, 200, 300, 400]}. Pivot the DataFrame so that the rows are indexed by Year, the columns are indexed by Quarter, and the values are the Sales.\n",
        "\n",
        "# We can pivot the DataFrame using the pivot method in Pandas. Here's the code to achieve the desired output:\n",
        "import pandas as pd\n",
        "\n",
        "# Create the DataFrame\n",
        "df = pd.DataFrame({'Year': [2019, 2019, 2020, 2020], \n",
        "                   'Quarter': ['Q1', 'Q2', 'Q1', 'Q2'], \n",
        "                   'Sales': [100, 200, 300, 400]})\n",
        "\n",
        "# Pivot the DataFrame\n",
        "df_pivot = df.pivot(index='Year', columns='Quarter', values='Sales')\n",
        "\n",
        "# Display the pivoted DataFrame\n",
        "print(df_pivot)\n"
      ]
    },
    {
      "cell_type": "code",
      "execution_count": 16,
      "metadata": {
        "id": "7UWE3_NaawLj"
      },
      "outputs": [
        {
          "name": "stdout",
          "output_type": "stream",
          "text": [
            "      Name Gender         Year  Salary\n",
            "0    Alice      F  Salary 2019   50000\n",
            "1      Bob      M  Salary 2019   60000\n",
            "2  Charlie      M  Salary 2019   70000\n",
            "3    Alice      F  Salary 2020   55000\n",
            "4      Bob      M  Salary 2020   65000\n",
            "5  Charlie      M  Salary 2020   75000\n"
          ]
        }
      ],
      "source": [
        "#Create a Pandas DataFrame object containing the following data: {'Name': ['Alice', 'Bob', 'Charlie'], 'Gender': ['F', 'M', 'M'], 'Salary 2019': [50000, 60000, 70000], 'Salary 2020': [55000, 65000, 75000]}. Melt the DataFrame so that the variable column contains the years and the value column contains the salaries.\n",
        "\n",
        "# To melt the DataFrame, we can use the melt() function from Pandas. \n",
        "# In our example, the id_vars parameter specifies which columns to keep as identifier variables, and the var_name and value_name parameters specify the names of the new columns. The output should be:\n",
        "\n",
        "#Here's the code:\n",
        "import pandas as pd\n",
        "\n",
        "data = {'Name': ['Alice', 'Bob', 'Charlie'],\n",
        "        'Gender': ['F', 'M', 'M'],\n",
        "        'Salary 2019': [50000, 60000, 70000],\n",
        "        'Salary 2020': [55000, 65000, 75000]}\n",
        "\n",
        "df = pd.DataFrame(data)\n",
        "\n",
        "melted_df = pd.melt(df, id_vars=['Name', 'Gender'], var_name='Year', value_name='Salary')\n",
        "\n",
        "print(melted_df)\n",
        "\n"
      ]
    },
    {
      "cell_type": "markdown",
      "metadata": {
        "id": "Q7_gHKi5a0bN"
      },
      "source": [
        "## Merging and Joining Data"
      ]
    },
    {
      "cell_type": "code",
      "execution_count": 17,
      "metadata": {
        "id": "SPZOaqzIa7Js"
      },
      "outputs": [
        {
          "name": "stdout",
          "output_type": "stream",
          "text": [
            "  key  value_x  value_y\n",
            "0   B        2        5\n",
            "1   D        4        6\n"
          ]
        }
      ],
      "source": [
        "#Create two Pandas DataFrame objects, df1 and df2, containing the following data: df1 = {'key': ['A', 'B', 'C', 'D'], 'value': [1, 2, 3, 4]} and df2 = {'key': ['B', 'D', 'E', 'F'], 'value': [5, 6, 7, 8]}. Merge the two DataFrames using an inner join on the 'key' column.\n",
        "\n",
        "import pandas as pd\n",
        "\n",
        "df1 = pd.DataFrame({'key': ['A', 'B', 'C', 'D'], 'value': [1, 2, 3, 4]})\n",
        "df2 = pd.DataFrame({'key': ['B', 'D', 'E', 'F'], 'value': [5, 6, 7, 8]})\n",
        "\n",
        "merged_df = pd.merge(df1, df2, on='key', how='inner')\n",
        "\n",
        "print(merged_df)\n",
        "\n",
        "# The resulting DataFrame has only the rows where the 'key' is present in both df1 and df2, \n",
        "# and the 'value' columns from the two DataFrames are differentiated with a suffix ('_x' for df1, and '_y' for df2).\n"
      ]
    },
    {
      "cell_type": "code",
      "execution_count": 18,
      "metadata": {
        "id": "Wvey28Jsa_Ws"
      },
      "outputs": [
        {
          "name": "stdout",
          "output_type": "stream",
          "text": [
            "  key  value1  value2\n",
            "0   A       1     NaN\n",
            "1   B       2     5.0\n",
            "2   C       3     NaN\n",
            "3   D       4     6.0\n"
          ]
        }
      ],
      "source": [
        "#Create two Pandas DataFrame objects, df1 and df2, containing the following data: df1 = {'key': ['A', 'B', 'C', 'D'], 'value1': [1, 2, 3, 4]} and df2 = {'key': ['B', 'D', 'E', 'F'], 'value2': [5, 6, 7, 8]}. Perform a left join on df1 and df2 using the 'key' column as the join key.\n",
        "\n",
        "import pandas as pd\n",
        "\n",
        "df1 = pd.DataFrame({'key': ['A', 'B', 'C', 'D'], 'value1': [1, 2, 3, 4]})\n",
        "df2 = pd.DataFrame({'key': ['B', 'D', 'E', 'F'], 'value2': [5, 6, 7, 8]})\n",
        "\n",
        "merged_df = pd.merge(df1, df2, on='key', how='left')\n",
        "\n",
        "print(merged_df)\n",
        "\n",
        "# The resulting DataFrame contains the 'key' column and the values from both input DataFrames. \n",
        "# Since we used a left join, all rows from df1 are included in the output, and only matching rows from df2 are included. \n",
        "# Rows in df1 with no matching 'key' in df2 have NaN values in the 'value2' column.\n"
      ]
    },
    {
      "cell_type": "markdown",
      "metadata": {
        "id": "pYg6Y5SRb1ML"
      },
      "source": [
        "## Mini Pandas Project\n",
        "\n",
        "- Load the CSV file into a Pandas DataFrame object.\n",
        "- Clean the data by removing any rows with missing values and any duplicate rows.\n",
        "- Use NumPy to calculate the mean and standard deviation of the \"births\" column.\n",
        "- Use Pandas to group the data by year and month, and calculate the mean number of births for each group.\n",
        "- Use Matplotlib to create a line plot of the mean number of births per month over time.\n",
        "- Use Pandas to group the data by day of the week, and calculate the mean number of births for each day.\n",
        "- Use Matplotlib to create a bar chart of the mean number of births per day of the week.\n",
        "- Use Pandas to group the data by year, and calculate the total number of births for each year.\n",
        "- Use Matplotlib to create a bar chart of the total number of births per year.\n",
        "\n",
        ">> NOTE: Below is boiler code for you to get started with.Please fill in the missing codes."
      ]
    },
    {
      "cell_type": "code",
      "execution_count": 61,
      "metadata": {},
      "outputs": [
        {
          "name": "stdout",
          "output_type": "stream",
          "text": [
            "       year  month  day gender  births\n",
            "0      1969      1  1.0      F    4046\n",
            "1      1969      1  1.0      M    4440\n",
            "2      1969      1  2.0      F    4454\n",
            "3      1969      1  2.0      M    4548\n",
            "4      1969      1  3.0      F    4548\n",
            "...     ...    ...  ...    ...     ...\n",
            "15542  2008     10  NaN      M  183219\n",
            "15543  2008     11  NaN      F  158939\n",
            "15544  2008     11  NaN      M  165468\n",
            "15545  2008     12  NaN      F  173215\n",
            "15546  2008     12  NaN      M  181235\n",
            "\n",
            "[15547 rows x 5 columns]\n",
            "       year  month   day gender  births\n",
            "0      1969      1   1.0      F    4046\n",
            "1      1969      1   1.0      M    4440\n",
            "2      1969      1   2.0      F    4454\n",
            "3      1969      1   2.0      M    4548\n",
            "4      1969      1   3.0      F    4548\n",
            "...     ...    ...   ...    ...     ...\n",
            "15062  1988     12  29.0      M    5944\n",
            "15063  1988     12  30.0      F    5742\n",
            "15064  1988     12  30.0      M    6095\n",
            "15065  1988     12  31.0      F    4435\n",
            "15066  1988     12  31.0      M    4698\n",
            "\n",
            "[15067 rows x 5 columns]\n",
            "The mean of the births is: 4678.631512577155\n",
            "The standard deviation of the births is: 1003.0714179988807\n",
            "year  month\n",
            "1969  1        4592.81250\n",
            "      2        4231.03125\n",
            "Name: births, dtype: float64\n",
            "year  month\n",
            "1969  1        4592.812500\n",
            "      2        4231.031250\n",
            "      3        4633.593750\n",
            "      4        4416.218750\n",
            "      5        4517.562500\n",
            "                  ...     \n",
            "1988  8        5719.338710\n",
            "      9        5787.950000\n",
            "      10       5264.015873\n",
            "      11       5244.433333\n",
            "      12       5198.822581\n",
            "Name: births, Length: 240, dtype: float64\n"
          ]
        },
        {
          "data": {
            "image/png": "[encoded data removed]",
            "text/plain": [
              "<Figure size 432x288 with 1 Axes>"
            ]
          },
          "metadata": {
            "needs_background": "light"
          },
          "output_type": "display_data"
        },
        {
          "name": "stdout",
          "output_type": "stream",
          "text": [
            "day_of_week\n",
            "Friday       5073.386015\n",
            "Monday       4972.097315\n",
            "Saturday     4354.168582\n",
            "Sunday       4145.248322\n",
            "Thursday     4997.512452\n",
            "Tuesday      5183.988015\n",
            "Wednesday    5044.725096\n",
            "Name: births, dtype: float64\n"
          ]
        },
        {
          "data": {
            "image/png": "[encoded data removed]",
            "text/plain": [
              "<Figure size 432x288 with 1 Axes>"
            ]
          },
          "metadata": {
            "needs_background": "light"
          },
          "output_type": "display_data"
        },
        {
          "name": "stdout",
          "output_type": "stream",
          "text": [
            "year\n",
            "1969    3600206\n",
            "1970    3737800\n",
            "1971    3563548\n",
            "1972    3266235\n",
            "1973    3146125\n",
            "1974    3170631\n",
            "1975    3153556\n",
            "1976    3176476\n",
            "1977    3332159\n",
            "1978    3338300\n",
            "Name: births, dtype: int64\n"
          ]
        },
        {
          "data": {
            "image/png": "[encoded data removed]",
            "text/plain": [
              "<Figure size 432x288 with 1 Axes>"
            ]
          },
          "metadata": {
            "needs_background": "light"
          },
          "output_type": "display_data"
        }
      ],
      "source": [
        "import pandas as pd\n",
        "import numpy as np\n",
        "import matplotlib.pyplot as plt\n",
        "\n",
        "# Load the CSV file into a Pandas DataFrame object\n",
        "df = pd.read_csv(\"../../Data/births.csv\")\n",
        "print(df)\n",
        "\n",
        "# Clean the data by removing any rows with missing values and any duplicate rows\n",
        "df_cleaned = df.dropna(inplace=False)\n",
        "df_cleaned = df_cleaned.drop_duplicates(inplace=False)\n",
        "print(df_cleaned)\n",
        "\n",
        "# Use NumPy to calculate the mean and standard deviation of the \"births\" column\n",
        "mean = np.mean(df_cleaned['births'])\n",
        "std_dev = np.std(df_cleaned['births'])\n",
        "print(\"The mean of the births is:\", mean)\n",
        "print(\"The standard deviation of the births is:\", std_dev)\n",
        "\n",
        "# Use Pandas to group the data by year and month, and calculate the mean number of births for each group\n",
        "df['date'] = pd.to_datetime(df['year']*10000 + df['month']*100 + df['day'], format='%Y%m%d', errors='coerce')\n",
        "grouped_by_month = df_cleaned.groupby(['year', 'month'])['births'].mean()\n",
        "print(grouped_by_month.head(2))\n",
        "print(grouped_by_month)\n",
        "\n",
        "\n",
        "# Use Matplotlib to create a line plot of the mean number of births per month over time\n",
        "import matplotlib.pyplot as plt\n",
        "\n",
        "grouped_by_month = grouped_by_month.reset_index()\n",
        "plt.plot(grouped_by_month['year'].astype(str) + '-' + grouped_by_month['month'].astype(str), grouped_by_month['births'])\n",
        "plt.xlabel('Year-Month')\n",
        "plt.ylabel('Mean Number of Births')\n",
        "plt.title('Mean Number of Births per Month')\n",
        "plt.show()\n",
        "\n",
        "# Use Pandas to group the data by day of the week, and calculate the mean number of births for each day\n",
        "df['date'] = pd.to_datetime(df['year']*10000 + df['month']*100 + df['day'], format='%Y%m%d', errors='coerce')\n",
        "df['day_of_week'] = df['date'].dt.day_name()\n",
        "grouped_by_day_of_week = df.groupby(['day_of_week'])['births'].mean()\n",
        "print(grouped_by_day_of_week)\n",
        "\n",
        "# Use Matplotlib to create a bar chart of the mean number of births per day of the week\n",
        "import matplotlib.pyplot as plt\n",
        "\n",
        "plt.bar(grouped_by_day_of_week.index, grouped_by_day_of_week.values)\n",
        "plt.xlabel('Day of the Week')\n",
        "plt.ylabel('Mean Number of Births')\n",
        "plt.title('Mean Number of Births per Day of the Week')\n",
        "plt.show()\n",
        "\n",
        "# Use Pandas to group the data by year, and calculate the total number of births for each year\n",
        "grouped_by_year = df.groupby(['year'])['births'].sum()\n",
        "print(grouped_by_year.head(10))\n",
        "\n",
        "# Use Matplotlib to create a bar chart of the total number of births per year\n",
        "import matplotlib.pyplot as plt\n",
        "\n",
        "plt.bar(grouped_by_year.index, grouped_by_year.values)\n",
        "plt.xlabel('Year')\n",
        "plt.ylabel('Total Number of Births')\n",
        "plt.title('Total Number of Births per Year')\n",
        "plt.show()"
      ]
    }
  ],
  "metadata": {
    "colab": {
      "provenance": []
    },
    "kernelspec": {
      "display_name": "Python 3",
      "name": "python3"
    },
    "language_info": {
      "codemirror_mode": {
        "name": "ipython",
        "version": 3
      },
      "file_extension": ".py",
      "mimetype": "text/x-python",
      "name": "python",
      "nbconvert_exporter": "python",
      "pygments_lexer": "ipython3",
      "version": "3.9.7"
    }
  },
  "nbformat": 4,
  "nbformat_minor": 0
}
