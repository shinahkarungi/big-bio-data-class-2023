{
  "cells": [
    {
      "attachments": {},
      "cell_type": "markdown",
      "metadata": {
        "id": "QjhxZHa4XZrg"
      },
      "source": [
        "Pandas Assignment\n",
        "Student Name: Nuwasiima Doreck\n",
        "\n",
        "Reg No: 2022/HD07/U\n",
        "\n",
        "Instructions:\n",
        "Please complete the questions below.\n",
        "Please comment your code indicating how you approached the problem"
      ]
    },
    {
      "cell_type": "markdown",
      "metadata": {
        "id": "dzFp6JEGY-U2"
      },
      "source": [
        "## Introduction to Pandas"
      ]
    },
    {
      "cell_type": "code",
      "execution_count": 74,
      "metadata": {
        "id": "BTAGt12UXCSg"
      },
      "outputs": [],
      "source": [
        "#Create a Pandas Series object containing the following data: 5, 10, 15, 20, 25. What is the average of the values in the Series?"
      ]
    },
    {
      "attachments": {},
      "cell_type": "markdown",
      "metadata": {},
      "source": [
        "Here is how we can create a Pandas Series object containing the data 5, 10, 15, 20, and 25. The Pandas Series object has been named \"series\" in the code below. To calculate the average of the values in the Series, we used the mean() method of the Series object as shown below:"
      ]
    },
    {
      "cell_type": "code",
      "execution_count": 75,
      "metadata": {},
      "outputs": [
        {
          "name": "stdout",
          "output_type": "stream",
          "text": [
            "0     5\n",
            "1    10\n",
            "2    15\n",
            "3    20\n",
            "4    25\n",
            "dtype: int64\n",
            "The average of the values in the Series is: 15.0\n"
          ]
        }
      ],
      "source": [
        "import pandas as pd\n",
        "\n",
        "data = [5, 10, 15, 20, 25]\n",
        "series = pd.Series(data)\n",
        "print(series)\n",
        "\n",
        "average = series.mean()\n",
        "print(\"The average of the values in the Series is:\", average)"
      ]
    },
    {
      "cell_type": "code",
      "execution_count": 76,
      "metadata": {
        "id": "r_2GlShpZCY0"
      },
      "outputs": [],
      "source": [
        "#Create a Pandas DataFrame object containing the following data: {'Name': ['Alice', 'Bob', 'Charlie'], 'Age': [25, 30, 35], 'Salary': [50000, 60000, 70000]}. What is the total salary of all employees?"
      ]
    },
    {
      "attachments": {},
      "cell_type": "markdown",
      "metadata": {},
      "source": [
        "To create a Pandas DataFrame object with the given data, we can use the following code:"
      ]
    },
    {
      "cell_type": "code",
      "execution_count": 77,
      "metadata": {},
      "outputs": [
        {
          "name": "stdout",
          "output_type": "stream",
          "text": [
            "      Name  Age  Salary\n",
            "0    Alice   25   50000\n",
            "1      Bob   30   60000\n",
            "2  Charlie   35   70000\n"
          ]
        }
      ],
      "source": [
        "import pandas as pd\n",
        "\n",
        "data = {'Name': ['Alice', 'Bob', 'Charlie'],\n",
        "        'Age': [25, 30, 35],\n",
        "        'Salary': [50000, 60000, 70000]}\n",
        "\n",
        "df = pd.DataFrame(data)\n",
        "\n",
        "print(df)\n"
      ]
    },
    {
      "attachments": {},
      "cell_type": "markdown",
      "metadata": {},
      "source": [
        "This created a DataFrame called df with three columns: 'Name', 'Age', and 'Salary', and three rows of data for each employee.\n",
        "\n",
        "To find the total salary of all employees, we can use the sum() method of the 'Salary' column as shown below: "
      ]
    },
    {
      "cell_type": "code",
      "execution_count": 78,
      "metadata": {},
      "outputs": [
        {
          "name": "stdout",
          "output_type": "stream",
          "text": [
            "180000\n"
          ]
        }
      ],
      "source": [
        "total_salary = df['Salary'].sum()\n",
        "print(total_salary)\n"
      ]
    },
    {
      "cell_type": "markdown",
      "metadata": {
        "id": "yhIUNmfGZG9l"
      },
      "source": [
        "## DataFrames and Series"
      ]
    },
    {
      "cell_type": "code",
      "execution_count": 79,
      "metadata": {
        "id": "h9-hguvpZKVF"
      },
      "outputs": [],
      "source": [
        "#Create a Pandas Series object containing the following data: [1, 2, 3, 4, 5]. Add 10 to each value in the Series."
      ]
    },
    {
      "attachments": {},
      "cell_type": "markdown",
      "metadata": {},
      "source": [
        "Below is the Python code to create a Pandas Series object with the given data and add 10 to each value:"
      ]
    },
    {
      "cell_type": "code",
      "execution_count": 80,
      "metadata": {},
      "outputs": [
        {
          "name": "stdout",
          "output_type": "stream",
          "text": [
            "0    11\n",
            "1    12\n",
            "2    13\n",
            "3    14\n",
            "4    15\n",
            "dtype: int64\n"
          ]
        }
      ],
      "source": [
        "import pandas as pd\n",
        "\n",
        "# create the Series object with the given data\n",
        "my_object = pd.Series([1, 2, 3, 4, 5])\n",
        "\n",
        "# add 10 to each value in the Series\n",
        "my_object = my_object + 10\n",
        "\n",
        "# print the updated Series\n",
        "print(my_object)\n"
      ]
    },
    {
      "cell_type": "code",
      "execution_count": 81,
      "metadata": {
        "id": "fwEQ6vAJZPwt"
      },
      "outputs": [],
      "source": [
        "#Create a Pandas DataFrame object containing the following data: {'Name': ['Alice', 'Bob', 'Charlie'], 'Age': [25, 30, 35], 'Salary': [50000, 60000, 70000]}. Select only the rows where the Age is greater than 30."
      ]
    },
    {
      "attachments": {},
      "cell_type": "markdown",
      "metadata": {},
      "source": [
        "Shown below is the Python code to create a Pandas DataFrame object with the given data and select only the rows where the Age is greater than 30:"
      ]
    },
    {
      "cell_type": "code",
      "execution_count": 82,
      "metadata": {},
      "outputs": [
        {
          "name": "stdout",
          "output_type": "stream",
          "text": [
            "      Name  Age  Salary\n",
            "2  Charlie   35   70000\n"
          ]
        }
      ],
      "source": [
        "import pandas as pd\n",
        "\n",
        "# create the DataFrame object with the given data\n",
        "data = {'Name': ['Alice', 'Bob', 'Charlie'], 'Age': [25, 30, 35], 'Salary': [50000, 60000, 70000]}\n",
        "df = pd.DataFrame(data)\n",
        "\n",
        "# select only the rows where the Age is greater than 30\n",
        "older = df[df['Age'] > 30]\n",
        "\n",
        "# print the resulting DataFrame\n",
        "print(older)\n"
      ]
    },
    {
      "cell_type": "markdown",
      "metadata": {
        "id": "nDrPzc3tZVCc"
      },
      "source": [
        "## Loading Data into Pandas"
      ]
    },
    {
      "cell_type": "code",
      "execution_count": 83,
      "metadata": {
        "id": "sdNPXVUWZZ_i"
      },
      "outputs": [],
      "source": [
        "#Load a CSV file named 'diabetes.csv' into a Pandas DataFrame object. What are the names of the columns in the DataFrame?\n",
        "#Please check your data folder for this dataset"
      ]
    },
    {
      "attachments": {},
      "cell_type": "markdown",
      "metadata": {},
      "source": [
        "This is the Python code to load the CSV file 'diabetes.csv' into a Pandas DataFrame object and print the column names:"
      ]
    },
    {
      "cell_type": "code",
      "execution_count": 84,
      "metadata": {},
      "outputs": [
        {
          "name": "stdout",
          "output_type": "stream",
          "text": [
            "Index(['Pregnancies', 'Glucose', 'BloodPressure', 'SkinThickness', 'Insulin',\n",
            "       'BMI', 'DiabetesPedigreeFunction', 'Age', 'Outcome'],\n",
            "      dtype='object')\n"
          ]
        }
      ],
      "source": [
        "import pandas as pd\n",
        "\n",
        "# set the path of the CSV file in Linux\n",
        "file_path = \"/home/nuwasiima/Documents/big-bio-data-class-2023/Data/Diabetes/diabetes.csv\"\n",
        "\n",
        "# load the diabetes.csv file into a Pandas DataFrame object\n",
        "diabetes_df = pd.read_csv(file_path)\n",
        "\n",
        "# print the column names of the DataFrame\n",
        "print(diabetes_df.columns)\n"
      ]
    },
    {
      "cell_type": "code",
      "execution_count": 85,
      "metadata": {
        "id": "Xc9EYfEqZiG_"
      },
      "outputs": [],
      "source": [
        "#Display the dimensions of the data"
      ]
    },
    {
      "attachments": {},
      "cell_type": "markdown",
      "metadata": {},
      "source": [
        "To display the dimensions of a Pandas DataFrame object, we use the shape attribute as shown in the code below:"
      ]
    },
    {
      "cell_type": "code",
      "execution_count": 86,
      "metadata": {},
      "outputs": [
        {
          "name": "stdout",
          "output_type": "stream",
          "text": [
            "(768, 9)\n"
          ]
        }
      ],
      "source": [
        "print(diabetes_df.shape)"
      ]
    },
    {
      "cell_type": "code",
      "execution_count": 87,
      "metadata": {
        "id": "4a5FAPN_ZlRJ"
      },
      "outputs": [],
      "source": [
        "#Display the top 10 rows"
      ]
    },
    {
      "attachments": {},
      "cell_type": "markdown",
      "metadata": {},
      "source": [
        "To display the top n rows of a Pandas DataFrame object, we use the head(n) method, where n is the number of rows we want to display. In this case, to display the top 10 rows of the diabetes_df DataFrame, we use the following code:"
      ]
    },
    {
      "cell_type": "code",
      "execution_count": 88,
      "metadata": {},
      "outputs": [
        {
          "name": "stdout",
          "output_type": "stream",
          "text": [
            "   Pregnancies  Glucose  BloodPressure  SkinThickness  Insulin   BMI   \n",
            "0            6      148             72             35        0  33.6  \\\n",
            "1            1       85             66             29        0  26.6   \n",
            "2            8      183             64              0        0  23.3   \n",
            "3            1       89             66             23       94  28.1   \n",
            "4            0      137             40             35      168  43.1   \n",
            "5            5      116             74              0        0  25.6   \n",
            "6            3       78             50             32       88  31.0   \n",
            "7           10      115              0              0        0  35.3   \n",
            "8            2      197             70             45      543  30.5   \n",
            "9            8      125             96              0        0   0.0   \n",
            "\n",
            "   DiabetesPedigreeFunction  Age  Outcome  \n",
            "0                     0.627   50        1  \n",
            "1                     0.351   31        0  \n",
            "2                     0.672   32        1  \n",
            "3                     0.167   21        0  \n",
            "4                     2.288   33        1  \n",
            "5                     0.201   30        0  \n",
            "6                     0.248   26        1  \n",
            "7                     0.134   29        0  \n",
            "8                     0.158   53        1  \n",
            "9                     0.232   54        1  \n"
          ]
        }
      ],
      "source": [
        "print(diabetes_df.head(10))\n"
      ]
    },
    {
      "cell_type": "code",
      "execution_count": 89,
      "metadata": {
        "id": "kXh8GQx6ZosC"
      },
      "outputs": [],
      "source": [
        "#Display the last 10 rows"
      ]
    },
    {
      "attachments": {},
      "cell_type": "markdown",
      "metadata": {},
      "source": [
        "Similarly, to display the last n rows of a Pandas DataFrame object, we use the tail(n) method, where n is the number of rows we want to display. In this case, to display the last 10 rows of diabetes_df DataFrame, we use the following code:"
      ]
    },
    {
      "cell_type": "code",
      "execution_count": 90,
      "metadata": {},
      "outputs": [
        {
          "name": "stdout",
          "output_type": "stream",
          "text": [
            "     Pregnancies  Glucose  BloodPressure  SkinThickness  Insulin   BMI   \n",
            "758            1      106             76              0        0  37.5  \\\n",
            "759            6      190             92              0        0  35.5   \n",
            "760            2       88             58             26       16  28.4   \n",
            "761            9      170             74             31        0  44.0   \n",
            "762            9       89             62              0        0  22.5   \n",
            "763           10      101             76             48      180  32.9   \n",
            "764            2      122             70             27        0  36.8   \n",
            "765            5      121             72             23      112  26.2   \n",
            "766            1      126             60              0        0  30.1   \n",
            "767            1       93             70             31        0  30.4   \n",
            "\n",
            "     DiabetesPedigreeFunction  Age  Outcome  \n",
            "758                     0.197   26        0  \n",
            "759                     0.278   66        1  \n",
            "760                     0.766   22        0  \n",
            "761                     0.403   43        1  \n",
            "762                     0.142   33        0  \n",
            "763                     0.171   63        0  \n",
            "764                     0.340   27        0  \n",
            "765                     0.245   30        0  \n",
            "766                     0.349   47        1  \n",
            "767                     0.315   23        0  \n"
          ]
        }
      ],
      "source": [
        "print(diabetes_df.tail(10))"
      ]
    },
    {
      "cell_type": "markdown",
      "metadata": {
        "id": "CDKEEmvmZwiq"
      },
      "source": [
        "## Data Cleaning"
      ]
    },
    {
      "cell_type": "code",
      "execution_count": 91,
      "metadata": {
        "id": "PFzUFZrTZzxV"
      },
      "outputs": [],
      "source": [
        "#Create a Pandas DataFrame object containing the following data: {'Name': ['Alice', 'Bob', 'Charlie', 'Dave', 'Eve'], 'Age': [25, 30, None, 35, 40], 'Salary': [50000, None, 70000, 80000, 90000]}. Remove all rows with missing values"
      ]
    },
    {
      "attachments": {},
      "cell_type": "markdown",
      "metadata": {},
      "source": [
        "We created the Pandas DataFrame object using the provided data nand proceeded to remove all rows with missing values using the dropna() method as shown below. The row with missing values (Bob) has been removed."
      ]
    },
    {
      "cell_type": "code",
      "execution_count": 92,
      "metadata": {},
      "outputs": [
        {
          "name": "stdout",
          "output_type": "stream",
          "text": [
            "    Name   Age   Salary\n",
            "0  Alice  25.0  50000.0\n",
            "3   Dave  35.0  80000.0\n",
            "4    Eve  40.0  90000.0\n"
          ]
        }
      ],
      "source": [
        "import pandas as pd\n",
        "\n",
        "# create the DataFrame\n",
        "new_df = pd.DataFrame({'Name': ['Alice', 'Bob', 'Charlie', 'Dave', 'Eve'], \n",
        "                   'Age': [25, 30, None, 35, 40], \n",
        "                   'Salary': [50000, None, 70000, 80000, 90000]})\n",
        "\n",
        "# remove all rows with missing values\n",
        "new_df = new_df.dropna()\n",
        "\n",
        "# display the resulting DataFrame\n",
        "print(new_df)\n"
      ]
    },
    {
      "cell_type": "code",
      "execution_count": 93,
      "metadata": {
        "id": "PRof8tNzZ34b"
      },
      "outputs": [],
      "source": [
        "#Create a Pandas DataFrame object containing the following data: {'Name': ['Alice', 'Bob', 'Charlie', 'Dave', 'Eve'], 'Age': [25, 30, None, 35, 40], 'Salary': [50000, None, 70000, 80000, 90000]}. Fill all missing values with the average Age and the median Salary."
      ]
    },
    {
      "attachments": {},
      "cell_type": "markdown",
      "metadata": {},
      "source": [
        "To fill missing values in a Pandas DataFrame object, we used the fillna() method. To fill missing values with the average Age and median Salary, we did the following:"
      ]
    },
    {
      "cell_type": "code",
      "execution_count": 94,
      "metadata": {},
      "outputs": [
        {
          "name": "stdout",
          "output_type": "stream",
          "text": [
            "      Name   Age   Salary\n",
            "0    Alice  25.0  50000.0\n",
            "1      Bob  30.0  75000.0\n",
            "2  Charlie  32.5  70000.0\n",
            "3     Dave  35.0  80000.0\n",
            "4      Eve  40.0  90000.0\n"
          ]
        }
      ],
      "source": [
        "import pandas as pd\n",
        "\n",
        "# create the DataFrame\n",
        "fill_df = pd.DataFrame({'Name': ['Alice', 'Bob', 'Charlie', 'Dave', 'Eve'], \n",
        "                   'Age': [25, 30, None, 35, 40], \n",
        "                   'Salary': [50000, None, 70000, 80000, 90000]})\n",
        "\n",
        "# fill missing Age values with the average Age\n",
        "mean_age = fill_df['Age'].mean()\n",
        "fill_df['Age'].fillna(mean_age, inplace=True)\n",
        "\n",
        "# fill missing Salary values with the median Salary\n",
        "median_salary = fill_df['Salary'].median()\n",
        "fill_df['Salary'].fillna(median_salary, inplace=True)\n",
        "\n",
        "# display the resulting DataFrame\n",
        "print(fill_df)\n"
      ]
    },
    {
      "cell_type": "markdown",
      "metadata": {
        "id": "Dm9ghsopZ8Fb"
      },
      "source": [
        "## Data Exploration"
      ]
    },
    {
      "cell_type": "code",
      "execution_count": 95,
      "metadata": {
        "id": "y3MDNAY6Z_xz"
      },
      "outputs": [],
      "source": [
        "#Create a Pandas DataFrame object containing the following data: {'Name': ['Alice', 'Bob', 'Charlie'], 'Age': [25, 30, 35], 'Salary': [50000, 60000, 70000]}. What is the maximum Age and minimum Salary in the DataFrame?"
      ]
    },
    {
      "attachments": {},
      "cell_type": "markdown",
      "metadata": {},
      "source": [
        "To find the maximum Age and minimum Salary in a Pandas DataFrame, we use the max() and min() methods on the respective columns. Shown below is how we did it for the given DataFrame:"
      ]
    },
    {
      "cell_type": "code",
      "execution_count": 96,
      "metadata": {},
      "outputs": [
        {
          "name": "stdout",
          "output_type": "stream",
          "text": [
            "Maximum Age: 35\n",
            "Minimum Salary: 50000\n"
          ]
        }
      ],
      "source": [
        "import pandas as pd\n",
        "\n",
        "# create the DataFrame\n",
        "exp_df = pd.DataFrame({'Name': ['Alice', 'Bob', 'Charlie'], \n",
        "                   'Age': [25, 30, 35], \n",
        "                   'Salary': [50000, 60000, 70000]})\n",
        "\n",
        "# find the maximum Age and minimum Salary\n",
        "max_age = exp_df['Age'].max()\n",
        "min_salary = exp_df['Salary'].min()\n",
        "\n",
        "# print the results\n",
        "print(\"Maximum Age:\", max_age)\n",
        "print(\"Minimum Salary:\", min_salary)\n"
      ]
    },
    {
      "cell_type": "code",
      "execution_count": 97,
      "metadata": {
        "id": "vDlB5kgpaDwE"
      },
      "outputs": [],
      "source": [
        "#Create a Pandas DataFrame object containing the following data: {'Name': ['Alice', 'Bob', 'Charlie'], 'Age': [25, 30, 35], 'Salary': [50000, 60000, 70000]}. Calculate the correlation coefficient between Age and Salary."
      ]
    },
    {
      "attachments": {},
      "cell_type": "markdown",
      "metadata": {},
      "source": [
        "To calculate the correlation coefficient between two columns in a Pandas DataFrame, we use the corr() method. Here is how ywe did it for the given DataFrame:"
      ]
    },
    {
      "cell_type": "code",
      "execution_count": 98,
      "metadata": {},
      "outputs": [
        {
          "name": "stdout",
          "output_type": "stream",
          "text": [
            "Correlation Coefficient between Age and Salary: 1.0\n"
          ]
        }
      ],
      "source": [
        "import pandas as pd\n",
        "\n",
        "# create the DataFrame\n",
        "df = pd.DataFrame({'Name': ['Alice', 'Bob', 'Charlie'], \n",
        "                   'Age': [25, 30, 35], \n",
        "                   'Salary': [50000, 60000, 70000]})\n",
        "\n",
        "# calculate the correlation coefficient between Age and Salary\n",
        "corr_coeff = df['Age'].corr(df['Salary'])\n",
        "\n",
        "# print the result\n",
        "print(\"Correlation Coefficient between Age and Salary:\", corr_coeff)\n"
      ]
    },
    {
      "cell_type": "markdown",
      "metadata": {
        "id": "l8bPg2etaGNU"
      },
      "source": [
        "## Grouping and Aggregating Data"
      ]
    },
    {
      "cell_type": "code",
      "execution_count": 99,
      "metadata": {
        "id": "njbAfs1xaJ4d"
      },
      "outputs": [],
      "source": [
        "#Create a Pandas DataFrame object containing the following data: {'Name': ['Alice', 'Bob', 'Charlie', 'Dave', 'Eve'], 'Age': [25, 30, 35, 25, 30], 'Salary': [50000, 60000, 70000, 80000, 90000]}. Group the DataFrame by Age and calculate the mean Salary for each group."
      ]
    },
    {
      "attachments": {},
      "cell_type": "markdown",
      "metadata": {},
      "source": [
        "This is how we create a Pandas DataFrame object containing the data specified and group it by Age to calculate the mean Salary for each group. Finally, it prints the resulting DataFrame."
      ]
    },
    {
      "cell_type": "code",
      "execution_count": 100,
      "metadata": {},
      "outputs": [
        {
          "name": "stdout",
          "output_type": "stream",
          "text": [
            "Age\n",
            "25    65000.0\n",
            "30    75000.0\n",
            "35    70000.0\n",
            "Name: Salary, dtype: float64\n"
          ]
        }
      ],
      "source": [
        "import pandas as pd\n",
        "\n",
        "data = {'Name': ['Alice', 'Bob', 'Charlie', 'Dave', 'Eve'], \n",
        "        'Age': [25, 30, 35, 25, 30], \n",
        "        'Salary': [50000, 60000, 70000, 80000, 90000]}\n",
        "\n",
        "df = pd.DataFrame(data)\n",
        "\n",
        "grouped_df = df.groupby('Age')['Salary'].mean()\n",
        "\n",
        "print(grouped_df)\n"
      ]
    },
    {
      "cell_type": "markdown",
      "metadata": {
        "id": "uqNLYJGBamsa"
      },
      "source": [
        "## Reshaping Data"
      ]
    },
    {
      "cell_type": "code",
      "execution_count": 101,
      "metadata": {
        "id": "nPyItbc6aoPA"
      },
      "outputs": [],
      "source": [
        "#Create a Pandas DataFrame object containing the following data: {'Year': [2019, 2019, 2020, 2020], 'Quarter': ['Q1', 'Q2', 'Q1', 'Q2'], 'Sales': [100, 200, 300, 400]}. Pivot the DataFrame so that the rows are indexed by Year, the columns are indexed by Quarter, and the values are the Sales."
      ]
    },
    {
      "attachments": {},
      "cell_type": "markdown",
      "metadata": {},
      "source": [
        "This is how we create a Pandas DataFrame object containing the data specified above, and pivot it so that the rows are indexed by Year, the columns are indexed by Quarter, and the values are the Sales:"
      ]
    },
    {
      "cell_type": "code",
      "execution_count": 102,
      "metadata": {},
      "outputs": [
        {
          "name": "stdout",
          "output_type": "stream",
          "text": [
            "Quarter   Q1   Q2\n",
            "Year             \n",
            "2019     100  200\n",
            "2020     300  400\n"
          ]
        }
      ],
      "source": [
        "import pandas as pd\n",
        "\n",
        "data = {'Year': [2019, 2019, 2020, 2020], \n",
        "        'Quarter': ['Q1', 'Q2', 'Q1', 'Q2'], \n",
        "        'Sales': [100, 200, 300, 400]}\n",
        "\n",
        "df = pd.DataFrame(data)\n",
        "\n",
        "pivot_df = df.pivot(index='Year', columns='Quarter', values='Sales')\n",
        "\n",
        "print(pivot_df)\n"
      ]
    },
    {
      "cell_type": "code",
      "execution_count": 103,
      "metadata": {
        "id": "7UWE3_NaawLj"
      },
      "outputs": [],
      "source": [
        "#Create a Pandas DataFrame object containing the following data: {'Name': ['Alice', 'Bob', 'Charlie'], 'Gender': ['F', 'M', 'M'], 'Salary 2019': [50000, 60000, 70000], 'Salary 2020': [55000, 65000, 75000]}. Melt the DataFrame so that the variable column contains the years and the value column contains the salaries."
      ]
    },
    {
      "attachments": {},
      "cell_type": "markdown",
      "metadata": {},
      "source": [
        "This is how we create a Pandas DataFrame object containing the data specified and melt it so that the variable column contains the years and the value column contains the salaries. In the resultant melted DataFrame, the variable column contains the years ('Salary 2019' and 'Salary 2020') and the value column contains the salaries. The id_vars parameter specifies which columns should remain as identifier columns (in this case, the 'Name' and 'Gender' columns). The var_name parameter specifies the name of the variable column, and the value_name parameter specifies the name of the value column."
      ]
    },
    {
      "cell_type": "code",
      "execution_count": 104,
      "metadata": {},
      "outputs": [
        {
          "name": "stdout",
          "output_type": "stream",
          "text": [
            "      Name Gender         Year  Salary\n",
            "0    Alice      F  Salary 2019   50000\n",
            "1      Bob      M  Salary 2019   60000\n",
            "2  Charlie      M  Salary 2019   70000\n",
            "3    Alice      F  Salary 2020   55000\n",
            "4      Bob      M  Salary 2020   65000\n",
            "5  Charlie      M  Salary 2020   75000\n"
          ]
        }
      ],
      "source": [
        "import pandas as pd\n",
        "\n",
        "data = {'Name': ['Alice', 'Bob', 'Charlie'], \n",
        "        'Gender': ['F', 'M', 'M'], \n",
        "        'Salary 2019': [50000, 60000, 70000], \n",
        "        'Salary 2020': [55000, 65000, 75000]}\n",
        "\n",
        "df = pd.DataFrame(data)\n",
        "\n",
        "melted_df = pd.melt(df, id_vars=['Name', 'Gender'], var_name='Year', value_name='Salary')\n",
        "\n",
        "print(melted_df)\n"
      ]
    },
    {
      "cell_type": "markdown",
      "metadata": {
        "id": "Q7_gHKi5a0bN"
      },
      "source": [
        "## Merging and Joining Data"
      ]
    },
    {
      "cell_type": "code",
      "execution_count": 105,
      "metadata": {
        "id": "SPZOaqzIa7Js"
      },
      "outputs": [],
      "source": [
        "#Create two Pandas DataFrame objects, df1 and df2, containing the following data: df1 = {'key': ['A', 'B', 'C', 'D'], 'value': [1, 2, 3, 4]} and df2 = {'key': ['B', 'D', 'E', 'F'], 'value': [5, 6, 7, 8]}. Merge the two DataFrames using an inner join on the 'key' column."
      ]
    },
    {
      "attachments": {},
      "cell_type": "markdown",
      "metadata": {},
      "source": [
        "This is how we create two Pandas DataFrame objects containing the data specified and merge them into a single DataFrame using an inner join on the 'key' column. This is done using the pd.merge() function. We specify an inner join by setting the how parameter to 'inner'. This means that the resulting DataFrame will only contain the rows where the \"key\" column is present in both DataFrames. Important to note is that because both DataFrames have a column named \"value\", Pandas automatically appends \"_x\" and \"_y\" to the column names to disambiguate them."
      ]
    },
    {
      "cell_type": "code",
      "execution_count": 106,
      "metadata": {},
      "outputs": [
        {
          "name": "stdout",
          "output_type": "stream",
          "text": [
            "  key  value_x  value_y\n",
            "0   B        2        5\n",
            "1   D        4        6\n"
          ]
        }
      ],
      "source": [
        "import pandas as pd\n",
        "\n",
        "df1 = pd.DataFrame({'key': ['A', 'B', 'C', 'D'], 'value': [1, 2, 3, 4]})\n",
        "df2 = pd.DataFrame({'key': ['B', 'D', 'E', 'F'], 'value': [5, 6, 7, 8]})\n",
        "\n",
        "merged_df = pd.merge(df1, df2, on='key', how='inner')\n",
        "\n",
        "print(merged_df)\n"
      ]
    },
    {
      "cell_type": "code",
      "execution_count": 107,
      "metadata": {
        "id": "Wvey28Jsa_Ws"
      },
      "outputs": [],
      "source": [
        "#Create two Pandas DataFrame objects, df1 and df2, containing the following data: df1 = {'key': ['A', 'B', 'C', 'D'], 'value1': [1, 2, 3, 4]} and df2 = {'key': ['B', 'D', 'E', 'F'], 'value2': [5, 6, 7, 8]}. Perform a left join on df1 and df2 using the 'key' column as the join key."
      ]
    },
    {
      "attachments": {},
      "cell_type": "markdown",
      "metadata": {},
      "source": [
        "This is how we create two Pandas DataFrame objects containing the data specified and perform a left join on df1 and df2 using the 'key' column as the join key. The resulting DataFrame will contain all rows from df1 and any matching rows from df2. If there is no match in df2, the resulting row will have NaN in the columns from df2. In a ddition, because only df2 has a column named \"value2\", the resulting column in the merged DataFrame is named \"value2\". The column \"value1\" from df1 is included as is."
      ]
    },
    {
      "cell_type": "code",
      "execution_count": 108,
      "metadata": {},
      "outputs": [
        {
          "name": "stdout",
          "output_type": "stream",
          "text": [
            "  key  value1  value2\n",
            "0   A       1     NaN\n",
            "1   B       2     5.0\n",
            "2   C       3     NaN\n",
            "3   D       4     6.0\n"
          ]
        }
      ],
      "source": [
        "import pandas as pd\n",
        "\n",
        "df1 = pd.DataFrame({'key': ['A', 'B', 'C', 'D'], 'value1': [1, 2, 3, 4]})\n",
        "df2 = pd.DataFrame({'key': ['B', 'D', 'E', 'F'], 'value2': [5, 6, 7, 8]})\n",
        "\n",
        "merged_df = pd.merge(df1, df2, on='key', how='left')\n",
        "\n",
        "print(merged_df)\n"
      ]
    },
    {
      "cell_type": "markdown",
      "metadata": {
        "id": "pYg6Y5SRb1ML"
      },
      "source": [
        "## Mini Pandas Project\n",
        "\n",
        "- Load the CSV file into a Pandas DataFrame object.\n",
        "- Clean the data by removing any rows with missing values and any duplicate rows.\n",
        "- Use NumPy to calculate the mean and standard deviation of the \"births\" column.\n",
        "- Use Pandas to group the data by year and month, and calculate the mean number of births for each group.\n",
        "- Use Matplotlib to create a line plot of the mean number of births per month over time.\n",
        "- Use Pandas to group the data by day of the week, and calculate the mean number of births for each day.\n",
        "- Use Matplotlib to create a bar chart of the mean number of births per day of the week.\n",
        "- Use Pandas to group the data by year, and calculate the total number of births for each year.\n",
        "- Use Matplotlib to create a bar chart of the total number of births per year.\n",
        "\n",
        ">> NOTE: Below is boiler code for you to get started with.Please fill in the missing codes."
      ]
    },
    {
      "cell_type": "code",
      "execution_count": 109,
      "metadata": {
        "id": "QWvvcvj4eCyT"
      },
      "outputs": [
        {
          "name": "stdout",
          "output_type": "stream",
          "text": [
            "       year  month  day gender  births\n",
            "0      1969      1  1.0      F    4046\n",
            "1      1969      1  1.0      M    4440\n",
            "2      1969      1  2.0      F    4454\n",
            "3      1969      1  2.0      M    4548\n",
            "4      1969      1  3.0      F    4548\n",
            "...     ...    ...  ...    ...     ...\n",
            "15542  2008     10  NaN      M  183219\n",
            "15543  2008     11  NaN      F  158939\n",
            "15544  2008     11  NaN      M  165468\n",
            "15545  2008     12  NaN      F  173215\n",
            "15546  2008     12  NaN      M  181235\n",
            "\n",
            "[15547 rows x 5 columns]\n",
            "       year  month   day gender  births\n",
            "0      1969      1   1.0      F    4046\n",
            "1      1969      1   1.0      M    4440\n",
            "2      1969      1   2.0      F    4454\n",
            "3      1969      1   2.0      M    4548\n",
            "4      1969      1   3.0      F    4548\n",
            "...     ...    ...   ...    ...     ...\n",
            "15062  1988     12  29.0      M    5944\n",
            "15063  1988     12  30.0      F    5742\n",
            "15064  1988     12  30.0      M    6095\n",
            "15065  1988     12  31.0      F    4435\n",
            "15066  1988     12  31.0      M    4698\n",
            "\n",
            "[15067 rows x 5 columns]\n",
            "year  month\n",
            "1969  1        4592.812500\n",
            "      2        4231.031250\n",
            "      3        4633.593750\n",
            "      4        4416.218750\n",
            "      5        4517.562500\n",
            "                  ...     \n",
            "1988  8        5719.338710\n",
            "      9        5787.950000\n",
            "      10       5264.015873\n",
            "      11       5244.433333\n",
            "      12       5198.822581\n",
            "Name: births, Length: 240, dtype: float64\n"
          ]
        },
        {
          "data": {
            "image/png": "[encoded data removed]",
            "text/plain": [
              "<Figure size 640x480 with 1 Axes>"
            ]
          },
          "metadata": {},
          "output_type": "display_data"
        },
        {
          "data": {
            "image/png": "[encoded data removed]",
            "text/plain": [
              "<Figure size 640x480 with 1 Axes>"
            ]
          },
          "metadata": {},
          "output_type": "display_data"
        },
        {
          "data": {
            "image/png": "[encoded data removed]",
            "text/plain": [
              "<Figure size 640x480 with 1 Axes>"
            ]
          },
          "metadata": {},
          "output_type": "display_data"
        }
      ],
      "source": [
        "import pandas as pd\n",
        "import numpy as np\n",
        "import matplotlib.pyplot as plt\n",
        "\n",
        "# Load the CSV file into a Pandas DataFrame object\n",
        "df = pd.read_csv(\"https://raw.githubusercontent.com/jakevdp/data-CDCbirths/master/births.csv\")\n",
        "print(df)\n",
        "\n",
        "# Clean the data by removing any rows with missing values and any duplicate rows\n",
        "df1 = df.dropna(inplace=False) # remove rows with missing values\n",
        "df = df1.drop_duplicates(inplace=False) # remove duplicate rows\n",
        "\n",
        "print(df)\n",
        "\n",
        "# Use NumPy to calculate the mean and standard deviation of the \"births\" column\n",
        "mean = np.mean(df['births'])\n",
        "std_dev = np.std(df['births'])\n",
        "\n",
        "# Use Pandas to group the data by year and month, and calculate the mean number of births for each group\n",
        "df['date'] = pd.to_datetime(df['year']*10000 + df['month']*100 + df['day'], format='%Y%m%d', errors='coerce')\n",
        "grouped_by_month = df.groupby(['year', 'month'])['births'].mean()\n",
        "print(grouped_by_month)\n",
        "\n",
        "\n",
        "# Use Matplotlib to create a line plot of the mean number of births per month over time\n",
        "grouped_by_month = grouped_by_month.reset_index()\n",
        "plt.plot(grouped_by_month['year'].astype(str) + '-' + grouped_by_month['month'].astype(str), grouped_by_month['births'])\n",
        "plt.xlabel('Year-Month')\n",
        "plt.ylabel('Mean Number of Births')\n",
        "plt.title('Mean Number of Births per Month')\n",
        "plt.show()\n",
        "\n",
        "# Use Pandas to group the data by day of the week, and calculate the mean number of births for each day\n",
        "df['day_of_week'] = df['date'].dt.day_name()\n",
        "grouped_by_day_of_week = df.groupby('year')['births'].sum()\n",
        "\n",
        "# Use Matplotlib to create a bar chart of the mean number of births per day of the week\n",
        "plt.bar(grouped_by_day_of_week.index, grouped_by_day_of_week.values)\n",
        "plt.xlabel('Day of the Week')\n",
        "plt.ylabel('Mean Number of Births')\n",
        "plt.title('Mean Number of Births per Day of the Week')\n",
        "plt.show()\n",
        "\n",
        "# Use Pandas to group the data by year, and calculate the total number of births for each year\n",
        "grouped_by_year = df.groupby('year')['births'].sum()\n",
        "\n",
        "\n",
        "# Use Matplotlib to create a bar chart of the total number of births per year\n",
        "plt.bar(grouped_by_year.index, grouped_by_year.values)\n",
        "plt.xlabel('Year')\n",
        "plt.ylabel('Total Number of Births')\n",
        "plt.title('Total Number of Births per Year')\n",
        "plt.show()\n"
      ]
    }
  ],
  "metadata": {
    "colab": {
      "provenance": []
    },
    "kernelspec": {
      "display_name": "Python 3",
      "name": "python3"
    },
    "language_info": {
      "codemirror_mode": {
        "name": "ipython",
        "version": 3
      },
      "file_extension": ".py",
      "mimetype": "text/x-python",
      "name": "python",
      "nbconvert_exporter": "python",
      "pygments_lexer": "ipython3",
      "version": "3.11.2"
    }
  },
  "nbformat": 4,
  "nbformat_minor": 0
}
