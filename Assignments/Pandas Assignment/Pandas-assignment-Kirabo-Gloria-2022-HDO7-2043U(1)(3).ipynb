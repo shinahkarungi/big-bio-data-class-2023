{
 "cells": [
  {
   "cell_type": "code",
   "execution_count": 3,
   "id": "25cce169",
   "metadata": {},
   "outputs": [
    {
     "data": {
      "text/plain": [
       "15.0"
      ]
     },
     "execution_count": 3,
     "metadata": {},
     "output_type": "execute_result"
    }
   ],
   "source": [
    "#Create a Pandas Series object containing the following data:\n",
    "#5, 10, 15, 20, 25. What is the average of the values in the Series?\n",
    "import pandas as p\n",
    "a = [5,10,15,20,25]\n",
    "series = p.Series(a)\n",
    "average = series.mean()\n",
    "median = series.median()\n",
    "sum = series.sum()\n",
    "mode = series.mode()\n",
    "standarddeviation = series.std()\n",
    "counts = series.value_counts()\n",
    "average\n",
    "#median\n",
    "#sum\n",
    "#mode\n",
    "#standarddeviation\n",
    "#counts\n"
   ]
  },
  {
   "cell_type": "code",
   "execution_count": 3,
   "id": "097642eb",
   "metadata": {},
   "outputs": [
    {
     "data": {
      "text/plain": [
       "180000"
      ]
     },
     "execution_count": 3,
     "metadata": {},
     "output_type": "execute_result"
    }
   ],
   "source": [
    "#Create a Pandas DataFrame object containing the following data: \n",
    "#{'Name': ['Alice', 'Bob', 'Charlie'], 'Age': [25, 30, 35], 'Salary': [50000, 60000, 70000]}. What is the total salary of all employees?\n",
    "\n",
    "my_data = {'Name':['Alice','Bob','Charlie'], 'Age':[25,30,35], 'Salary':[50000,60000,70000]}\n",
    "df = p.DataFrame(my_data)\n",
    "df\n",
    "totalsalary = df['Salary'].sum()\n",
    "totalsalary\n",
    "#df['Name']\n",
    "#df['Age']\n",
    "#df.describe()\n",
    "#df[df['Salary'] > 50000]\n",
    "#df.sort_values('Age', ascending=True)\n",
    "#df.groupby('Name')['Salary'].sum()\n"
   ]
  },
  {
   "cell_type": "code",
   "execution_count": 91,
   "id": "442bff83",
   "metadata": {},
   "outputs": [
    {
     "name": "stdout",
     "output_type": "stream",
     "text": [
      "0    11\n",
      "1    12\n",
      "2    13\n",
      "3    14\n",
      "4    15\n",
      "dtype: int64\n"
     ]
    }
   ],
   "source": [
    "#Create a Pandas Series object containing the following data\n",
    "#: [1, 2, 3, 4, 5]. Add 10 to each value in the Series.\n",
    "\n",
    "c = [1,2,3,4,5]\n",
    "series = p.Series(c)\n",
    "c_new = series.apply(lambda x: x + 10)\n",
    "print(c_new)\n",
    "#series = c_new\n",
    "#series.describe()\n",
    "#series.sum()\n",
    "#series[1]\n",
    "#series[series > 12]\n"
   ]
  },
  {
   "cell_type": "code",
   "execution_count": 103,
   "id": "049e3d49",
   "metadata": {},
   "outputs": [
    {
     "data": {
      "text/html": [
       "<div>\n",
       "<style scoped>\n",
       "    .dataframe tbody tr th:only-of-type {\n",
       "        vertical-align: middle;\n",
       "    }\n",
       "\n",
       "    .dataframe tbody tr th {\n",
       "        vertical-align: top;\n",
       "    }\n",
       "\n",
       "    .dataframe thead th {\n",
       "        text-align: right;\n",
       "    }\n",
       "</style>\n",
       "<table border=\"1\" class=\"dataframe\">\n",
       "  <thead>\n",
       "    <tr style=\"text-align: right;\">\n",
       "      <th></th>\n",
       "      <th>Name</th>\n",
       "      <th>Age</th>\n",
       "      <th>Salary</th>\n",
       "    </tr>\n",
       "  </thead>\n",
       "  <tbody>\n",
       "    <tr>\n",
       "      <th>2</th>\n",
       "      <td>Charlie</td>\n",
       "      <td>35</td>\n",
       "      <td>70000</td>\n",
       "    </tr>\n",
       "  </tbody>\n",
       "</table>\n",
       "</div>"
      ],
      "text/plain": [
       "      Name  Age  Salary\n",
       "2  Charlie   35   70000"
      ]
     },
     "execution_count": 103,
     "metadata": {},
     "output_type": "execute_result"
    }
   ],
   "source": [
    "#Create a Pandas DataFrame object containing the following data: {'Name': ['Alice', 'Bob', 'Charlie'], 'Age': [25, 30, 35], 'Salary': [50000, 60000, 70000]}.\n",
    "#Select only the rows where the Age is greater than 30.\n",
    "data = {'Name':['Alice','Bob','Charlie'], 'Age':[25,30,35], 'Salary':[50000,60000,70000]}\n",
    "df1 = p.DataFrame(data)\n",
    "df1\n",
    "df1[df1['Age'] > 30]\n",
    "#df1['Name']"
   ]
  },
  {
   "cell_type": "code",
   "execution_count": 23,
   "id": "144e8efa",
   "metadata": {},
   "outputs": [
    {
     "name": "stdout",
     "output_type": "stream",
     "text": [
      "Index(['Pregnancies', 'Glucose', 'BloodPressure', 'SkinThickness', 'Insulin',\n",
      "       'BMI', 'DiabetesPedigreeFunction', 'Age', 'Outcome'],\n",
      "      dtype='object')\n"
     ]
    }
   ],
   "source": [
    "#Load a CSV file named 'diabetes.csv' into a Pandas DataFrame object. \n",
    "#What are the names of the columns in the DataFrame?\n",
    "Diabetes = p.read_csv('C:/Users/msaim/Downloads/big-bio-data-class-2023/Data/Diabetes/diabetes.csv')\n",
    "#Diabetes.head()\n",
    "print(Diabetes.columns)\n",
    "#Diabetes.iloc[1:3]\n",
    "#Diabetes.iloc[0]\n",
    "#Diabetes['Glucose']\n",
    "#Diabetes['Pregnancy']\n",
    "#Diabetes[Diabetes['BloodPressure'] > 80].head()\n",
    "\n",
    "\n"
   ]
  },
  {
   "cell_type": "code",
   "execution_count": 26,
   "id": "eacb9129",
   "metadata": {},
   "outputs": [
    {
     "name": "stdout",
     "output_type": "stream",
     "text": [
      "(768, 9)\n"
     ]
    }
   ],
   "source": [
    "#Display the dimensions of the data\n",
    "print(Diabetes.shape)\n"
   ]
  },
  {
   "cell_type": "code",
   "execution_count": 30,
   "id": "393d9bd5",
   "metadata": {},
   "outputs": [
    {
     "name": "stdout",
     "output_type": "stream",
     "text": [
      "   Pregnancies  Glucose  BloodPressure  SkinThickness  Insulin   BMI  \\\n",
      "0            6      148             72             35        0  33.6   \n",
      "1            1       85             66             29        0  26.6   \n",
      "2            8      183             64              0        0  23.3   \n",
      "3            1       89             66             23       94  28.1   \n",
      "4            0      137             40             35      168  43.1   \n",
      "5            5      116             74              0        0  25.6   \n",
      "6            3       78             50             32       88  31.0   \n",
      "7           10      115              0              0        0  35.3   \n",
      "8            2      197             70             45      543  30.5   \n",
      "9            8      125             96              0        0   0.0   \n",
      "\n",
      "   DiabetesPedigreeFunction  Age  Outcome  \n",
      "0                     0.627   50        1  \n",
      "1                     0.351   31        0  \n",
      "2                     0.672   32        1  \n",
      "3                     0.167   21        0  \n",
      "4                     2.288   33        1  \n",
      "5                     0.201   30        0  \n",
      "6                     0.248   26        1  \n",
      "7                     0.134   29        0  \n",
      "8                     0.158   53        1  \n",
      "9                     0.232   54        1  \n"
     ]
    }
   ],
   "source": [
    "#Display the top 10 rows\n",
    "print(Diabetes.head(10))"
   ]
  },
  {
   "cell_type": "code",
   "execution_count": 31,
   "id": "664e6d47",
   "metadata": {},
   "outputs": [
    {
     "data": {
      "text/html": [
       "<div>\n",
       "<style scoped>\n",
       "    .dataframe tbody tr th:only-of-type {\n",
       "        vertical-align: middle;\n",
       "    }\n",
       "\n",
       "    .dataframe tbody tr th {\n",
       "        vertical-align: top;\n",
       "    }\n",
       "\n",
       "    .dataframe thead th {\n",
       "        text-align: right;\n",
       "    }\n",
       "</style>\n",
       "<table border=\"1\" class=\"dataframe\">\n",
       "  <thead>\n",
       "    <tr style=\"text-align: right;\">\n",
       "      <th></th>\n",
       "      <th>Pregnancies</th>\n",
       "      <th>Glucose</th>\n",
       "      <th>BloodPressure</th>\n",
       "      <th>SkinThickness</th>\n",
       "      <th>Insulin</th>\n",
       "      <th>BMI</th>\n",
       "      <th>DiabetesPedigreeFunction</th>\n",
       "      <th>Age</th>\n",
       "      <th>Outcome</th>\n",
       "    </tr>\n",
       "  </thead>\n",
       "  <tbody>\n",
       "    <tr>\n",
       "      <th>758</th>\n",
       "      <td>1</td>\n",
       "      <td>106</td>\n",
       "      <td>76</td>\n",
       "      <td>0</td>\n",
       "      <td>0</td>\n",
       "      <td>37.5</td>\n",
       "      <td>0.197</td>\n",
       "      <td>26</td>\n",
       "      <td>0</td>\n",
       "    </tr>\n",
       "    <tr>\n",
       "      <th>759</th>\n",
       "      <td>6</td>\n",
       "      <td>190</td>\n",
       "      <td>92</td>\n",
       "      <td>0</td>\n",
       "      <td>0</td>\n",
       "      <td>35.5</td>\n",
       "      <td>0.278</td>\n",
       "      <td>66</td>\n",
       "      <td>1</td>\n",
       "    </tr>\n",
       "    <tr>\n",
       "      <th>760</th>\n",
       "      <td>2</td>\n",
       "      <td>88</td>\n",
       "      <td>58</td>\n",
       "      <td>26</td>\n",
       "      <td>16</td>\n",
       "      <td>28.4</td>\n",
       "      <td>0.766</td>\n",
       "      <td>22</td>\n",
       "      <td>0</td>\n",
       "    </tr>\n",
       "    <tr>\n",
       "      <th>761</th>\n",
       "      <td>9</td>\n",
       "      <td>170</td>\n",
       "      <td>74</td>\n",
       "      <td>31</td>\n",
       "      <td>0</td>\n",
       "      <td>44.0</td>\n",
       "      <td>0.403</td>\n",
       "      <td>43</td>\n",
       "      <td>1</td>\n",
       "    </tr>\n",
       "    <tr>\n",
       "      <th>762</th>\n",
       "      <td>9</td>\n",
       "      <td>89</td>\n",
       "      <td>62</td>\n",
       "      <td>0</td>\n",
       "      <td>0</td>\n",
       "      <td>22.5</td>\n",
       "      <td>0.142</td>\n",
       "      <td>33</td>\n",
       "      <td>0</td>\n",
       "    </tr>\n",
       "    <tr>\n",
       "      <th>763</th>\n",
       "      <td>10</td>\n",
       "      <td>101</td>\n",
       "      <td>76</td>\n",
       "      <td>48</td>\n",
       "      <td>180</td>\n",
       "      <td>32.9</td>\n",
       "      <td>0.171</td>\n",
       "      <td>63</td>\n",
       "      <td>0</td>\n",
       "    </tr>\n",
       "    <tr>\n",
       "      <th>764</th>\n",
       "      <td>2</td>\n",
       "      <td>122</td>\n",
       "      <td>70</td>\n",
       "      <td>27</td>\n",
       "      <td>0</td>\n",
       "      <td>36.8</td>\n",
       "      <td>0.340</td>\n",
       "      <td>27</td>\n",
       "      <td>0</td>\n",
       "    </tr>\n",
       "    <tr>\n",
       "      <th>765</th>\n",
       "      <td>5</td>\n",
       "      <td>121</td>\n",
       "      <td>72</td>\n",
       "      <td>23</td>\n",
       "      <td>112</td>\n",
       "      <td>26.2</td>\n",
       "      <td>0.245</td>\n",
       "      <td>30</td>\n",
       "      <td>0</td>\n",
       "    </tr>\n",
       "    <tr>\n",
       "      <th>766</th>\n",
       "      <td>1</td>\n",
       "      <td>126</td>\n",
       "      <td>60</td>\n",
       "      <td>0</td>\n",
       "      <td>0</td>\n",
       "      <td>30.1</td>\n",
       "      <td>0.349</td>\n",
       "      <td>47</td>\n",
       "      <td>1</td>\n",
       "    </tr>\n",
       "    <tr>\n",
       "      <th>767</th>\n",
       "      <td>1</td>\n",
       "      <td>93</td>\n",
       "      <td>70</td>\n",
       "      <td>31</td>\n",
       "      <td>0</td>\n",
       "      <td>30.4</td>\n",
       "      <td>0.315</td>\n",
       "      <td>23</td>\n",
       "      <td>0</td>\n",
       "    </tr>\n",
       "  </tbody>\n",
       "</table>\n",
       "</div>"
      ],
      "text/plain": [
       "     Pregnancies  Glucose  BloodPressure  SkinThickness  Insulin   BMI  \\\n",
       "758            1      106             76              0        0  37.5   \n",
       "759            6      190             92              0        0  35.5   \n",
       "760            2       88             58             26       16  28.4   \n",
       "761            9      170             74             31        0  44.0   \n",
       "762            9       89             62              0        0  22.5   \n",
       "763           10      101             76             48      180  32.9   \n",
       "764            2      122             70             27        0  36.8   \n",
       "765            5      121             72             23      112  26.2   \n",
       "766            1      126             60              0        0  30.1   \n",
       "767            1       93             70             31        0  30.4   \n",
       "\n",
       "     DiabetesPedigreeFunction  Age  Outcome  \n",
       "758                     0.197   26        0  \n",
       "759                     0.278   66        1  \n",
       "760                     0.766   22        0  \n",
       "761                     0.403   43        1  \n",
       "762                     0.142   33        0  \n",
       "763                     0.171   63        0  \n",
       "764                     0.340   27        0  \n",
       "765                     0.245   30        0  \n",
       "766                     0.349   47        1  \n",
       "767                     0.315   23        0  "
      ]
     },
     "execution_count": 31,
     "metadata": {},
     "output_type": "execute_result"
    }
   ],
   "source": [
    "#Display the last 10 rows\n",
    "Diabetes.tail(10)"
   ]
  },
  {
   "cell_type": "code",
   "execution_count": 52,
   "id": "28a6b8e7",
   "metadata": {},
   "outputs": [
    {
     "data": {
      "text/html": [
       "<div>\n",
       "<style scoped>\n",
       "    .dataframe tbody tr th:only-of-type {\n",
       "        vertical-align: middle;\n",
       "    }\n",
       "\n",
       "    .dataframe tbody tr th {\n",
       "        vertical-align: top;\n",
       "    }\n",
       "\n",
       "    .dataframe thead th {\n",
       "        text-align: right;\n",
       "    }\n",
       "</style>\n",
       "<table border=\"1\" class=\"dataframe\">\n",
       "  <thead>\n",
       "    <tr style=\"text-align: right;\">\n",
       "      <th></th>\n",
       "      <th>Name</th>\n",
       "      <th>Age</th>\n",
       "      <th>Salary</th>\n",
       "    </tr>\n",
       "  </thead>\n",
       "  <tbody>\n",
       "    <tr>\n",
       "      <th>0</th>\n",
       "      <td>Alice</td>\n",
       "      <td>25.0</td>\n",
       "      <td>50000.0</td>\n",
       "    </tr>\n",
       "    <tr>\n",
       "      <th>3</th>\n",
       "      <td>Dave</td>\n",
       "      <td>35.0</td>\n",
       "      <td>80000.0</td>\n",
       "    </tr>\n",
       "    <tr>\n",
       "      <th>4</th>\n",
       "      <td>Eve</td>\n",
       "      <td>40.0</td>\n",
       "      <td>90000.0</td>\n",
       "    </tr>\n",
       "  </tbody>\n",
       "</table>\n",
       "</div>"
      ],
      "text/plain": [
       "    Name   Age   Salary\n",
       "0  Alice  25.0  50000.0\n",
       "3   Dave  35.0  80000.0\n",
       "4    Eve  40.0  90000.0"
      ]
     },
     "execution_count": 52,
     "metadata": {},
     "output_type": "execute_result"
    }
   ],
   "source": [
    "#Create a Pandas DataFrame object containing the following data: \n",
    "#{'Name': ['Alice', 'Bob', 'Charlie', 'Dave', 'Eve'], 'Age': [25, 30, None, 35, 40], 'Salary': [50000, None, 70000, 80000, 90000]}.\n",
    "#Remove all rows with missing values\n",
    "d = {'Name':['Alice','Bob','Charlie','Dave','Eve'], 'Age': [25,30,None,35,40], 'Salary': [50000,None,70000,80000,90000]}\n",
    "df2 = p.DataFrame(d)\n",
    "df2\n",
    "df2.dropna()\n",
    "#df2.dropna(subset=['Age'])\n",
    "#df2['Salary'] = df2['Salary'].replace(50000,20000)\n",
    "#df2\n",
    "#df2.fillna(3000000)"
   ]
  },
  {
   "cell_type": "code",
   "execution_count": 62,
   "id": "fdab853c",
   "metadata": {},
   "outputs": [
    {
     "data": {
      "text/html": [
       "<div>\n",
       "<style scoped>\n",
       "    .dataframe tbody tr th:only-of-type {\n",
       "        vertical-align: middle;\n",
       "    }\n",
       "\n",
       "    .dataframe tbody tr th {\n",
       "        vertical-align: top;\n",
       "    }\n",
       "\n",
       "    .dataframe thead th {\n",
       "        text-align: right;\n",
       "    }\n",
       "</style>\n",
       "<table border=\"1\" class=\"dataframe\">\n",
       "  <thead>\n",
       "    <tr style=\"text-align: right;\">\n",
       "      <th></th>\n",
       "      <th>Name</th>\n",
       "      <th>Age</th>\n",
       "      <th>Salary</th>\n",
       "    </tr>\n",
       "  </thead>\n",
       "  <tbody>\n",
       "    <tr>\n",
       "      <th>0</th>\n",
       "      <td>Alice</td>\n",
       "      <td>25.0</td>\n",
       "      <td>50000.0</td>\n",
       "    </tr>\n",
       "    <tr>\n",
       "      <th>1</th>\n",
       "      <td>Bob</td>\n",
       "      <td>30.0</td>\n",
       "      <td>75000.0</td>\n",
       "    </tr>\n",
       "    <tr>\n",
       "      <th>2</th>\n",
       "      <td>Charlie</td>\n",
       "      <td>75000.0</td>\n",
       "      <td>70000.0</td>\n",
       "    </tr>\n",
       "    <tr>\n",
       "      <th>3</th>\n",
       "      <td>Dave</td>\n",
       "      <td>35.0</td>\n",
       "      <td>80000.0</td>\n",
       "    </tr>\n",
       "    <tr>\n",
       "      <th>4</th>\n",
       "      <td>Eve</td>\n",
       "      <td>40.0</td>\n",
       "      <td>90000.0</td>\n",
       "    </tr>\n",
       "  </tbody>\n",
       "</table>\n",
       "</div>"
      ],
      "text/plain": [
       "      Name      Age   Salary\n",
       "0    Alice     25.0  50000.0\n",
       "1      Bob     30.0  75000.0\n",
       "2  Charlie  75000.0  70000.0\n",
       "3     Dave     35.0  80000.0\n",
       "4      Eve     40.0  90000.0"
      ]
     },
     "execution_count": 62,
     "metadata": {},
     "output_type": "execute_result"
    }
   ],
   "source": [
    "#Create a Pandas DataFrame object containing the following data: {'Name': ['Alice', 'Bob', 'Charlie', 'Dave', 'Eve'], 'Age': [25, 30, None, 35, 40], 'Salary': [50000, None, 70000, 80000, 90000]}.\n",
    "#Fill all missing values with the average Age and the median Salary.\n",
    "b = {'Name':['Alice','Bob','Charlie','Dave','Eve'], 'Age': [25,30,None,35,40], 'Salary': [50000,None,70000,80000,90000]}\n",
    "df = p.DataFrame(b)\n",
    "mean_age = df['Age'].mean()\n",
    "mean_age\n",
    "median_salary = df['Salary'].median()\n",
    "median_salary\n",
    "df.fillna(mean_age)\n",
    "df.fillna(median_salary)\n"
   ]
  },
  {
   "cell_type": "code",
   "execution_count": 64,
   "id": "8c0c4b2d",
   "metadata": {},
   "outputs": [
    {
     "data": {
      "text/html": [
       "<div>\n",
       "<style scoped>\n",
       "    .dataframe tbody tr th:only-of-type {\n",
       "        vertical-align: middle;\n",
       "    }\n",
       "\n",
       "    .dataframe tbody tr th {\n",
       "        vertical-align: top;\n",
       "    }\n",
       "\n",
       "    .dataframe thead th {\n",
       "        text-align: right;\n",
       "    }\n",
       "</style>\n",
       "<table border=\"1\" class=\"dataframe\">\n",
       "  <thead>\n",
       "    <tr style=\"text-align: right;\">\n",
       "      <th>Quarter</th>\n",
       "      <th>Q1</th>\n",
       "      <th>Q2</th>\n",
       "    </tr>\n",
       "    <tr>\n",
       "      <th>Year</th>\n",
       "      <th></th>\n",
       "      <th></th>\n",
       "    </tr>\n",
       "  </thead>\n",
       "  <tbody>\n",
       "    <tr>\n",
       "      <th>2019</th>\n",
       "      <td>100</td>\n",
       "      <td>200</td>\n",
       "    </tr>\n",
       "    <tr>\n",
       "      <th>2020</th>\n",
       "      <td>300</td>\n",
       "      <td>400</td>\n",
       "    </tr>\n",
       "  </tbody>\n",
       "</table>\n",
       "</div>"
      ],
      "text/plain": [
       "Quarter   Q1   Q2\n",
       "Year             \n",
       "2019     100  200\n",
       "2020     300  400"
      ]
     },
     "execution_count": 64,
     "metadata": {},
     "output_type": "execute_result"
    }
   ],
   "source": [
    "#Create a Pandas DataFrame object containing the following data: {'Year': [2019, 2019, 2020, 2020], 'Quarter': ['Q1', 'Q2', 'Q1', 'Q2'], 'Sales': [100, 200, 300, 400]}.\n",
    "#Pivot the DataFrame so that the rows are indexed by Year, the columns are indexed by Quarter, and the values are the Sales.\n",
    "x = {'Year': [2019, 2019, 2020, 2020], 'Quarter': ['Q1', 'Q2', 'Q1', 'Q2'], 'Sales': [100, 200, 300, 400]}\n",
    "y = p.DataFrame(x)\n",
    "y\n",
    "y_new = y.pivot(index='Year', columns='Quarter', values='Sales')\n",
    "y_new\n"
   ]
  },
  {
   "cell_type": "code",
   "execution_count": 11,
   "id": "2c0b4b4d",
   "metadata": {},
   "outputs": [
    {
     "data": {
      "text/plain": [
       "50000"
      ]
     },
     "execution_count": 11,
     "metadata": {},
     "output_type": "execute_result"
    }
   ],
   "source": [
    "#Create a Pandas DataFrame object containing the following data: {'Name': ['Alice', 'Bob', 'Charlie'], 'Age': [25, 30, 35], 'Salary': [50000, 60000, 70000]}.\n",
    "#What is the maximum Age and minimum Salary in the DataFrame?\n",
    "\n",
    "z = {'Name': ['Alice', 'Bob', 'Charlie'], 'Age': [25, 30, 35], 'Salary': [50000, 60000, 70000]}\n",
    "df = p.DataFrame(z)\n",
    "df\n",
    "df['Age'].max()\n",
    "df['Salary'].min()"
   ]
  },
  {
   "cell_type": "code",
   "execution_count": 14,
   "id": "d1469e37",
   "metadata": {},
   "outputs": [
    {
     "name": "stdout",
     "output_type": "stream",
     "text": [
      "The correlation coeffiecient between Age and Salary is : 1\n"
     ]
    }
   ],
   "source": [
    "## Grouping and Aggregating Data\n",
    "#Create a Pandas DataFrame object containing the following data: {'Name': ['Alice', 'Bob', 'Charlie'], 'Age': [25, 30, 35], 'Salary': [50000, 60000, 70000]}.\n",
    "#Calculate the correlation coefficient between Age and Salary.\n",
    "x = {'Name': ['Alice', 'Bob', 'Charlie'], 'Age': [25, 30, 35], 'Salary': [50000, 60000, 70000]}\n",
    "dfx = p.DataFrame(x)\n",
    "dfx\n",
    "corr_c = dfx['Age'].corr(df['Salary'])\n",
    "print(\"The correlation coeffiecient between Age and Salary is :%2.f\" % corr_c)\n",
    "\n"
   ]
  },
  {
   "cell_type": "code",
   "execution_count": 16,
   "id": "224f8baa",
   "metadata": {},
   "outputs": [
    {
     "data": {
      "text/plain": [
       "Age\n",
       "25    65000.0\n",
       "30    75000.0\n",
       "35    70000.0\n",
       "Name: Salary, dtype: float64"
      ]
     },
     "execution_count": 16,
     "metadata": {},
     "output_type": "execute_result"
    }
   ],
   "source": [
    "#Create a Pandas DataFrame object containing the following data: {'Name': ['Alice', 'Bob', 'Charlie', 'Dave', 'Eve'], 'Age': [25, 30, 35, 25, 30], 'Salary': [50000, 60000, 70000, 80000, 90000]}. \n",
    "#Group the DataFrame by Age and calculate the mean Salary for each group.\n",
    "\n",
    "my_data = {'Name': ['Alice', 'Bob', 'Charlie', 'Dave', 'Eve'], 'Age': [25, 30, 35, 25, 30], 'Salary': [50000, 60000, 70000, 80000, 90000]} \n",
    "dfy = p.DataFrame(my_data)\n",
    "dfy\n",
    "grouped_dfy = dfy.groupby('Age')['Salary'].mean()\n",
    "grouped_dfy\n"
   ]
  },
  {
   "cell_type": "code",
   "execution_count": 24,
   "id": "8af417c8",
   "metadata": {},
   "outputs": [
    {
     "data": {
      "text/plain": [
       "<bound method DataFrame.pivot of    Year Quarter  Sales\n",
       "0  2019      Q1    100\n",
       "1  2019      Q2    200\n",
       "2  2020      Q1    300\n",
       "3  2020      Q2    400>"
      ]
     },
     "execution_count": 24,
     "metadata": {},
     "output_type": "execute_result"
    }
   ],
   "source": [
    "#Create a Pandas DataFrame object containing the following data: {'Year': [2019, 2019, 2020, 2020], 'Quarter': ['Q1', 'Q2', 'Q1', 'Q2'], 'Sales': [100, 200, 300, 400]}.\n",
    "#Pivot the DataFrame so that the rows are indexed by Year, the columns are indexed by Quarter, and the values are the Sales.\n",
    "m =  {'Year': [2019, 2019, 2020, 2020], 'Quarter': ['Q1', 'Q2', 'Q1', 'Q2'], 'Sales': [100, 200, 300, 400]}\n",
    "dfm = p.DataFrame(m)\n",
    "dfm\n",
    "dfm.pivot(index='Year', columns='Quarter', values='Sales')\n",
    "dfm.pivot"
   ]
  },
  {
   "cell_type": "code",
   "execution_count": 31,
   "id": "a7fefd62",
   "metadata": {},
   "outputs": [
    {
     "name": "stdout",
     "output_type": "stream",
     "text": [
      "      Name Gender         Year  Salary\n",
      "0    Alice      F  Salary 2019   50000\n",
      "1      Bob      M  Salary 2019   60000\n",
      "2  Charlie      M  Salary 2019   70000\n",
      "3    Alice      F  Salary 2020   55000\n",
      "4      Bob      M  Salary 2020   65000\n",
      "5  Charlie      M  Salary 2020   75000\n"
     ]
    }
   ],
   "source": [
    "#Create a Pandas DataFrame object containing the following data: {'Name': ['Alice', 'Bob', 'Charlie'], 'Gender': ['F', 'M', 'M'], 'Salary 2019': [50000, 60000, 70000], 'Salary 2020': [55000, 65000, 75000]}. \n",
    "#Melt the DataFrame so that the variable column contains the years and the value column contains the salaries\n",
    "data = {'Name': ['Alice', 'Bob', 'Charlie'], \n",
    "        'Gender': ['F', 'M', 'M'], \n",
    "        'Salary 2019': [50000, 60000, 70000], \n",
    "        'Salary 2020': [55000, 65000, 75000]}\n",
    "df = p.DataFrame(data)\n",
    "df\n",
    "\n",
    "melted_df = p.melt(df, id_vars=['Name', 'Gender'], var_name='Year', value_name='Salary')\n",
    "print(melted_df)\n"
   ]
  },
  {
   "cell_type": "code",
   "execution_count": 32,
   "id": "d9b99c4c",
   "metadata": {},
   "outputs": [
    {
     "name": "stdout",
     "output_type": "stream",
     "text": [
      "  key  value_x  value_y\n",
      "0   B        2        5\n",
      "1   D        4        6\n"
     ]
    }
   ],
   "source": [
    "#Create two Pandas DataFrame objects, df1 and df2, containing the following data: df1 = {'key': ['A', 'B', 'C', 'D'], 'value': [1, 2, 3, 4]} and df2 = {'key': ['B', 'D', 'E', 'F'], 'value': [5, 6, 7, 8]}.\n",
    "#Merge the two DataFrames using an inner join on the 'key' column.\n",
    "\n",
    "df1 = p.DataFrame({'key': ['A', 'B', 'C', 'D'], 'value': [1, 2, 3, 4]})\n",
    "df2 = p.DataFrame({'key': ['B', 'D', 'E', 'F'], 'value': [5, 6, 7, 8]})\n",
    "\n",
    "merged_df = p.merge(df1, df2, on='key', how='inner')\n",
    "print(merged_df)\n"
   ]
  },
  {
   "cell_type": "code",
   "execution_count": 33,
   "id": "fa4fc651",
   "metadata": {},
   "outputs": [
    {
     "name": "stdout",
     "output_type": "stream",
     "text": [
      "  key  value1  value2\n",
      "0   A       1     NaN\n",
      "1   B       2     5.0\n",
      "2   C       3     NaN\n",
      "3   D       4     6.0\n"
     ]
    }
   ],
   "source": [
    "#Create two Pandas DataFrame objects, df1 and df2, containing the following data: df1 = {'key': ['A', 'B', 'C', 'D'], 'value1': [1, 2, 3, 4]} and df2 = {'key': ['B', 'D', 'E', 'F'], 'value2': [5, 6, 7, 8]}. \n",
    "#Perform a left join on df1 and df2 using the 'key' column as the join key.\n",
    "\n",
    "df1 = p.DataFrame({'key': ['A', 'B', 'C', 'D'], 'value1': [1, 2, 3, 4]})\n",
    "df2 = p.DataFrame({'key': ['B', 'D', 'E', 'F'], 'value2': [5, 6, 7, 8]})\n",
    "\n",
    "merged_df = p.merge(df1, df2, on='key', how='left')\n",
    "\n",
    "print(merged_df)\n"
   ]
  },
  {
   "cell_type": "code",
   "execution_count": null,
   "id": "923ddfce",
   "metadata": {},
   "outputs": [],
   "source": [
    "## Mini Pandas Project\n",
    "\n",
    "- Load the CSV file into a Pandas DataFrame object.\n",
    "- Clean the data by removing any rows with missing values and any duplicate rows.\n",
    "- Use NumPy to calculate the mean and standard deviation of the \"births\" column.\n",
    "- Use Pandas to group the data by year and month, and calculate the mean number of births for each group.\n",
    "- Use Matplotlib to create a line plot of the mean number of births per month over time.\n",
    "- Use Pandas to group the data by day of the week, and calculate the mean number of births for each day.\n",
    "- Use Matplotlib to create a bar chart of the mean number of births per day of the week.\n",
    "- Use Pandas to group the data by year, and calculate the total number of births for each year.\n",
    "- Use Matplotlib to create a bar chart of the total number of births per year.\n",
    "\n",
    ">> NOTE: Below is boiler code for you to get started with.Please fill in the missing codes."
   ]
  },
  {
   "cell_type": "code",
   "execution_count": 12,
   "id": "78593b98",
   "metadata": {},
   "outputs": [
    {
     "name": "stdout",
     "output_type": "stream",
     "text": [
      "Mean:  4678.631512577155\n",
      "Standard deviation:  1003.0714179988784\n"
     ]
    },
    {
     "data": {
      "image/png": "[encoded data removed]",
      "text/plain": [
       "<Figure size 640x480 with 1 Axes>"
      ]
     },
     "metadata": {},
     "output_type": "display_data"
    },
    {
     "data": {
      "image/png": "[encoded data removed]",
      "text/plain": [
       "<Figure size 640x480 with 1 Axes>"
      ]
     },
     "metadata": {},
     "output_type": "display_data"
    },
    {
     "data": {
      "image/png": "[encoded data removed]",
      "text/plain": [
       "<Figure size 640x480 with 1 Axes>"
      ]
     },
     "metadata": {},
     "output_type": "display_data"
    }
   ],
   "source": [
    "import pandas as pd\n",
    "import numpy as np\n",
    "import matplotlib.pyplot as plt\n",
    "# Load the CSV file into a Pandas DataFrame object\n",
    "df = pd.read_csv(\"https://raw.githubusercontent.com/jakevdp/data-CDCbirths/master/births.csv\")\n",
    "\n",
    "# Clean the data by removing any rows with missing values and any duplicate rows\n",
    "df = df.dropna().drop_duplicates()\n",
    "df\n",
    "\n",
    "# Use NumPy to calculate the mean and standard deviation of the \"births\" column\n",
    "births = df['births'].to_numpy()\n",
    "mean = np.mean(births)\n",
    "std_dev = np.std(births)\n",
    "print(\"Mean: \", mean)\n",
    "print(\"Standard deviation: \", std_dev)\n",
    "\n",
    "# Use Pandas to group the data by year and month, and calculate the mean number of births for each group\n",
    "df['date'] = pd.to_datetime(df['year']*10000 + df['month']*100 + 1, format='%Y%m%d',errors='coerce')\n",
    "df['year'] = df['date'].dt.year\n",
    "df['month'] = df['date'].dt.month\n",
    "mean_births = df.groupby(['month'])['births'].mean()\n",
    "mean_births\n",
    "\n",
    "# Use Matplotlib to create a line plot of the mean number of births per month over time\n",
    "grouped_by_month = df.groupby([df['date'].dt.year, df['date'].dt.month])['births'].mean()\n",
    "grouped_by_month\n",
    "grouped_by_month.plot()\n",
    "plt.xlabel('Year-Month')\n",
    "plt.ylabel('Mean Number of Births')\n",
    "plt.title('Mean Number of Births per Month')\n",
    "plt.show()\n",
    "\n",
    "# Use Pandas to group the data by day of the week, and calculate the mean number of births for each day\n",
    "df['day_of_week'] = df['date'].dt.day_name()\n",
    "grouped_by_day_of_week = df.groupby(df['date'].dt.day_name())['births'].mean()\n",
    "grouped_by_day_of_week\n",
    "\n",
    " # Use Matplotlib to create a bar chart of the mean number of births per day of the week\n",
    "plt.bar(grouped_by_day_of_week.index, grouped_by_day_of_week.values)\n",
    "plt.xlabel('Day of the Week')\n",
    "plt.ylabel('Mean Number of Births')\n",
    "plt.title('Mean Number of Births per Day of the Week')\n",
    "plt.show()\n",
    "\n",
    "# Use Pandas to group the data by year, and calculate the total number of births for each year\n",
    "grouped_by_year = df.groupby('year')['births'].sum()\n",
    "\n",
    "# Use Matplotlib to create a bar chart of the total number of births per year\n",
    "plt.bar(grouped_by_year.index, grouped_by_year.values)\n",
    "plt.xlabel('Year')\n",
    "plt.ylabel('Total Number of Births')\n",
    "plt.title('Total Number of Births per Year')\n",
    "plt.show()\n",
    "\n"
   ]
  },
  {
   "cell_type": "code",
   "execution_count": null,
   "id": "0307b1ca",
   "metadata": {},
   "outputs": [],
   "source": []
  },
  {
   "cell_type": "code",
   "execution_count": null,
   "id": "fae38a11",
   "metadata": {},
   "outputs": [],
   "source": [
    "   "
   ]
  }
 ],
 "metadata": {
  "kernelspec": {
   "display_name": "Python 3 (ipykernel)",
   "language": "python",
   "name": "python3"
  },
  "language_info": {
   "codemirror_mode": {
    "name": "ipython",
    "version": 3
   },
   "file_extension": ".py",
   "mimetype": "text/x-python",
   "name": "python",
   "nbconvert_exporter": "python",
   "pygments_lexer": "ipython3",
   "version": "3.9.13"
  }
 },
 "nbformat": 4,
 "nbformat_minor": 5
}
