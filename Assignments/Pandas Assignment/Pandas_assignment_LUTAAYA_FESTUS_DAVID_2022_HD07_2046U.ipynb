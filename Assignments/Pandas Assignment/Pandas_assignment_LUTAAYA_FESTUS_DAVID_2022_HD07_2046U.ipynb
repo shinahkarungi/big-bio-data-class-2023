{
 "cells": [
  {
   "cell_type": "markdown",
   "metadata": {
    "id": "QjhxZHa4XZrg"
   },
   "source": [
    "Pandas Assignment\n",
    "Student Name: LUTAAYA FESTUS DAVID\n",
    "\n",
    "Reg No: 2022/HD07/2046U\n",
    "\n",
    "Instructions:\n",
    "Please complete the questions below.\n",
    "Please comment your code indicating how you approached the problem"
   ]
  },
  {
   "cell_type": "markdown",
   "metadata": {
    "id": "dzFp6JEGY-U2"
   },
   "source": [
    "## Introduction to Pandas"
   ]
  },
  {
   "cell_type": "code",
   "execution_count": 2,
   "metadata": {
    "id": "BTAGt12UXCSg"
   },
   "outputs": [
    {
     "name": "stdout",
     "output_type": "stream",
     "text": [
      "15.0\n"
     ]
    }
   ],
   "source": [
    "#Create a Pandas Series object containing the following data: 5, 10, 15, 20, 25. What is the average of the values in the Series\n",
    "\n",
    "#panda is imported as pandas\n",
    "import pandas as pd \n",
    "\n",
    "\n",
    "# A Pandas Series object is created and assigned to variable called multiples_of_five \n",
    "multiples_of_five = pd.Series([5, 10, 15, 20, 25])\n",
    "\n",
    "# Mean is calculated using the mean() method\n",
    "average = multiples_of_five.mean()\n",
    "\n",
    "print(average)"
   ]
  },
  {
   "cell_type": "code",
   "execution_count": 4,
   "metadata": {
    "id": "r_2GlShpZCY0"
   },
   "outputs": [
    {
     "name": "stdout",
     "output_type": "stream",
     "text": [
      "180000\n"
     ]
    }
   ],
   "source": [
    "#Create a Pandas DataFrame object containing the following data: {'Name': ['Alice', 'Bob', 'Charlie'], 'Age': [25, 30, 35], 'Salary': [50000, 60000, 70000]}. What is the total salary of all employees?\n",
    "\n",
    "#A dictionary called employees is created \n",
    "\n",
    "employees = {'Name': ['Alice', 'Bob', 'Charlie'], \n",
    "        'Age': [25, 30, 35], \n",
    "        'Salary': [50000, 60000, 70000]}\n",
    "\n",
    "# A dataframe called df1 is created from the dictionary\n",
    "df1 = pd.DataFrame(employees)\n",
    "\n",
    "# The total salary is calculated from the Salary column of the dataframe using the sum() method\n",
    "total_salary = df1['Salary'].sum()\n",
    "\n",
    "# print the total salary\n",
    "print(total_salary)"
   ]
  },
  {
   "cell_type": "markdown",
   "metadata": {
    "id": "yhIUNmfGZG9l"
   },
   "source": [
    "## DataFrames and Series"
   ]
  },
  {
   "cell_type": "code",
   "execution_count": 5,
   "metadata": {
    "id": "h9-hguvpZKVF"
   },
   "outputs": [
    {
     "name": "stdout",
     "output_type": "stream",
     "text": [
      "0    11\n",
      "1    12\n",
      "2    13\n",
      "3    14\n",
      "4    15\n",
      "dtype: int64\n"
     ]
    }
   ],
   "source": [
    "#Create a Pandas Series object containing the following data: [1, 2, 3, 4, 5]. Add 10 to each value in the Series.\n",
    "\n",
    "\n",
    "# A Pandas Series object is created and assigned to variable called five_numbers\n",
    "five_numbers = pd.Series([1, 2, 3, 4, 5])\n",
    "\n",
    "# The apply() method is used with a lambda function to apply the addition operation to each element in the five_numbers series. \n",
    "# The output is assigned back to the same variable five_numbers\n",
    "five_numbers = five_numbers.apply(lambda x: x + 10)\n",
    "\n",
    "print(five_numbers)\n",
    "\n"
   ]
  },
  {
   "cell_type": "code",
   "execution_count": 7,
   "metadata": {
    "id": "fwEQ6vAJZPwt"
   },
   "outputs": [
    {
     "name": "stdout",
     "output_type": "stream",
     "text": [
      "      Name  Age  Salary\n",
      "2  Charlie   35   70000\n"
     ]
    }
   ],
   "source": [
    "#Create a Pandas DataFrame object containing the following data: {'Name': ['Alice', 'Bob', 'Charlie'], 'Age': [25, 30, 35], 'Salary': [50000, 60000, 70000]}. Select only the rows where the Age is greater than 30.\n",
    "\n",
    "# A dictionary is created and assigned to employees_1\n",
    "employees_1 = {'Name': ['Alice', 'Bob', 'Charlie'], \n",
    "        'Age': [25, 30, 35], \n",
    "        'Salary': [50000, 60000, 70000]}\n",
    "\n",
    "# A dataframe is created from the dictionary\n",
    "df2 = pd.DataFrame(employees_1)\n",
    "\n",
    "# The rows were Age is greater than 30 are selected \n",
    "greater_age = df2[df2['Age'] > 30]\n",
    "\n",
    "print(greater_age)"
   ]
  },
  {
   "cell_type": "markdown",
   "metadata": {
    "id": "nDrPzc3tZVCc"
   },
   "source": [
    "## Loading Data into Pandas"
   ]
  },
  {
   "cell_type": "code",
   "execution_count": 9,
   "metadata": {
    "id": "sdNPXVUWZZ_i"
   },
   "outputs": [
    {
     "name": "stdout",
     "output_type": "stream",
     "text": [
      "Index(['Pregnancies', 'Glucose', 'BloodPressure', 'SkinThickness', 'Insulin',\n",
      "       'BMI', 'DiabetesPedigreeFunction', 'Age', 'Outcome'],\n",
      "      dtype='object')\n"
     ]
    }
   ],
   "source": [
    "#Load a CSV file named 'diabetes.csv' into a Pandas DataFrame object. What are the names of the columns in the DataFrame?\n",
    "#Please check your data folder for this dataset\n",
    "\n",
    "#Loading the csv file into a dataframe an naming it dataset \n",
    "dataset = pd.read_csv(\"/home/lufeda/Desktop/NEW_big_data/big-bio-data-class-2023/Data/Diabetes/diabetes.csv\")\n",
    "\n",
    "# The column names of the dataframe dataset are printed\n",
    "print(dataset.columns)"
   ]
  },
  {
   "cell_type": "code",
   "execution_count": 10,
   "metadata": {
    "id": "Xc9EYfEqZiG_"
   },
   "outputs": [
    {
     "name": "stdout",
     "output_type": "stream",
     "text": [
      "(768, 9)\n"
     ]
    }
   ],
   "source": [
    "#Display the dimensions of the data\n",
    "\n",
    "#dataset.shape attribute returns a tuple with rows and columns from the dataset dataframe\n",
    "print(dataset.shape)"
   ]
  },
  {
   "cell_type": "code",
   "execution_count": 11,
   "metadata": {
    "id": "4a5FAPN_ZlRJ"
   },
   "outputs": [
    {
     "name": "stdout",
     "output_type": "stream",
     "text": [
      "   Pregnancies  Glucose  BloodPressure  SkinThickness  Insulin   BMI  \\\n",
      "0            6      148             72             35        0  33.6   \n",
      "1            1       85             66             29        0  26.6   \n",
      "2            8      183             64              0        0  23.3   \n",
      "3            1       89             66             23       94  28.1   \n",
      "4            0      137             40             35      168  43.1   \n",
      "5            5      116             74              0        0  25.6   \n",
      "6            3       78             50             32       88  31.0   \n",
      "7           10      115              0              0        0  35.3   \n",
      "8            2      197             70             45      543  30.5   \n",
      "9            8      125             96              0        0   0.0   \n",
      "\n",
      "   DiabetesPedigreeFunction  Age  Outcome  \n",
      "0                     0.627   50        1  \n",
      "1                     0.351   31        0  \n",
      "2                     0.672   32        1  \n",
      "3                     0.167   21        0  \n",
      "4                     2.288   33        1  \n",
      "5                     0.201   30        0  \n",
      "6                     0.248   26        1  \n",
      "7                     0.134   29        0  \n",
      "8                     0.158   53        1  \n",
      "9                     0.232   54        1  \n"
     ]
    }
   ],
   "source": [
    "#Display the top 10 rows\n",
    "\n",
    "#The head method returns the first ten rows of the dataframe. Print displays result\n",
    "print(dataset.head(10))"
   ]
  },
  {
   "cell_type": "code",
   "execution_count": 12,
   "metadata": {
    "id": "kXh8GQx6ZosC"
   },
   "outputs": [
    {
     "name": "stdout",
     "output_type": "stream",
     "text": [
      "     Pregnancies  Glucose  BloodPressure  SkinThickness  Insulin   BMI  \\\n",
      "758            1      106             76              0        0  37.5   \n",
      "759            6      190             92              0        0  35.5   \n",
      "760            2       88             58             26       16  28.4   \n",
      "761            9      170             74             31        0  44.0   \n",
      "762            9       89             62              0        0  22.5   \n",
      "763           10      101             76             48      180  32.9   \n",
      "764            2      122             70             27        0  36.8   \n",
      "765            5      121             72             23      112  26.2   \n",
      "766            1      126             60              0        0  30.1   \n",
      "767            1       93             70             31        0  30.4   \n",
      "\n",
      "     DiabetesPedigreeFunction  Age  Outcome  \n",
      "758                     0.197   26        0  \n",
      "759                     0.278   66        1  \n",
      "760                     0.766   22        0  \n",
      "761                     0.403   43        1  \n",
      "762                     0.142   33        0  \n",
      "763                     0.171   63        0  \n",
      "764                     0.340   27        0  \n",
      "765                     0.245   30        0  \n",
      "766                     0.349   47        1  \n",
      "767                     0.315   23        0  \n"
     ]
    }
   ],
   "source": [
    "#Display the last 10 rows\n",
    "\n",
    "#The tail method returns the last ten rows of the dataframe. print displays the output\n",
    "print(dataset.tail(10))"
   ]
  },
  {
   "cell_type": "markdown",
   "metadata": {
    "id": "CDKEEmvmZwiq"
   },
   "source": [
    "## Data Cleaning"
   ]
  },
  {
   "cell_type": "code",
   "execution_count": 14,
   "metadata": {
    "id": "PFzUFZrTZzxV"
   },
   "outputs": [
    {
     "name": "stdout",
     "output_type": "stream",
     "text": [
      "    Name   Age   Salary\n",
      "0  Alice  25.0  50000.0\n",
      "3   Dave  35.0  80000.0\n",
      "4    Eve  40.0  90000.0\n"
     ]
    }
   ],
   "source": [
    "#Create a Pandas DataFrame object containing the following data: {'Name': ['Alice', 'Bob', 'Charlie', 'Dave', 'Eve'], 'Age': [25, 30, None, 35, 40], 'Salary': [50000, None, 70000, 80000, 90000]}. Remove all rows with missing values\n",
    "\n",
    "\n",
    "\n",
    "# A datarrame called employees_2 is created\n",
    "employees_2 = pd.DataFrame({'Name': ['Alice', 'Bob', 'Charlie', 'Dave', 'Eve'],\n",
    "                   'Age': [25, 30, None, 35, 40],\n",
    "                   'Salary': [50000, None, 70000, 80000, 90000]})\n",
    "\n",
    "# The dropna() method is used to remove missing values.\n",
    "# The inplace=True modifies the original dataframe rather than returning a new dataframe\n",
    "\n",
    "employees_2.dropna(inplace=True)\n",
    "\n",
    "# The dataframe is printed\n",
    "print(employees_2) "
   ]
  },
  {
   "cell_type": "code",
   "execution_count": 15,
   "metadata": {
    "id": "PRof8tNzZ34b"
   },
   "outputs": [
    {
     "name": "stdout",
     "output_type": "stream",
     "text": [
      "      Name   Age   Salary\n",
      "0    Alice  25.0  50000.0\n",
      "1      Bob  30.0  75000.0\n",
      "2  Charlie  32.5  70000.0\n",
      "3     Dave  35.0  80000.0\n",
      "4      Eve  40.0  90000.0\n"
     ]
    }
   ],
   "source": [
    "#Create a Pandas DataFrame object containing the following data: {'Name': ['Alice', 'Bob', 'Charlie', 'Dave', 'Eve'], 'Age': [25, 30, None, 35, 40], 'Salary': [50000, None, 70000, 80000, 90000]}. Fill all missing values with the average Age and the median Salary.\n",
    "\n",
    "# A dictionary called employees_3 is created\n",
    "employees_3 = {'Name': ['Alice', 'Bob', 'Charlie', 'Dave', 'Eve'],\n",
    "        'Age': [25, 30, None, 35, 40],\n",
    "        'Salary': [50000, None, 70000, 80000, 90000]}\n",
    "\n",
    "# A dataframe df3 is created\n",
    "df3 = pd.DataFrame(employees_3)\n",
    "\n",
    "# fillna() method is used to fill in missing values with the average Age and median Salary.\n",
    "#mean() method returns mean of age anf median() method returns median of salary\n",
    "# The inplace=True modifies the original dataframe rather than returning a new dataframe\n",
    "df3['Age'].fillna(value=df3['Age'].mean(), inplace=True)\n",
    "df3['Salary'].fillna(value=df3['Salary'].median(), inplace=True)\n",
    "\n",
    "# The resultant dataframe is displayed by printing dataframe df3\n",
    "print(df3)"
   ]
  },
  {
   "cell_type": "markdown",
   "metadata": {
    "id": "Dm9ghsopZ8Fb"
   },
   "source": [
    "## Data Exploration"
   ]
  },
  {
   "cell_type": "code",
   "execution_count": 16,
   "metadata": {
    "id": "y3MDNAY6Z_xz"
   },
   "outputs": [
    {
     "name": "stdout",
     "output_type": "stream",
     "text": [
      "The maximum Age is: 35\n",
      "The minimum Salary is: 50000\n"
     ]
    }
   ],
   "source": [
    "#Create a Pandas DataFrame object containing the following data: {'Name': ['Alice', 'Bob', 'Charlie'], 'Age': [25, 30, 35], 'Salary': [50000, 60000, 70000]}. What is the maximum Age and minimum Salary in the DataFrame?\n",
    "\n",
    "# A dictionary called employees_4 is created\n",
    "employees_4 = {'Name': ['Alice', 'Bob', 'Charlie'],\n",
    "        'Age': [25, 30, 35],\n",
    "        'Salary': [50000, 60000, 70000]}\n",
    "\n",
    "# A dataframe df4 is created from dictionary employees_4\n",
    "df4 = pd.DataFrame(employees_4)\n",
    "\n",
    "# The maximum age is got using max() method and minimum age is got using min() method\n",
    "maximum_age = df4['Age'].max()\n",
    "minimum_salary = df4['Salary'].min()\n",
    "\n",
    "# Output is shown using print() function\n",
    "print(f\"The maximum Age is: {maximum_age}\")\n",
    "print(f\"The minimum Salary is: {minimum_salary}\")"
   ]
  },
  {
   "cell_type": "code",
   "execution_count": 19,
   "metadata": {
    "id": "vDlB5kgpaDwE"
   },
   "outputs": [
    {
     "name": "stdout",
     "output_type": "stream",
     "text": [
      "1.0\n"
     ]
    }
   ],
   "source": [
    "#Create a Pandas DataFrame object containing the following data: {'Name': ['Alice', 'Bob', 'Charlie'], 'Age': [25, 30, 35], 'Salary': [50000, 60000, 70000]}. Calculate the correlation coefficient between Age and Salary.\n",
    "\n",
    "# A dictionary called employees_5 is creted\n",
    "employees_5 = {'Name': ['Alice', 'Bob', 'Charlie'],\n",
    "        'Age': [25, 30, 35],\n",
    "        'Salary': [50000, 60000, 70000]}\n",
    "\n",
    "# A dataframe df5 is created\n",
    "df5 = pd.DataFrame(employees_5)\n",
    "\n",
    "# .corr() method is used to calculate the correlation coefficient\n",
    "corr_coeff = df5['Age'].corr(df5['Salary'])\n",
    "\n",
    "# The result is printed\n",
    "print(corr_coeff)"
   ]
  },
  {
   "cell_type": "markdown",
   "metadata": {
    "id": "l8bPg2etaGNU"
   },
   "source": [
    "## Grouping and Aggregating Data"
   ]
  },
  {
   "cell_type": "code",
   "execution_count": 20,
   "metadata": {
    "id": "njbAfs1xaJ4d"
   },
   "outputs": [
    {
     "name": "stdout",
     "output_type": "stream",
     "text": [
      "Age\n",
      "25    65000.0\n",
      "30    75000.0\n",
      "35    70000.0\n",
      "Name: Salary, dtype: float64\n"
     ]
    }
   ],
   "source": [
    "#Create a Pandas DataFrame object containing the following data: {'Name': ['Alice', 'Bob', 'Charlie', 'Dave', 'Eve'], 'Age': [25, 30, 35, 25, 30], 'Salary': [50000, 60000, 70000, 80000, 90000]}. Group the DataFrame by Age and calculate the mean Salary for each group.\n",
    "\n",
    "# A dictionary employees_6 is created\n",
    "employees_6 = {'Name': ['Alice', 'Bob', 'Charlie', 'Dave', 'Eve'],\n",
    "        'Age': [25, 30, 35, 25, 30],\n",
    "        'Salary': [50000, 60000, 70000, 80000, 90000]}\n",
    "\n",
    "# A dataframe df6 is created\n",
    "df6 = pd.DataFrame(employees_6)\n",
    "\n",
    "# The dataframe is grouped by Age using groupby() method and mean Salary is calculated using mean() method for each group\n",
    "grouped_df6 = df6.groupby(['Age'])['Salary'].mean()\n",
    "\n",
    "# The result is printed\n",
    "print(grouped_df6)"
   ]
  },
  {
   "cell_type": "code",
   "execution_count": null,
   "metadata": {
    "id": "3Ev8WrCQaN0t"
   },
   "outputs": [],
   "source": []
  },
  {
   "cell_type": "markdown",
   "metadata": {
    "id": "uqNLYJGBamsa"
   },
   "source": [
    "## Reshaping Data"
   ]
  },
  {
   "cell_type": "code",
   "execution_count": 23,
   "metadata": {
    "id": "nPyItbc6aoPA"
   },
   "outputs": [
    {
     "name": "stdout",
     "output_type": "stream",
     "text": [
      "Quarter   Q1   Q2\n",
      "Year             \n",
      "2019     100  200\n",
      "2020     300  400\n"
     ]
    }
   ],
   "source": [
    "#Create a Pandas DataFrame object containing the following data: {'Year': [2019, 2019, 2020, 2020], 'Quarter': ['Q1', 'Q2', 'Q1', 'Q2'], 'Sales': [100, 200, 300, 400]}. Pivot the DataFrame so that the rows are indexed by Year, the columns are indexed by Quarter, and the values are the Sales.\n",
    "\n",
    "# A dictionary called employees_7 is created\n",
    "employees_7 = {'Year': [2019, 2019, 2020, 2020],\n",
    "        'Quarter': ['Q1', 'Q2', 'Q1', 'Q2'],\n",
    "        'Sales': [100, 200, 300, 400]}\n",
    "\n",
    "# A dataframe df7 is created\n",
    "df7 = pd.DataFrame(employees_7)\n",
    "\n",
    "# The dataframe is pivoted and assigned to pivot_df7\n",
    "pivot_df7 = df7.pivot(index='Year', columns='Quarter', values='Sales')\n",
    "\n",
    "print(pivot_df7)"
   ]
  },
  {
   "cell_type": "code",
   "execution_count": 25,
   "metadata": {
    "id": "7UWE3_NaawLj"
   },
   "outputs": [
    {
     "name": "stdout",
     "output_type": "stream",
     "text": [
      "      Name Gender         Year  Salary\n",
      "0    Alice      F  Salary 2019   50000\n",
      "1      Bob      M  Salary 2019   60000\n",
      "2  Charlie      M  Salary 2019   70000\n",
      "3    Alice      F  Salary 2020   55000\n",
      "4      Bob      M  Salary 2020   65000\n",
      "5  Charlie      M  Salary 2020   75000\n"
     ]
    }
   ],
   "source": [
    "#Create a Pandas DataFrame object containing the following data: {'Name': ['Alice', 'Bob', 'Charlie'], 'Gender': ['F', 'M', 'M'], 'Salary 2019': [50000, 60000, 70000], 'Salary 2020': [55000, 65000, 75000]}. Melt the DataFrame so that the variable column contains the years and the value column contains the salaries.\n",
    "\n",
    "# A dictionary called employees_8 is created\n",
    "employees_8 = {'Name': ['Alice', 'Bob', 'Charlie'],\n",
    "        'Gender': ['F', 'M', 'M'],\n",
    "        'Salary 2019': [50000, 60000, 70000],\n",
    "        'Salary 2020': [55000, 65000, 75000]}\n",
    "\n",
    "# A datafrae df8 is created\n",
    "df8 = pd.DataFrame(employees_8)\n",
    "\n",
    "# Dataframe melted_df8 is created\n",
    "melted_df8 = pd.melt(df8, id_vars=['Name', 'Gender'], var_name='Year', value_name='Salary')\n",
    "\n",
    "print(melted_df8)"
   ]
  },
  {
   "cell_type": "markdown",
   "metadata": {
    "id": "Q7_gHKi5a0bN"
   },
   "source": [
    "## Merging and Joining Data"
   ]
  },
  {
   "cell_type": "code",
   "execution_count": 26,
   "metadata": {
    "id": "SPZOaqzIa7Js"
   },
   "outputs": [
    {
     "name": "stdout",
     "output_type": "stream",
     "text": [
      "  key  value_x  value_y\n",
      "0   B        2        5\n",
      "1   D        4        6\n"
     ]
    }
   ],
   "source": [
    "#Create two Pandas DataFrame objects, df1 and df2, containing the following data: df1 = {'key': ['A', 'B', 'C', 'D'], 'value': [1, 2, 3, 4]} and df2 = {'key': ['B', 'D', 'E', 'F'], 'value': [5, 6, 7, 8]}. Merge the two DataFrames using an inner join on the 'key' column.\n",
    "\n",
    "# A dataframe df1 is created\n",
    "df1 = pd.DataFrame({'key': ['A', 'B', 'C', 'D'], 'value': [1, 2, 3, 4]})\n",
    "\n",
    "# A dataframe df2 is created\n",
    "df2 = pd.DataFrame({'key': ['B', 'D', 'E', 'F'], 'value': [5, 6, 7, 8]})\n",
    "\n",
    "# The two dataframes were merged using an inner join on the 'key' column\n",
    "merged_df = pd.merge(df1, df2, on='key', how='inner')\n",
    "\n",
    "print(merged_df)"
   ]
  },
  {
   "cell_type": "code",
   "execution_count": 27,
   "metadata": {
    "id": "Wvey28Jsa_Ws"
   },
   "outputs": [
    {
     "name": "stdout",
     "output_type": "stream",
     "text": [
      "  key  value1  value2\n",
      "0   A       1     NaN\n",
      "1   B       2     5.0\n",
      "2   C       3     NaN\n",
      "3   D       4     6.0\n"
     ]
    }
   ],
   "source": [
    "#Create two Pandas DataFrame objects, df1 and df2, containing the following data: df1 = {'key': ['A', 'B', 'C', 'D'], 'value1': [1, 2, 3, 4]} and df2 = {'key': ['B', 'D', 'E', 'F'], 'value2': [5, 6, 7, 8]}. Perform a left join on df1 and df2 using the 'key' column as the join key.\n",
    "\n",
    "# A dataframe df1 is created\n",
    "df1 = pd.DataFrame({'key': ['A', 'B', 'C', 'D'], 'value1': [1, 2, 3, 4]})\n",
    "\n",
    "# A dataframe df2 is created\n",
    "df2 = pd.DataFrame({'key': ['B', 'D', 'E', 'F'], 'value2': [5, 6, 7, 8]})\n",
    "\n",
    "# A left join on df1 and df2 is created using the 'key' column as the join key\n",
    "merged_df = pd.merge(df1, df2, on='key', how='left')\n",
    "\n",
    "\n",
    "print(merged_df)"
   ]
  },
  {
   "cell_type": "markdown",
   "metadata": {
    "id": "pYg6Y5SRb1ML"
   },
   "source": [
    "## Mini Pandas Project\n",
    "\n",
    "- Load the CSV file into a Pandas DataFrame object.\n",
    "- Clean the data by removing any rows with missing values and any duplicate rows.\n",
    "- Use NumPy to calculate the mean and standard deviation of the \"births\" column.\n",
    "- Use Pandas to group the data by year and month, and calculate the mean number of births for each group.\n",
    "- Use Matplotlib to create a line plot of the mean number of births per month over time.\n",
    "- Use Pandas to group the data by day of the week, and calculate the mean number of births for each day.\n",
    "- Use Matplotlib to create a bar chart of the mean number of births per day of the week.\n",
    "- Use Pandas to group the data by year, and calculate the total number of births for each year.\n",
    "- Use Matplotlib to create a bar chart of the total number of births per year.\n",
    "\n",
    ">> NOTE: Below is boiler code for you to get started with.Please fill in the missing codes."
   ]
  },
  {
   "cell_type": "code",
   "execution_count": 56,
   "metadata": {},
   "outputs": [
    {
     "name": "stdout",
     "output_type": "stream",
     "text": [
      "The mean of births column is 4678.631512577155\n",
      "The mean of births column is 1003.0714179988807\n"
     ]
    },
    {
     "data": {
      "image/png": "[encoded data removed]",
      "text/plain": [
       "<Figure size 640x480 with 1 Axes>"
      ]
     },
     "metadata": {},
     "output_type": "display_data"
    },
    {
     "data": {
      "image/png": "[encoded data removed]",
      "text/plain": [
       "<Figure size 640x480 with 1 Axes>"
      ]
     },
     "metadata": {},
     "output_type": "display_data"
    },
    {
     "data": {
      "image/png": "[encoded data removed]",
      "text/plain": [
       "<Figure size 640x480 with 1 Axes>"
      ]
     },
     "metadata": {},
     "output_type": "display_data"
    }
   ],
   "source": [
    "import pandas as pd\n",
    "import numpy as np\n",
    "import matplotlib.pyplot as plt\n",
    "\n",
    "# Load the CSV file into a Pandas DataFrame object\n",
    "df = pd.read_csv(\"https://raw.githubusercontent.com/jakevdp/data-CDCbirths/master/births.csv\")\n",
    "# df = pd.read_csv(\"../../Data/births.csv\")\n",
    "\n",
    "# Clean the data by removing any rows with missing values and any duplicate rows\n",
    "df.dropna(inplace = True)\n",
    "df.drop_duplicates(inplace = True)\n",
    "\n",
    "# Use NumPy to calculate the mean and standard deviation of the \"births\" column\n",
    "mean = np.mean(df[\"births\"])\n",
    "print(f\"The mean of births column is {mean}\")\n",
    "\n",
    "std_dev = np.std(df[\"births\"])\n",
    "\n",
    "print(f\"The mean of births column is {std_dev}\")\n",
    "\n",
    "# Use Pandas to group the data by year and month, and calculate the mean number of births for each group\n",
    "df['date'] = pd.to_datetime(df['year']*10000 + df['month']*100 + df['day'], format='%Y%m%d', errors = 'coerce')\n",
    "means_births_group = df.groupby([df['date'].dt.year, df['date'].dt.month])['births'].mean()\n",
    "\n",
    "# Use Matplotlib to create a line plot of the mean number of births per month over time\n",
    "means_births_group.plot()\n",
    "plt.xlabel('Year-Month')\n",
    "plt.ylabel('Mean Number of Births')\n",
    "plt.title('Mean Number of Births per Month')\n",
    "plt.show()\n",
    "\n",
    "\n",
    "# Use Pandas to group the data by day of the week, and calculate the mean number of births for each day\n",
    "df['day_of_week'] = df['date'].dt.day_name()\n",
    "grouped_by_day_of_week = df.groupby(df['date'].dt.day_name())['births'].mean()\n",
    "\n",
    "# Use Matplotlib to create a bar chart of the mean number of births per day of the week\n",
    "plt.bar(grouped_by_day_of_week.index, grouped_by_day_of_week.values)\n",
    "plt.xlabel('Day of the Week')\n",
    "plt.ylabel('Mean Number of Births')\n",
    "plt.title('Mean Number of Births per Day of the Week')\n",
    "plt.show()\n",
    "\n",
    "# Use Pandas to group the data by year, and calculate the total number of births for each year\n",
    "grouped_by_year = df.groupby(df['date'].dt.year)['births'].sum()\n",
    "\n",
    "# Use Matplotlib to create a bar chart of the total number of births per year\n",
    "plt.bar(grouped_by_year.index, grouped_by_year.values)\n",
    "plt.xlabel('Year')\n",
    "plt.ylabel('Total Number of Births')\n",
    "plt.title('Total Number of Births per Year')\n",
    "plt.show()"
   ]
  }
 ],
 "metadata": {
  "colab": {
   "provenance": []
  },
  "kernelspec": {
   "display_name": "Python 3 (ipykernel)",
   "language": "python",
   "name": "python3"
  },
  "language_info": {
   "codemirror_mode": {
    "name": "ipython",
    "version": 3
   },
   "file_extension": ".py",
   "mimetype": "text/x-python",
   "name": "python",
   "nbconvert_exporter": "python",
   "pygments_lexer": "ipython3",
   "version": "3.9.13"
  }
 },
 "nbformat": 4,
 "nbformat_minor": 4
}
