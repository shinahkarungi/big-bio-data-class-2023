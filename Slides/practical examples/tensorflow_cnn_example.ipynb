{
 "cells": [
  {
   "cell_type": "markdown",
   "id": "68681f35",
   "metadata": {},
   "source": [
    "Source: https://github.com/veltridp/ace-intro-to-deep-learning\n",
    "\n",
    "Here we're going to use a convolutional neural network (CNN)- specifically an\n",
    "2D CNN to try and predict if images from the CIFAR10 dataset belong to one of\n",
    "ten classes/categories. For more details on Keras' CNN implementation see:\n",
    "https://keras.io/layers/convolutional/\n",
    "\n",
    "The problems we need to solve to use our CNN are:\n",
    "\n",
    "1) How do we 'massage' our image data and responses so that it fits into our network?\n",
    "\t- We'll have to do some reshaping first!\n",
    "\t\n",
    "2) Parameters - How good of performance can you get?\n",
    "\t- Try adjusting the number of epochs, filters and kernal sizes \n",
    "\t\n",
    "The CIFAR10 Data: Keras comes with a pre-processed training/testing data set (cifar10) that\n",
    "includes 50,000 32x32 color (RGB) images labeled as one of ten classes. Load the data as follow:\n",
    "\n",
    "(x_train, y_train), (x_test, y_test) = cifar10.load_data()\n",
    "\n",
    "x_train and x_test are arrays containing RGB images (num_samples, 3, 32, 32)\n",
    "y_train and y_test contain arrays of corresponding category numbers (0-9)\n",
    "\n",
    "More dataset details available in: https://keras.io/datasets/\n",
    "\n",
    "Challenge:  Can you add additional Conv and pooling layers to the model and improve the ACC?\n"
   ]
  },
  {
   "cell_type": "code",
   "execution_count": 2,
   "id": "8f3a316c",
   "metadata": {},
   "outputs": [
    {
     "name": "stderr",
     "output_type": "stream",
     "text": [
      "C:\\Users\\User\\Anaconda3\\lib\\site-packages\\numpy\\_distributor_init.py:32: UserWarning: loaded more than 1 DLL from .libs:\n",
      "C:\\Users\\User\\Anaconda3\\lib\\site-packages\\numpy\\.libs\\libopenblas.WCDJNK7YVMPZQ2ME2ZZHJJRJ3JIKNDB7.gfortran-win_amd64.dll\n",
      "C:\\Users\\User\\Anaconda3\\lib\\site-packages\\numpy\\.libs\\libopenblas.XWYDX2IKJW2NMTWSFYNGFUWKQU3LYTCZ.gfortran-win_amd64.dll\n",
      "  stacklevel=1)\n"
     ]
    }
   ],
   "source": [
    "from __future__ import print_function #python3 printing\n",
    "\n",
    "# These two lines likely only needed on Mac\n",
    "import os\n",
    "#os.environ['KMP_DUPLICATE_LIB_OK']='True'\n",
    "\n",
    "import numpy as np\n",
    "import matplotlib.pyplot as plt\n",
    "\n",
    "import tensorflow as tf # we can now access tf.keras as needed\n",
    "from tensorflow.keras import Sequential\n",
    "from tensorflow.keras.models import load_model # needed to load saved models\n",
    "from tensorflow.keras.layers import Dense, Flatten, Conv2D, MaxPooling2D\n",
    "from tensorflow.keras.utils import to_categorical\n",
    "from tensorflow.keras.datasets import cifar10"
   ]
  },
  {
   "cell_type": "code",
   "execution_count": 13,
   "id": "062b3315",
   "metadata": {},
   "outputs": [],
   "source": [
    "# User set model params\n",
    "num_filters = 32    # Number of filters to apply to image\n",
    "kern_shape = (5,5)  # kernel size of filters to slide over image\n",
    "stride_size = (1,1) # How for to move/slide kernel\n",
    "num_epochs = 15     # Rounds of training\n",
    "num_batches = 32    # No. of samples per patch to train at a time"
   ]
  },
  {
   "cell_type": "code",
   "execution_count": 17,
   "id": "afcc7a2b",
   "metadata": {},
   "outputs": [],
   "source": [
    "# Function to enable us to plot our training history\n",
    "def plot_model_history(model_history, save_plot=True, plot_filename='train_history_plot.png'):\n",
    "    '''\n",
    "    On entry: model_history is output of keras model.fit, save_plot is boolean, plot_filename is save location\n",
    "    On exit: If save_plot is True, figure saved to plot_filename path, else matplot figure is shown.    \n",
    "    '''\n",
    "    fig, axs = plt.subplots(1,2,figsize=(15,5))\n",
    "    \n",
    "    # summarize history for accuracy on left plot\n",
    "    axs[0].plot(range(1,len(model_history.history['accuracy'])+1),model_history.history['accuracy'])\n",
    "    axs[0].plot(range(1,len(model_history.history['val_accuracy'])+1),model_history.history['val_accuracy'])\n",
    "    axs[0].set_title('Model Accuracy')\n",
    "    axs[0].set_ylabel('Accuracy')\n",
    "    axs[0].set_xlabel('Epoch')\n",
    "    axs[0].set_xticks(np.arange(1,len(model_history.history['accuracy'])+1),len(model_history.history['accuracy'])/10)\n",
    "    axs[0].legend(['train', 'validation'], loc='best')\n",
    "    \n",
    "    # summarize history for loss on right plot\n",
    "    axs[1].plot(range(1,len(model_history.history['loss'])+1),model_history.history['loss'])\n",
    "    axs[1].plot(range(1,len(model_history.history['val_loss'])+1),model_history.history['val_loss'])\n",
    "    axs[1].set_title('Model Loss')\n",
    "    axs[1].set_ylabel('Loss')\n",
    "    axs[1].set_xlabel('Epoch')\n",
    "    axs[1].set_xticks(np.arange(1,len(model_history.history['loss'])+1),len(model_history.history['loss'])/10)\n",
    "    axs[1].legend(['train', 'test'], loc='best')\n",
    "    \n",
    "    if save_plot:\n",
    "        plt.savefig(plot_filename) #if you prefer to save a local copy\n",
    "        plt.close(fig)\n",
    "    else:\n",
    "        plt.show()\n",
    "    return"
   ]
  },
  {
   "cell_type": "code",
   "execution_count": 6,
   "id": "0b67d627",
   "metadata": {},
   "outputs": [
    {
     "name": "stdout",
     "output_type": "stream",
     "text": [
      "Loading in data.\n",
      "Downloading data from https://www.cs.toronto.edu/~kriz/cifar-10-python.tar.gz\n",
      "170500096/170498071 [==============================] - 34s 0us/step\n",
      "170508288/170498071 [==============================] - 34s 0us/step\n",
      "\n",
      "\n",
      "Loaded 50000 training examples with 50000 responses and 10000 testing examples with 10000 responses.\n"
     ]
    }
   ],
   "source": [
    "\n",
    "# Load in image data and responses\n",
    "print(\"Loading in data.\")\n",
    "(x_train, y_train), (x_test, y_test) = cifar10.load_data()\n",
    "print(\"\\n\\nLoaded {} training examples with {} responses and {} testing examples with {} responses.\".format(len(x_train),len(y_train),len(x_test),len(y_test)))\n"
   ]
  },
  {
   "cell_type": "code",
   "execution_count": 7,
   "id": "5b1fa9a3",
   "metadata": {},
   "outputs": [],
   "source": [
    "# Reshape and normalize the image data. Adjust the responses to be categorical\n",
    "x_train = x_train.reshape(x_train.shape[0],32,32,3).astype('float32')/255\n",
    "x_test = x_test.reshape(y_test.shape[0],32,32,3).astype('float32')/255\n",
    "y_train = to_categorical(y_train,10)\n",
    "y_test = to_categorical(y_test,10)\n",
    "\n",
    "# Let's just train on the first few thousand samples to speed things up!\n",
    "# Note we shouldn't expect good performance with a sample this small.\n",
    "x_train = x_train[0:2000,:]\n",
    "y_train = y_train[0:2000,:]"
   ]
  },
  {
   "cell_type": "code",
   "execution_count": 18,
   "id": "46836172",
   "metadata": {},
   "outputs": [
    {
     "name": "stdout",
     "output_type": "stream",
     "text": [
      "\n",
      "Building model...\n",
      "Model: \"sequential_1\"\n",
      "_________________________________________________________________\n",
      "Layer (type)                 Output Shape              Param #   \n",
      "=================================================================\n",
      "conv2d_1 (Conv2D)            (None, 32, 32, 32)        2432      \n",
      "_________________________________________________________________\n",
      "max_pooling2d_1 (MaxPooling2 (None, 16, 16, 32)        0         \n",
      "_________________________________________________________________\n",
      "flatten_1 (Flatten)          (None, 8192)              0         \n",
      "_________________________________________________________________\n",
      "dense_1 (Dense)              (None, 10)                81930     \n",
      "=================================================================\n",
      "Total params: 84,362\n",
      "Trainable params: 84,362\n",
      "Non-trainable params: 0\n",
      "_________________________________________________________________\n",
      "None\n"
     ]
    }
   ],
   "source": [
    "# Define our sequential model\n",
    "print(\"\\nBuilding model...\")\n",
    "model = Sequential()\n",
    "model.add(Conv2D(num_filters,\n",
    "                 kernel_size=kern_shape,\n",
    "                 strides=stride_size,\n",
    "                 padding='same',\n",
    "                 input_shape=(32,32,3))) #this needs to fit our image dimensions and no. of color chanels (RGB=3))\n",
    "model.add(MaxPooling2D(pool_size=(2, 2)))\n",
    "model.add(Flatten())\n",
    "model.add(Dense(10, activation='softmax')) #we need outputs in one of ten categories\n",
    "model.compile(loss='categorical_crossentropy', optimizer='adam', metrics=['accuracy'])\n",
    "\n",
    "print(model.summary())"
   ]
  },
  {
   "cell_type": "code",
   "execution_count": 19,
   "id": "301e8096",
   "metadata": {},
   "outputs": [
    {
     "name": "stdout",
     "output_type": "stream",
     "text": [
      "\n",
      "Training now...\n",
      "Epoch 1/15\n",
      "63/63 [==============================] - 5s 66ms/step - loss: 2.0789 - accuracy: 0.2445 - val_loss: 1.8998 - val_accuracy: 0.3491\n",
      "Epoch 2/15\n",
      "63/63 [==============================] - 4s 59ms/step - loss: 1.7231 - accuracy: 0.4035 - val_loss: 1.8034 - val_accuracy: 0.3608\n",
      "Epoch 3/15\n",
      "63/63 [==============================] - 4s 63ms/step - loss: 1.5808 - accuracy: 0.4530 - val_loss: 1.7488 - val_accuracy: 0.3829\n",
      "Epoch 4/15\n",
      "63/63 [==============================] - 4s 61ms/step - loss: 1.4653 - accuracy: 0.4885 - val_loss: 1.7578 - val_accuracy: 0.3893\n",
      "Epoch 5/15\n",
      "63/63 [==============================] - 3s 49ms/step - loss: 1.3694 - accuracy: 0.5390 - val_loss: 1.8004 - val_accuracy: 0.3759\n",
      "Epoch 6/15\n",
      "63/63 [==============================] - 4s 62ms/step - loss: 1.3143 - accuracy: 0.5540 - val_loss: 1.7782 - val_accuracy: 0.3843\n",
      "Epoch 7/15\n",
      "63/63 [==============================] - 4s 60ms/step - loss: 1.2315 - accuracy: 0.5745 - val_loss: 1.8010 - val_accuracy: 0.3875\n",
      "Epoch 8/15\n",
      "63/63 [==============================] - 4s 63ms/step - loss: 1.1446 - accuracy: 0.6150 - val_loss: 1.8312 - val_accuracy: 0.3939\n",
      "Epoch 9/15\n",
      "63/63 [==============================] - 3s 54ms/step - loss: 1.0657 - accuracy: 0.6425 - val_loss: 1.8657 - val_accuracy: 0.3765\n",
      "Epoch 10/15\n",
      "63/63 [==============================] - 4s 61ms/step - loss: 1.0040 - accuracy: 0.6705 - val_loss: 1.8465 - val_accuracy: 0.3921\n",
      "Epoch 11/15\n",
      "63/63 [==============================] - 4s 61ms/step - loss: 0.9511 - accuracy: 0.6870 - val_loss: 1.8622 - val_accuracy: 0.3947\n",
      "Epoch 12/15\n",
      "63/63 [==============================] - 4s 62ms/step - loss: 0.8631 - accuracy: 0.7225 - val_loss: 1.9112 - val_accuracy: 0.3939\n",
      "Epoch 13/15\n",
      "63/63 [==============================] - 3s 52ms/step - loss: 0.8268 - accuracy: 0.7425 - val_loss: 1.9404 - val_accuracy: 0.3905\n",
      "Epoch 14/15\n",
      "63/63 [==============================] - 4s 58ms/step - loss: 0.7829 - accuracy: 0.7510 - val_loss: 1.9796 - val_accuracy: 0.3932\n",
      "Epoch 15/15\n",
      "63/63 [==============================] - 4s 59ms/step - loss: 0.7373 - accuracy: 0.7650 - val_loss: 2.0328 - val_accuracy: 0.3966\n"
     ]
    },
    {
     "name": "stderr",
     "output_type": "stream",
     "text": [
      "C:\\Users\\User\\AppData\\Roaming\\Python\\Python37\\site-packages\\ipykernel_launcher.py:15: MatplotlibDeprecationWarning: Passing the minor parameter of set_ticks() positionally is deprecated since Matplotlib 3.2; the parameter will become keyword-only two minor releases later.\n",
      "  from ipykernel import kernelapp as app\n",
      "C:\\Users\\User\\AppData\\Roaming\\Python\\Python37\\site-packages\\ipykernel_launcher.py:24: MatplotlibDeprecationWarning: Passing the minor parameter of set_ticks() positionally is deprecated since Matplotlib 3.2; the parameter will become keyword-only two minor releases later.\n"
     ]
    },
    {
     "data": {
      "image/png": "[encoded data removed]",
      "text/plain": [
       "<Figure size 1080x360 with 2 Axes>"
      ]
     },
     "metadata": {
      "needs_background": "light"
     },
     "output_type": "display_data"
    }
   ],
   "source": [
    "\n",
    "print(\"\\nTraining now...\")\n",
    "model_info = model.fit(x_train, y_train, \n",
    "                       epochs=num_epochs,\n",
    "                       batch_size=num_batches,\n",
    "                       validation_data = (x_test,y_test),\n",
    "                       verbose=1)\n",
    "\n",
    "plot_model_history(model_info, save_plot=False)\n",
    "\n",
    "\n"
   ]
  },
  {
   "cell_type": "code",
   "execution_count": 15,
   "id": "aa848132",
   "metadata": {},
   "outputs": [
    {
     "name": "stdout",
     "output_type": "stream",
     "text": [
      "\n",
      "Making predictions...\n"
     ]
    }
   ],
   "source": [
    "print(\"\\nMaking predictions...\")\n",
    "result = model.predict(x_test)"
   ]
  },
  {
   "cell_type": "code",
   "execution_count": 21,
   "id": "caa0e438",
   "metadata": {},
   "outputs": [
    {
     "name": "stdout",
     "output_type": "stream",
     "text": [
      "\n",
      "Model Testing Accuracy: 38.16%\n"
     ]
    }
   ],
   "source": [
    "#Calc ACC stats\n",
    "predicted_class = np.argmax(result, axis=1)\n",
    "true_class = np.argmax(y_test, axis=1)\n",
    "num_correct = np.sum(predicted_class == true_class) \n",
    "acc = float(num_correct)/len(result) * 100.0\n",
    "print(\"\\nModel Testing Accuracy: {}%\".format(np.round(acc,2)))"
   ]
  },
  {
   "cell_type": "code",
   "execution_count": null,
   "id": "117a6522",
   "metadata": {},
   "outputs": [],
   "source": []
  }
 ],
 "metadata": {
  "kernelspec": {
   "display_name": "Python 3 (ipykernel)",
   "language": "python",
   "name": "python3"
  },
  "language_info": {
   "codemirror_mode": {
    "name": "ipython",
    "version": 3
   },
   "file_extension": ".py",
   "mimetype": "text/x-python",
   "name": "python",
   "nbconvert_exporter": "python",
   "pygments_lexer": "ipython3",
   "version": "3.7.0"
  }
 },
 "nbformat": 4,
 "nbformat_minor": 5
}
